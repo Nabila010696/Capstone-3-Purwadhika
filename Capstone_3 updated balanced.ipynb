{
 "cells": [
  {
   "cell_type": "markdown",
   "id": "cc6eb3ed",
   "metadata": {},
   "source": [
    "<h1>All Imported Dictionary</h1>"
   ]
  },
  {
   "cell_type": "code",
   "execution_count": 51,
   "id": "68293b0f",
   "metadata": {},
   "outputs": [],
   "source": [
    "import pandas as pd\n",
    "import seaborn as sns\n",
    "import pandas as pd\n",
    "import matplotlib.pyplot as plt\n",
    "import numpy as np\n",
    "\n",
    "\n",
    "from sklearn.impute import KNNImputer\n",
    "from sklearn.metrics import confusion_matrix, classification_report\n",
    "from sklearn.linear_model import LogisticRegression\n",
    "from sklearn.ensemble import RandomForestClassifier\n",
    "from sklearn.neighbors import KNeighborsClassifier\n",
    "from sklearn.svm import SVC\n",
    "from sklearn.metrics import accuracy_score, precision_score, recall_score, f1_score, roc_auc_score, mean_absolute_error, mean_squared_error\n",
    "from xgboost import XGBClassifier\n",
    "\n",
    "from sklearn.compose import ColumnTransformer\n",
    "from sklearn.pipeline import Pipeline\n",
    "from sklearn.preprocessing import OneHotEncoder, OrdinalEncoder, StandardScaler\n",
    "\n"
   ]
  },
  {
   "cell_type": "code",
   "execution_count": 52,
   "id": "5dc4e4fa",
   "metadata": {},
   "outputs": [
    {
     "name": "stdout",
     "output_type": "stream",
     "text": [
      "Requirement already satisfied: xgboost in /Users/shofiyamuntazyrahmani/Documents/Nabila/DataScienceJourney/.conda/lib/python3.11/site-packages (3.0.2)\n",
      "Requirement already satisfied: numpy in /Users/shofiyamuntazyrahmani/Documents/Nabila/DataScienceJourney/.conda/lib/python3.11/site-packages (from xgboost) (2.2.5)\n",
      "Requirement already satisfied: scipy in /Users/shofiyamuntazyrahmani/Documents/Nabila/DataScienceJourney/.conda/lib/python3.11/site-packages (from xgboost) (1.15.2)\n",
      "Note: you may need to restart the kernel to use updated packages.\n"
     ]
    }
   ],
   "source": [
    "pip install xgboost"
   ]
  },
  {
   "cell_type": "code",
   "execution_count": 53,
   "id": "dd838bfa",
   "metadata": {},
   "outputs": [
    {
     "name": "stdout",
     "output_type": "stream",
     "text": [
      "Requirement already satisfied: imbalanced-learn in /Users/shofiyamuntazyrahmani/Documents/Nabila/DataScienceJourney/.conda/lib/python3.11/site-packages (0.13.0)\n",
      "Requirement already satisfied: numpy<3,>=1.24.3 in /Users/shofiyamuntazyrahmani/Documents/Nabila/DataScienceJourney/.conda/lib/python3.11/site-packages (from imbalanced-learn) (2.2.5)\n",
      "Requirement already satisfied: scipy<2,>=1.10.1 in /Users/shofiyamuntazyrahmani/Documents/Nabila/DataScienceJourney/.conda/lib/python3.11/site-packages (from imbalanced-learn) (1.15.2)\n",
      "Requirement already satisfied: scikit-learn<2,>=1.3.2 in /Users/shofiyamuntazyrahmani/Documents/Nabila/DataScienceJourney/.conda/lib/python3.11/site-packages (from imbalanced-learn) (1.6.1)\n",
      "Requirement already satisfied: sklearn-compat<1,>=0.1 in /Users/shofiyamuntazyrahmani/Documents/Nabila/DataScienceJourney/.conda/lib/python3.11/site-packages (from imbalanced-learn) (0.1.3)\n",
      "Requirement already satisfied: joblib<2,>=1.1.1 in /Users/shofiyamuntazyrahmani/Documents/Nabila/DataScienceJourney/.conda/lib/python3.11/site-packages (from imbalanced-learn) (1.5.0)\n",
      "Requirement already satisfied: threadpoolctl<4,>=2.0.0 in /Users/shofiyamuntazyrahmani/Documents/Nabila/DataScienceJourney/.conda/lib/python3.11/site-packages (from imbalanced-learn) (3.6.0)\n",
      "Note: you may need to restart the kernel to use updated packages.\n"
     ]
    }
   ],
   "source": [
    "pip install imbalanced-learn\n"
   ]
  },
  {
   "cell_type": "code",
   "execution_count": 54,
   "id": "af4f6778",
   "metadata": {},
   "outputs": [
    {
     "name": "stdout",
     "output_type": "stream",
     "text": [
      "3.0.2\n"
     ]
    }
   ],
   "source": [
    "import xgboost\n",
    "print(xgboost.__version__)\n"
   ]
  },
  {
   "cell_type": "markdown",
   "id": "e86687c4",
   "metadata": {},
   "source": [
    "<h1>Imported Data</h1>"
   ]
  },
  {
   "cell_type": "code",
   "execution_count": 55,
   "id": "2f993ca1",
   "metadata": {},
   "outputs": [
    {
     "data": {
      "application/vnd.microsoft.datawrangler.viewer.v0+json": {
       "columns": [
        {
         "name": "index",
         "rawType": "int64",
         "type": "integer"
        },
        {
         "name": "country",
         "rawType": "object",
         "type": "string"
        },
        {
         "name": "market_segment",
         "rawType": "object",
         "type": "string"
        },
        {
         "name": "previous_cancellations",
         "rawType": "int64",
         "type": "integer"
        },
        {
         "name": "booking_changes",
         "rawType": "int64",
         "type": "integer"
        },
        {
         "name": "deposit_type",
         "rawType": "object",
         "type": "string"
        },
        {
         "name": "days_in_waiting_list",
         "rawType": "int64",
         "type": "integer"
        },
        {
         "name": "customer_type",
         "rawType": "object",
         "type": "string"
        },
        {
         "name": "reserved_room_type",
         "rawType": "object",
         "type": "string"
        },
        {
         "name": "required_car_parking_spaces",
         "rawType": "int64",
         "type": "integer"
        },
        {
         "name": "total_of_special_requests",
         "rawType": "int64",
         "type": "integer"
        },
        {
         "name": "is_canceled",
         "rawType": "int64",
         "type": "integer"
        }
       ],
       "ref": "21c76d71-67f1-4833-a0ee-dfb8a2437c19",
       "rows": [
        [
         "0",
         "IRL",
         "Offline TA/TO",
         "0",
         "0",
         "No Deposit",
         "0",
         "Transient-Party",
         "A",
         "0",
         "0",
         "0"
        ],
        [
         "1",
         "FRA",
         "Online TA",
         "0",
         "0",
         "No Deposit",
         "0",
         "Transient",
         "A",
         "0",
         "2",
         "0"
        ],
        [
         "2",
         "PRT",
         "Online TA",
         "0",
         "1",
         "No Deposit",
         "0",
         "Transient",
         "A",
         "0",
         "2",
         "0"
        ],
        [
         "3",
         "NLD",
         "Online TA",
         "0",
         "0",
         "No Deposit",
         "0",
         "Transient",
         "A",
         "0",
         "1",
         "1"
        ],
        [
         "4",
         "PRT",
         "Online TA",
         "0",
         "2",
         "No Deposit",
         "0",
         "Transient",
         "A",
         "0",
         "2",
         "0"
        ]
       ],
       "shape": {
        "columns": 11,
        "rows": 5
       }
      },
      "text/html": [
       "<div>\n",
       "<style scoped>\n",
       "    .dataframe tbody tr th:only-of-type {\n",
       "        vertical-align: middle;\n",
       "    }\n",
       "\n",
       "    .dataframe tbody tr th {\n",
       "        vertical-align: top;\n",
       "    }\n",
       "\n",
       "    .dataframe thead th {\n",
       "        text-align: right;\n",
       "    }\n",
       "</style>\n",
       "<table border=\"1\" class=\"dataframe\">\n",
       "  <thead>\n",
       "    <tr style=\"text-align: right;\">\n",
       "      <th></th>\n",
       "      <th>country</th>\n",
       "      <th>market_segment</th>\n",
       "      <th>previous_cancellations</th>\n",
       "      <th>booking_changes</th>\n",
       "      <th>deposit_type</th>\n",
       "      <th>days_in_waiting_list</th>\n",
       "      <th>customer_type</th>\n",
       "      <th>reserved_room_type</th>\n",
       "      <th>required_car_parking_spaces</th>\n",
       "      <th>total_of_special_requests</th>\n",
       "      <th>is_canceled</th>\n",
       "    </tr>\n",
       "  </thead>\n",
       "  <tbody>\n",
       "    <tr>\n",
       "      <th>0</th>\n",
       "      <td>IRL</td>\n",
       "      <td>Offline TA/TO</td>\n",
       "      <td>0</td>\n",
       "      <td>0</td>\n",
       "      <td>No Deposit</td>\n",
       "      <td>0</td>\n",
       "      <td>Transient-Party</td>\n",
       "      <td>A</td>\n",
       "      <td>0</td>\n",
       "      <td>0</td>\n",
       "      <td>0</td>\n",
       "    </tr>\n",
       "    <tr>\n",
       "      <th>1</th>\n",
       "      <td>FRA</td>\n",
       "      <td>Online TA</td>\n",
       "      <td>0</td>\n",
       "      <td>0</td>\n",
       "      <td>No Deposit</td>\n",
       "      <td>0</td>\n",
       "      <td>Transient</td>\n",
       "      <td>A</td>\n",
       "      <td>0</td>\n",
       "      <td>2</td>\n",
       "      <td>0</td>\n",
       "    </tr>\n",
       "    <tr>\n",
       "      <th>2</th>\n",
       "      <td>PRT</td>\n",
       "      <td>Online TA</td>\n",
       "      <td>0</td>\n",
       "      <td>1</td>\n",
       "      <td>No Deposit</td>\n",
       "      <td>0</td>\n",
       "      <td>Transient</td>\n",
       "      <td>A</td>\n",
       "      <td>0</td>\n",
       "      <td>2</td>\n",
       "      <td>0</td>\n",
       "    </tr>\n",
       "    <tr>\n",
       "      <th>3</th>\n",
       "      <td>NLD</td>\n",
       "      <td>Online TA</td>\n",
       "      <td>0</td>\n",
       "      <td>0</td>\n",
       "      <td>No Deposit</td>\n",
       "      <td>0</td>\n",
       "      <td>Transient</td>\n",
       "      <td>A</td>\n",
       "      <td>0</td>\n",
       "      <td>1</td>\n",
       "      <td>1</td>\n",
       "    </tr>\n",
       "    <tr>\n",
       "      <th>4</th>\n",
       "      <td>PRT</td>\n",
       "      <td>Online TA</td>\n",
       "      <td>0</td>\n",
       "      <td>2</td>\n",
       "      <td>No Deposit</td>\n",
       "      <td>0</td>\n",
       "      <td>Transient</td>\n",
       "      <td>A</td>\n",
       "      <td>0</td>\n",
       "      <td>2</td>\n",
       "      <td>0</td>\n",
       "    </tr>\n",
       "  </tbody>\n",
       "</table>\n",
       "</div>"
      ],
      "text/plain": [
       "  country market_segment  previous_cancellations  booking_changes  \\\n",
       "0     IRL  Offline TA/TO                       0                0   \n",
       "1     FRA      Online TA                       0                0   \n",
       "2     PRT      Online TA                       0                1   \n",
       "3     NLD      Online TA                       0                0   \n",
       "4     PRT      Online TA                       0                2   \n",
       "\n",
       "  deposit_type  days_in_waiting_list    customer_type reserved_room_type  \\\n",
       "0   No Deposit                     0  Transient-Party                  A   \n",
       "1   No Deposit                     0        Transient                  A   \n",
       "2   No Deposit                     0        Transient                  A   \n",
       "3   No Deposit                     0        Transient                  A   \n",
       "4   No Deposit                     0        Transient                  A   \n",
       "\n",
       "   required_car_parking_spaces  total_of_special_requests  is_canceled  \n",
       "0                            0                          0            0  \n",
       "1                            0                          2            0  \n",
       "2                            0                          2            0  \n",
       "3                            0                          1            1  \n",
       "4                            0                          2            0  "
      ]
     },
     "execution_count": 55,
     "metadata": {},
     "output_type": "execute_result"
    }
   ],
   "source": [
    "data = pd.read_csv('data_hotel_booking_demand.csv')\n",
    "data.head()"
   ]
  },
  {
   "cell_type": "code",
   "execution_count": 56,
   "id": "b57aa63a",
   "metadata": {},
   "outputs": [
    {
     "data": {
      "application/vnd.microsoft.datawrangler.viewer.v0+json": {
       "columns": [
        {
         "name": "index",
         "rawType": "object",
         "type": "string"
        },
        {
         "name": "previous_cancellations",
         "rawType": "float64",
         "type": "float"
        },
        {
         "name": "booking_changes",
         "rawType": "float64",
         "type": "float"
        },
        {
         "name": "days_in_waiting_list",
         "rawType": "float64",
         "type": "float"
        },
        {
         "name": "required_car_parking_spaces",
         "rawType": "float64",
         "type": "float"
        },
        {
         "name": "total_of_special_requests",
         "rawType": "float64",
         "type": "float"
        },
        {
         "name": "is_canceled",
         "rawType": "float64",
         "type": "float"
        }
       ],
       "ref": "f74b8ba8-7109-4944-96a8-fed9596fc63c",
       "rows": [
        [
         "count",
         "83573.0",
         "83573.0",
         "83573.0",
         "83573.0",
         "83573.0",
         "83573.0"
        ],
        [
         "mean",
         "0.08679836789393704",
         "0.22089670108767184",
         "2.33056130568485",
         "0.06299881540688979",
         "0.5732114438873799",
         "0.36827683582018117"
        ],
        [
         "std",
         "0.8410105066372091",
         "0.6486349889478922",
         "17.673051195004433",
         "0.24691925661025427",
         "0.7951633830122106",
         "0.4823399131667478"
        ],
        [
         "min",
         "0.0",
         "0.0",
         "0.0",
         "0.0",
         "0.0",
         "0.0"
        ],
        [
         "25%",
         "0.0",
         "0.0",
         "0.0",
         "0.0",
         "0.0",
         "0.0"
        ],
        [
         "50%",
         "0.0",
         "0.0",
         "0.0",
         "0.0",
         "0.0",
         "0.0"
        ],
        [
         "75%",
         "0.0",
         "0.0",
         "0.0",
         "0.0",
         "1.0",
         "1.0"
        ],
        [
         "max",
         "26.0",
         "21.0",
         "391.0",
         "8.0",
         "5.0",
         "1.0"
        ]
       ],
       "shape": {
        "columns": 6,
        "rows": 8
       }
      },
      "text/html": [
       "<div>\n",
       "<style scoped>\n",
       "    .dataframe tbody tr th:only-of-type {\n",
       "        vertical-align: middle;\n",
       "    }\n",
       "\n",
       "    .dataframe tbody tr th {\n",
       "        vertical-align: top;\n",
       "    }\n",
       "\n",
       "    .dataframe thead th {\n",
       "        text-align: right;\n",
       "    }\n",
       "</style>\n",
       "<table border=\"1\" class=\"dataframe\">\n",
       "  <thead>\n",
       "    <tr style=\"text-align: right;\">\n",
       "      <th></th>\n",
       "      <th>previous_cancellations</th>\n",
       "      <th>booking_changes</th>\n",
       "      <th>days_in_waiting_list</th>\n",
       "      <th>required_car_parking_spaces</th>\n",
       "      <th>total_of_special_requests</th>\n",
       "      <th>is_canceled</th>\n",
       "    </tr>\n",
       "  </thead>\n",
       "  <tbody>\n",
       "    <tr>\n",
       "      <th>count</th>\n",
       "      <td>83573.000000</td>\n",
       "      <td>83573.000000</td>\n",
       "      <td>83573.000000</td>\n",
       "      <td>83573.000000</td>\n",
       "      <td>83573.000000</td>\n",
       "      <td>83573.000000</td>\n",
       "    </tr>\n",
       "    <tr>\n",
       "      <th>mean</th>\n",
       "      <td>0.086798</td>\n",
       "      <td>0.220897</td>\n",
       "      <td>2.330561</td>\n",
       "      <td>0.062999</td>\n",
       "      <td>0.573211</td>\n",
       "      <td>0.368277</td>\n",
       "    </tr>\n",
       "    <tr>\n",
       "      <th>std</th>\n",
       "      <td>0.841011</td>\n",
       "      <td>0.648635</td>\n",
       "      <td>17.673051</td>\n",
       "      <td>0.246919</td>\n",
       "      <td>0.795163</td>\n",
       "      <td>0.482340</td>\n",
       "    </tr>\n",
       "    <tr>\n",
       "      <th>min</th>\n",
       "      <td>0.000000</td>\n",
       "      <td>0.000000</td>\n",
       "      <td>0.000000</td>\n",
       "      <td>0.000000</td>\n",
       "      <td>0.000000</td>\n",
       "      <td>0.000000</td>\n",
       "    </tr>\n",
       "    <tr>\n",
       "      <th>25%</th>\n",
       "      <td>0.000000</td>\n",
       "      <td>0.000000</td>\n",
       "      <td>0.000000</td>\n",
       "      <td>0.000000</td>\n",
       "      <td>0.000000</td>\n",
       "      <td>0.000000</td>\n",
       "    </tr>\n",
       "    <tr>\n",
       "      <th>50%</th>\n",
       "      <td>0.000000</td>\n",
       "      <td>0.000000</td>\n",
       "      <td>0.000000</td>\n",
       "      <td>0.000000</td>\n",
       "      <td>0.000000</td>\n",
       "      <td>0.000000</td>\n",
       "    </tr>\n",
       "    <tr>\n",
       "      <th>75%</th>\n",
       "      <td>0.000000</td>\n",
       "      <td>0.000000</td>\n",
       "      <td>0.000000</td>\n",
       "      <td>0.000000</td>\n",
       "      <td>1.000000</td>\n",
       "      <td>1.000000</td>\n",
       "    </tr>\n",
       "    <tr>\n",
       "      <th>max</th>\n",
       "      <td>26.000000</td>\n",
       "      <td>21.000000</td>\n",
       "      <td>391.000000</td>\n",
       "      <td>8.000000</td>\n",
       "      <td>5.000000</td>\n",
       "      <td>1.000000</td>\n",
       "    </tr>\n",
       "  </tbody>\n",
       "</table>\n",
       "</div>"
      ],
      "text/plain": [
       "       previous_cancellations  booking_changes  days_in_waiting_list  \\\n",
       "count            83573.000000     83573.000000          83573.000000   \n",
       "mean                 0.086798         0.220897              2.330561   \n",
       "std                  0.841011         0.648635             17.673051   \n",
       "min                  0.000000         0.000000              0.000000   \n",
       "25%                  0.000000         0.000000              0.000000   \n",
       "50%                  0.000000         0.000000              0.000000   \n",
       "75%                  0.000000         0.000000              0.000000   \n",
       "max                 26.000000        21.000000            391.000000   \n",
       "\n",
       "       required_car_parking_spaces  total_of_special_requests   is_canceled  \n",
       "count                 83573.000000               83573.000000  83573.000000  \n",
       "mean                      0.062999                   0.573211      0.368277  \n",
       "std                       0.246919                   0.795163      0.482340  \n",
       "min                       0.000000                   0.000000      0.000000  \n",
       "25%                       0.000000                   0.000000      0.000000  \n",
       "50%                       0.000000                   0.000000      0.000000  \n",
       "75%                       0.000000                   1.000000      1.000000  \n",
       "max                       8.000000                   5.000000      1.000000  "
      ]
     },
     "execution_count": 56,
     "metadata": {},
     "output_type": "execute_result"
    }
   ],
   "source": [
    "data.describe()"
   ]
  },
  {
   "cell_type": "code",
   "execution_count": 57,
   "id": "658bf46e",
   "metadata": {},
   "outputs": [
    {
     "name": "stdout",
     "output_type": "stream",
     "text": [
      "<class 'pandas.core.frame.DataFrame'>\n",
      "RangeIndex: 83573 entries, 0 to 83572\n",
      "Data columns (total 11 columns):\n",
      " #   Column                       Non-Null Count  Dtype \n",
      "---  ------                       --------------  ----- \n",
      " 0   country                      83222 non-null  object\n",
      " 1   market_segment               83573 non-null  object\n",
      " 2   previous_cancellations       83573 non-null  int64 \n",
      " 3   booking_changes              83573 non-null  int64 \n",
      " 4   deposit_type                 83573 non-null  object\n",
      " 5   days_in_waiting_list         83573 non-null  int64 \n",
      " 6   customer_type                83573 non-null  object\n",
      " 7   reserved_room_type           83573 non-null  object\n",
      " 8   required_car_parking_spaces  83573 non-null  int64 \n",
      " 9   total_of_special_requests    83573 non-null  int64 \n",
      " 10  is_canceled                  83573 non-null  int64 \n",
      "dtypes: int64(6), object(5)\n",
      "memory usage: 7.0+ MB\n"
     ]
    }
   ],
   "source": [
    "data.info()"
   ]
  },
  {
   "cell_type": "markdown",
   "id": "a67b3c02",
   "metadata": {},
   "source": [
    "<h1>Data Cleaning</h1>"
   ]
  },
  {
   "cell_type": "markdown",
   "id": "385d10a8",
   "metadata": {},
   "source": [
    "<h2>Manual</h2>"
   ]
  },
  {
   "cell_type": "code",
   "execution_count": 58,
   "id": "727bef05",
   "metadata": {},
   "outputs": [
    {
     "name": "stdout",
     "output_type": "stream",
     "text": [
      "country                        351\n",
      "market_segment                   0\n",
      "previous_cancellations           0\n",
      "booking_changes                  0\n",
      "deposit_type                     0\n",
      "days_in_waiting_list             0\n",
      "customer_type                    0\n",
      "reserved_room_type               0\n",
      "required_car_parking_spaces      0\n",
      "total_of_special_requests        0\n",
      "is_canceled                      0\n",
      "dtype: int64\n"
     ]
    }
   ],
   "source": [
    "print(data.isnull().sum())\n",
    "#jumlah missing values ada pada country saja. sebanyak 351 nilai. Coba kita menggunakan pendekatan manual, yang kosong dihapus."
   ]
  },
  {
   "cell_type": "code",
   "execution_count": 59,
   "id": "685614b1",
   "metadata": {},
   "outputs": [
    {
     "name": "stdout",
     "output_type": "stream",
     "text": [
      "Index([  814,  1166,  1304,  1661,  2182,  2530,  2543,  2815,  2827,  3168,\n",
      "       ...\n",
      "       81038, 81817, 81904, 82190, 82271, 82466, 83084, 83106, 83353, 83426],\n",
      "      dtype='int64', length=351)\n",
      "      country market_segment  previous_cancellations  booking_changes  \\\n",
      "814       NaN  Offline TA/TO                       0                0   \n",
      "1166      NaN         Direct                       2                0   \n",
      "1304      NaN         Direct                       0                1   \n",
      "1661      NaN      Corporate                       0                0   \n",
      "2182      NaN      Corporate                       0                0   \n",
      "...       ...            ...                     ...              ...   \n",
      "82466     NaN  Offline TA/TO                       0                0   \n",
      "83084     NaN      Corporate                       0                0   \n",
      "83106     NaN         Direct                       0                0   \n",
      "83353     NaN         Direct                       0                0   \n",
      "83426     NaN         Direct                       0                2   \n",
      "\n",
      "      deposit_type  days_in_waiting_list    customer_type reserved_room_type  \\\n",
      "814     No Deposit                     0  Transient-Party                  A   \n",
      "1166    No Deposit                     0        Transient                  E   \n",
      "1304    No Deposit                     0        Transient                  D   \n",
      "1661    No Deposit                     0        Transient                  A   \n",
      "2182    No Deposit                     0        Transient                  A   \n",
      "...            ...                   ...              ...                ...   \n",
      "82466   No Deposit                     0        Transient                  A   \n",
      "83084   No Deposit                     0        Transient                  A   \n",
      "83106   No Deposit                     0        Transient                  A   \n",
      "83353   No Deposit                     0        Transient                  A   \n",
      "83426   No Deposit                     0        Transient                  A   \n",
      "\n",
      "       required_car_parking_spaces  total_of_special_requests  is_canceled  \n",
      "814                              0                          0            0  \n",
      "1166                             0                          3            1  \n",
      "1304                             0                          1            0  \n",
      "1661                             0                          0            0  \n",
      "2182                             0                          0            0  \n",
      "...                            ...                        ...          ...  \n",
      "82466                            0                          0            0  \n",
      "83084                            0                          0            0  \n",
      "83106                            0                          2            0  \n",
      "83353                            0                          0            0  \n",
      "83426                            0                          1            0  \n",
      "\n",
      "[351 rows x 11 columns]\n"
     ]
    }
   ],
   "source": [
    "# Shows all rows with any missing value\n",
    "missing_rows = data[data.isnull().any(axis=1)]\n",
    "\n",
    "# Display the indexes of those rows\n",
    "print(missing_rows.index)\n",
    "\n",
    "# Optional: show full rows with missing values\n",
    "print(missing_rows)\n"
   ]
  },
  {
   "cell_type": "code",
   "execution_count": 60,
   "id": "cdb964c1",
   "metadata": {},
   "outputs": [
    {
     "name": "stdout",
     "output_type": "stream",
     "text": [
      "country                        0\n",
      "market_segment                 0\n",
      "previous_cancellations         0\n",
      "booking_changes                0\n",
      "deposit_type                   0\n",
      "days_in_waiting_list           0\n",
      "customer_type                  0\n",
      "reserved_room_type             0\n",
      "required_car_parking_spaces    0\n",
      "total_of_special_requests      0\n",
      "is_canceled                    0\n",
      "dtype: int64\n",
      "Original shape: (83573, 11), After dropping: (83222, 11)\n"
     ]
    }
   ],
   "source": [
    "#drop baris dengan missing value\n",
    "data_drop = data.dropna()\n",
    "\n",
    "# Confirm all missing values are removed\n",
    "print(data_drop.isnull().sum())\n",
    "print(f\"Original shape: {data.shape}, After dropping: {data_drop.shape}\")\n"
   ]
  },
  {
   "cell_type": "code",
   "execution_count": 61,
   "id": "79edc4fb",
   "metadata": {},
   "outputs": [
    {
     "name": "stdout",
     "output_type": "stream",
     "text": [
      "      country market_segment  previous_cancellations  booking_changes  \\\n",
      "7         PRT         Groups                       0                0   \n",
      "22        PRT         Groups                       0                0   \n",
      "29        PRT      Online TA                       0                0   \n",
      "34        PRT         Groups                       0                0   \n",
      "44        PRT         Groups                       0                0   \n",
      "...       ...            ...                     ...              ...   \n",
      "83568     PRT      Online TA                       0                0   \n",
      "83569     FRA      Online TA                       0                0   \n",
      "83570     PRT      Online TA                       0                1   \n",
      "83571      CN  Offline TA/TO                       0                0   \n",
      "83572     PRT         Groups                       0                0   \n",
      "\n",
      "      deposit_type  days_in_waiting_list    customer_type reserved_room_type  \\\n",
      "7       Non Refund                     0        Transient                  A   \n",
      "22      Non Refund                     0        Transient                  A   \n",
      "29      No Deposit                     0        Transient                  A   \n",
      "34      Non Refund                     0        Transient                  A   \n",
      "44      Non Refund                     0        Transient                  A   \n",
      "...            ...                   ...              ...                ...   \n",
      "83568   No Deposit                     0         Contract                  A   \n",
      "83569   No Deposit                     0        Transient                  D   \n",
      "83570   No Deposit                     0        Transient                  D   \n",
      "83571   No Deposit                     0  Transient-Party                  A   \n",
      "83572   Non Refund                     0        Transient                  A   \n",
      "\n",
      "       required_car_parking_spaces  total_of_special_requests  is_canceled  \n",
      "7                                0                          0            1  \n",
      "22                               0                          0            1  \n",
      "29                               0                          1            0  \n",
      "34                               0                          0            1  \n",
      "44                               0                          0            1  \n",
      "...                            ...                        ...          ...  \n",
      "83568                            0                          3            1  \n",
      "83569                            0                          2            0  \n",
      "83570                            0                          3            0  \n",
      "83571                            0                          0            0  \n",
      "83572                            0                          0            1  \n",
      "\n",
      "[73138 rows x 11 columns]\n",
      "Number of duplicate rows: 73138\n"
     ]
    }
   ],
   "source": [
    "# Check for duplicate rows (all columns)\n",
    "duplicates = data_drop[data_drop.duplicated()]\n",
    "\n",
    "# Display duplicate rows\n",
    "print(duplicates)\n",
    "\n",
    "# Count number of duplicated rows\n",
    "print(f\"Number of duplicate rows: {duplicates.shape[0]}\")\n"
   ]
  },
  {
   "cell_type": "markdown",
   "id": "81c2d6e9",
   "metadata": {},
   "source": [
    "<h1>Cek Data Unique </h1>"
   ]
  },
  {
   "cell_type": "code",
   "execution_count": 62,
   "id": "9660d4df",
   "metadata": {},
   "outputs": [
    {
     "data": {
      "application/vnd.microsoft.datawrangler.viewer.v0+json": {
       "columns": [
        {
         "name": "index",
         "rawType": "object",
         "type": "string"
        },
        {
         "name": "0",
         "rawType": "int64",
         "type": "integer"
        }
       ],
       "ref": "f6b1cfbe-2a05-446d-a589-976e59e314e3",
       "rows": [
        [
         "country",
         "162"
        ],
        [
         "market_segment",
         "8"
        ],
        [
         "deposit_type",
         "3"
        ],
        [
         "customer_type",
         "4"
        ],
        [
         "reserved_room_type",
         "10"
        ]
       ],
       "shape": {
        "columns": 1,
        "rows": 5
       }
      },
      "text/plain": [
       "country               162\n",
       "market_segment          8\n",
       "deposit_type            3\n",
       "customer_type           4\n",
       "reserved_room_type     10\n",
       "dtype: int64"
      ]
     },
     "execution_count": 62,
     "metadata": {},
     "output_type": "execute_result"
    }
   ],
   "source": [
    "# Cek jumlah nilai unik dari beberapa kolom\n",
    "columns_to_check = [\n",
    "    'country',\n",
    "    'market_segment',\n",
    "    'deposit_type',\n",
    "    'customer_type',\n",
    "    'reserved_room_type'\n",
    "]\n",
    "\n",
    "# Tampilkan jumlah nilai unik\n",
    "data_drop[columns_to_check].nunique()\n"
   ]
  },
  {
   "cell_type": "markdown",
   "id": "1ba6617b",
   "metadata": {},
   "source": [
    "<h1>Cek Outlier</h1>"
   ]
  },
  {
   "cell_type": "code",
   "execution_count": 63,
   "id": "6b6911ba",
   "metadata": {},
   "outputs": [
    {
     "data": {
      "image/png": "[encoded data removed]",
      "text/plain": [
       "<Figure size 800x400 with 1 Axes>"
      ]
     },
     "metadata": {},
     "output_type": "display_data"
    },
    {
     "data": {
      "image/png": "[encoded data removed]",
      "text/plain": [
       "<Figure size 800x400 with 1 Axes>"
      ]
     },
     "metadata": {},
     "output_type": "display_data"
    },
    {
     "data": {
      "image/png": "[encoded data removed]",
      "text/plain": [
       "<Figure size 800x400 with 1 Axes>"
      ]
     },
     "metadata": {},
     "output_type": "display_data"
    },
    {
     "data": {
      "image/png": "[encoded data removed]",
      "text/plain": [
       "<Figure size 800x400 with 1 Axes>"
      ]
     },
     "metadata": {},
     "output_type": "display_data"
    },
    {
     "data": {
      "image/png": "[encoded data removed]",
      "text/plain": [
       "<Figure size 800x400 with 1 Axes>"
      ]
     },
     "metadata": {},
     "output_type": "display_data"
    },
    {
     "data": {
      "application/vnd.microsoft.datawrangler.viewer.v0+json": {
       "columns": [
        {
         "name": "index",
         "rawType": "object",
         "type": "string"
        },
        {
         "name": "Total",
         "rawType": "float64",
         "type": "float"
        },
        {
         "name": "Outlier Count",
         "rawType": "float64",
         "type": "float"
        },
        {
         "name": "Outlier %",
         "rawType": "float64",
         "type": "float"
        }
       ],
       "ref": "6f57d7f1-8d97-4cb5-8c1c-56510ae79222",
       "rows": [
        [
         "days_in_waiting_list",
         "83222.0",
         "2585.0",
         "3.11"
        ],
        [
         "booking_changes",
         "83222.0",
         "12646.0",
         "15.2"
        ],
        [
         "previous_cancellations",
         "83222.0",
         "4490.0",
         "5.4"
        ],
        [
         "required_car_parking_spaces",
         "83222.0",
         "5151.0",
         "6.19"
        ],
        [
         "total_of_special_requests",
         "83222.0",
         "2041.0",
         "2.45"
        ]
       ],
       "shape": {
        "columns": 3,
        "rows": 5
       }
      },
      "text/html": [
       "<div>\n",
       "<style scoped>\n",
       "    .dataframe tbody tr th:only-of-type {\n",
       "        vertical-align: middle;\n",
       "    }\n",
       "\n",
       "    .dataframe tbody tr th {\n",
       "        vertical-align: top;\n",
       "    }\n",
       "\n",
       "    .dataframe thead th {\n",
       "        text-align: right;\n",
       "    }\n",
       "</style>\n",
       "<table border=\"1\" class=\"dataframe\">\n",
       "  <thead>\n",
       "    <tr style=\"text-align: right;\">\n",
       "      <th></th>\n",
       "      <th>Total</th>\n",
       "      <th>Outlier Count</th>\n",
       "      <th>Outlier %</th>\n",
       "    </tr>\n",
       "  </thead>\n",
       "  <tbody>\n",
       "    <tr>\n",
       "      <th>days_in_waiting_list</th>\n",
       "      <td>83222.0</td>\n",
       "      <td>2585.0</td>\n",
       "      <td>3.11</td>\n",
       "    </tr>\n",
       "    <tr>\n",
       "      <th>booking_changes</th>\n",
       "      <td>83222.0</td>\n",
       "      <td>12646.0</td>\n",
       "      <td>15.20</td>\n",
       "    </tr>\n",
       "    <tr>\n",
       "      <th>previous_cancellations</th>\n",
       "      <td>83222.0</td>\n",
       "      <td>4490.0</td>\n",
       "      <td>5.40</td>\n",
       "    </tr>\n",
       "    <tr>\n",
       "      <th>required_car_parking_spaces</th>\n",
       "      <td>83222.0</td>\n",
       "      <td>5151.0</td>\n",
       "      <td>6.19</td>\n",
       "    </tr>\n",
       "    <tr>\n",
       "      <th>total_of_special_requests</th>\n",
       "      <td>83222.0</td>\n",
       "      <td>2041.0</td>\n",
       "      <td>2.45</td>\n",
       "    </tr>\n",
       "  </tbody>\n",
       "</table>\n",
       "</div>"
      ],
      "text/plain": [
       "                               Total  Outlier Count  Outlier %\n",
       "days_in_waiting_list         83222.0         2585.0       3.11\n",
       "booking_changes              83222.0        12646.0      15.20\n",
       "previous_cancellations       83222.0         4490.0       5.40\n",
       "required_car_parking_spaces  83222.0         5151.0       6.19\n",
       "total_of_special_requests    83222.0         2041.0       2.45"
      ]
     },
     "metadata": {},
     "output_type": "display_data"
    }
   ],
   "source": [
    "# Daftar kolom numerik yang akan dicek outlier-nya\n",
    "features_to_check = [\n",
    "    'days_in_waiting_list',\n",
    "    'booking_changes',\n",
    "    'previous_cancellations',\n",
    "    'required_car_parking_spaces',\n",
    "    'total_of_special_requests'\n",
    "]\n",
    "\n",
    "# Dictionary untuk menyimpan ringkasan\n",
    "outlier_summary = {}\n",
    "\n",
    "# Looping setiap kolom\n",
    "for col in features_to_check:\n",
    "    # Hitung Q1, Q3 dan IQR\n",
    "    Q1 = data_drop[col].quantile(0.25)\n",
    "    Q3 = data_drop[col].quantile(0.75)\n",
    "    IQR = Q3 - Q1\n",
    "    lower_bound = Q1 - 1.5 * IQR\n",
    "    upper_bound = Q3 + 1.5 * IQR\n",
    "\n",
    "    # Temukan baris yang merupakan outlier\n",
    "    outliers = data_drop[(data_drop[col] < lower_bound) | (data_drop[col] > upper_bound)]\n",
    "    outlier_count = outliers.shape[0]\n",
    "\n",
    "    # Simpan hasil ke dictionary\n",
    "    outlier_summary[col] = {\n",
    "        'Total': data_drop.shape[0],\n",
    "        'Outlier Count': outlier_count,\n",
    "        'Outlier %': round(outlier_count / data_drop.shape[0] * 100, 2)\n",
    "    }\n",
    "\n",
    "    # Tampilkan boxplot\n",
    "    plt.figure(figsize=(8, 4))\n",
    "    plt.boxplot(data_drop[col], vert=False)\n",
    "    plt.title(f'Boxplot of {col}')\n",
    "    plt.xlabel(col)\n",
    "    plt.grid(True)\n",
    "    plt.show()\n",
    "\n",
    "# Tampilkan ringkasan hasil deteksi outlier\n",
    "outlier_summary_df = pd.DataFrame(outlier_summary).T\n",
    "display(outlier_summary_df)\n"
   ]
  },
  {
   "cell_type": "markdown",
   "id": "c1425481",
   "metadata": {},
   "source": [
    "<h1>Binning</h1>"
   ]
  },
  {
   "cell_type": "markdown",
   "id": "f247da73",
   "metadata": {},
   "source": [
    "Setelah cek outlier dan juga data unique pada masing-masing variable, diputuskan untuk melakukan binning pada 2 variabel. Yang pertama adalah variabel country, yang kedua adalah variable booking changes.\n",
    "Alasan :\n",
    "1. Variable country (data kategori) memiliki data unik cukup banyak, kurang lebih 160 data unik. Sehingga apabila dilakukan encoding, nantinya akan memunculkan banyak feature baru yang berpotensi menimbulkan overfitting pada pemodelan. Bining coba dilakukan dengan melakukan klasifikasi negara berdasarkan :\n",
    "\n",
    "**Europe**: All European continent countries, including non-EU.\n",
    "**Asia**: Includes South Asia, East Asia, Southeast Asia, Central Asia.\n",
    "**Africa**: Includes Northern, Sub-Saharan, and Eastern Africa.\n",
    "**North America**: USA, Canada, Mexico, Central American countries.\n",
    "**South America**: All continental South American countries.\n",
    "**Middle East**: Countries in MENA region not already in Asia/Africa.\n",
    "**Oceania**: Australia, New Zealand, Pacific Island nations.\n",
    "**Other**: Minor territories, rare codes, or undefined zones.\n",
    "\n",
    "2. Variabel booking changes. Setelah melakukan cek outliers, variabel booking changes memiliki outlier diatas 10% yang dapat diasumsikan akan mengganggu proses belajar machine learning. Berdasarkan referensi, binning dapat digunakan untuk memberi perlakuan pada data outlier.\n",
    "\n",
    "https://medium.com/%40noorfatimaafzalbutt/algorithms-sensitive-to-outliers-and-how-to-handle-them-ff989296b9e5"
   ]
  },
  {
   "cell_type": "code",
   "execution_count": 64,
   "id": "9405d079",
   "metadata": {},
   "outputs": [],
   "source": [
    "data = data_drop.copy()"
   ]
  },
  {
   "cell_type": "code",
   "execution_count": 65,
   "id": "15aebfd8",
   "metadata": {},
   "outputs": [
    {
     "name": "stdout",
     "output_type": "stream",
     "text": [
      "country_region\n",
      "Europe           75354\n",
      "South America     1891\n",
      "Other             1594\n",
      "North America     1567\n",
      "Asia              1351\n",
      "Middle East        618\n",
      "Africa             494\n",
      "Oceania            353\n",
      "Name: count, dtype: int64\n"
     ]
    }
   ],
   "source": [
    "# Define country to region mapping\n",
    "region_map = {\n",
    "    # Europe\n",
    "    'PRT': 'Europe', 'ESP': 'Europe', 'FRA': 'Europe', 'GBR': 'Europe', 'DEU': 'Europe',\n",
    "    'ITA': 'Europe', 'NLD': 'Europe', 'BEL': 'Europe', 'CHE': 'Europe', 'AUT': 'Europe',\n",
    "    'SWE': 'Europe', 'NOR': 'Europe', 'DNK': 'Europe', 'FIN': 'Europe', 'IRL': 'Europe',\n",
    "    'POL': 'Europe', 'CZE': 'Europe', 'SVK': 'Europe', 'HUN': 'Europe', 'ROU': 'Europe',\n",
    "    'BGR': 'Europe', 'GRC': 'Europe', 'HRV': 'Europe', 'SVN': 'Europe', 'EST': 'Europe',\n",
    "    'LVA': 'Europe', 'LTU': 'Europe', 'ISL': 'Europe', 'LUX': 'Europe', 'AND': 'Europe',\n",
    "    'MNE': 'Europe', 'ALB': 'Europe', 'MKD': 'Europe', 'BIH': 'Europe', 'BLR': 'Europe',\n",
    "    'RUS': 'Europe', 'GGY': 'Europe', 'IMN': 'Europe', 'JEY': 'Europe', 'FRO': 'Europe',\n",
    "    'LIE': 'Europe',\n",
    "\n",
    "    # Asia\n",
    "    'CHN': 'Asia', 'JPN': 'Asia', 'KOR': 'Asia', 'IND': 'Asia', 'IDN': 'Asia',\n",
    "    'SGP': 'Asia', 'THA': 'Asia', 'VNM': 'Asia', 'PHL': 'Asia', 'MYS': 'Asia',\n",
    "    'PAK': 'Asia', 'BGD': 'Asia', 'LKA': 'Asia', 'TWN': 'Asia', 'MAC': 'Asia',\n",
    "    'KAZ': 'Asia', 'UZB': 'Asia', 'TJK': 'Asia', 'LAO': 'Asia', 'KHM': 'Asia',\n",
    "    'MMR': 'Asia', 'IRN': 'Asia', 'IRQ': 'Asia', 'SYR': 'Asia', 'TMP': 'Asia',\n",
    "\n",
    "    # Africa\n",
    "    'EGY': 'Africa', 'ZAF': 'Africa', 'MAR': 'Africa', 'DZA': 'Africa', 'TUN': 'Africa',\n",
    "    'NGA': 'Africa', 'KEN': 'Africa', 'ETH': 'Africa', 'GHA': 'Africa', 'UGA': 'Africa',\n",
    "    'TZA': 'Africa', 'SEN': 'Africa', 'MOZ': 'Africa', 'CMR': 'Africa', 'ZMB': 'Africa',\n",
    "    'ZWE': 'Africa', 'MLI': 'Africa', 'BEN': 'Africa', 'SDN': 'Africa', 'RWA': 'Africa',\n",
    "    'SLE': 'Africa', 'BDI': 'Africa', 'CAF': 'Africa', 'GAB': 'Africa', 'CIV': 'Africa',\n",
    "    'TGO': 'Africa', 'COM': 'Africa', 'GNB': 'Africa', 'SYC': 'Africa', 'MYT': 'Africa',\n",
    "\n",
    "    # North America\n",
    "    'USA': 'North America', 'CAN': 'North America', 'MEX': 'North America',\n",
    "    'PRI': 'North America', 'CUB': 'North America', 'DOM': 'North America',\n",
    "    'PAN': 'North America', 'GTM': 'North America', 'SLV': 'North America',\n",
    "    'NIC': 'North America', 'HND': 'North America',\n",
    "\n",
    "    # South America\n",
    "    'BRA': 'South America', 'ARG': 'South America', 'CHL': 'South America',\n",
    "    'COL': 'South America', 'PER': 'South America', 'URY': 'South America',\n",
    "    'PRY': 'South America', 'BOL': 'South America', 'ECU': 'South America',\n",
    "    'VEN': 'South America', 'GUY': 'South America', 'SUR': 'South America',\n",
    "\n",
    "    # Oceania\n",
    "    'AUS': 'Oceania', 'NZL': 'Oceania', 'KIR': 'Oceania', 'NCL': 'Oceania',\n",
    "    'PLW': 'Oceania',\n",
    "\n",
    "    # Middle East\n",
    "    'ARE': 'Middle East', 'SAU': 'Middle East', 'QAT': 'Middle East', 'KWT': 'Middle East',\n",
    "    'BHR': 'Middle East', 'JOR': 'Middle East', 'ISR': 'Middle East', 'LBN': 'Middle East',\n",
    "    'OMN': 'Middle East',\n",
    "\n",
    "    # Other or undefined\n",
    "    'ATA': 'Other', 'AIA': 'Other', 'ARM': 'Other', 'ABW': 'Other', 'CYM': 'Other',\n",
    "    'GLP': 'Other', 'DMA': 'Other', 'LCA': 'Other', 'VGB': 'Other', 'UMI': 'Other'\n",
    "}\n",
    "\n",
    "# Apply the mapping\n",
    "data['country_region'] = data['country'].map(region_map).fillna('Other')\n",
    "\n",
    "# Check result (optional)\n",
    "print(data['country_region'].value_counts())\n"
   ]
  },
  {
   "cell_type": "code",
   "execution_count": 66,
   "id": "1d9da670",
   "metadata": {},
   "outputs": [
    {
     "name": "stdout",
     "output_type": "stream",
     "text": [
      "booking_changes_category\n",
      "tidak pernah                70576\n",
      "pernah 1-3 kali             12201\n",
      "pernah lebih dari 3 kali      445\n",
      "Name: count, dtype: int64\n"
     ]
    }
   ],
   "source": [
    "# Fungsi untuk kategorisasi\n",
    "def categorize_booking_changes(x):\n",
    "    if x == 0:\n",
    "        return 'tidak pernah'\n",
    "    elif 1 <= x <= 3:\n",
    "        return 'pernah 1-3 kali'\n",
    "    else:\n",
    "        return 'pernah lebih dari 3 kali'\n",
    "\n",
    "# Terapkan ke kolom baru\n",
    "data['booking_changes_category'] = data['booking_changes'].apply(categorize_booking_changes)\n",
    "\n",
    "# (Opsional) Lihat distribusinya\n",
    "print(data['booking_changes_category'].value_counts())\n"
   ]
  },
  {
   "cell_type": "markdown",
   "id": "80a73041",
   "metadata": {},
   "source": [
    "<h1>Split Data to Train, Test, Val</h1>"
   ]
  },
  {
   "cell_type": "code",
   "execution_count": 67,
   "id": "38fec400",
   "metadata": {},
   "outputs": [
    {
     "name": "stdout",
     "output_type": "stream",
     "text": [
      "X shape: (83222, 10)\n",
      "y shape: (83222,)\n"
     ]
    }
   ],
   "source": [
    "y = data['is_canceled']\n",
    "X = data.drop(columns=['country', 'booking_changes','is_canceled'])\n",
    "\n",
    "\n",
    "# Cek bentuknya\n",
    "print(\"X shape:\", X.shape)\n",
    "print(\"y shape:\", y.shape)\n"
   ]
  },
  {
   "cell_type": "code",
   "execution_count": 68,
   "id": "63e94be1",
   "metadata": {},
   "outputs": [
    {
     "name": "stdout",
     "output_type": "stream",
     "text": [
      "Train size     : 49933\n",
      "Validation size: 16644\n",
      "Test size      : 16645\n"
     ]
    }
   ],
   "source": [
    "from sklearn.model_selection import train_test_split\n",
    "\n",
    "# X = data fitur, y = target is_canceled (0 atau 1)\n",
    "\n",
    "# 1. Split awal: Train (60%) vs Temp (Val+Test 40%)\n",
    "X_train, X_temp, y_train, y_temp = train_test_split(\n",
    "    X, y, \n",
    "    test_size=0.4, \n",
    "    stratify=y, \n",
    "    random_state=1616\n",
    ")\n",
    "\n",
    "# 2. Split Temp: Validation (20%) dan Test (20%)\n",
    "X_val, X_test, y_val, y_test = train_test_split(\n",
    "    X_temp, y_temp, \n",
    "    test_size=0.5, \n",
    "    stratify=y_temp, \n",
    "    random_state=1616\n",
    ")\n",
    "\n",
    "# Cek ukuran data\n",
    "print(f\"Train size     : {X_train.shape[0]}\")\n",
    "print(f\"Validation size: {X_val.shape[0]}\")\n",
    "print(f\"Test size      : {X_test.shape[0]}\")\n"
   ]
  },
  {
   "cell_type": "markdown",
   "id": "6579e5af",
   "metadata": {},
   "source": [
    "<h1>Encode</h1>"
   ]
  },
  {
   "cell_type": "code",
   "execution_count": 69,
   "id": "2513275d",
   "metadata": {},
   "outputs": [
    {
     "name": "stdout",
     "output_type": "stream",
     "text": [
      "<class 'pandas.core.frame.DataFrame'>\n",
      "Index: 83222 entries, 0 to 83572\n",
      "Data columns (total 10 columns):\n",
      " #   Column                       Non-Null Count  Dtype \n",
      "---  ------                       --------------  ----- \n",
      " 0   market_segment               83222 non-null  object\n",
      " 1   previous_cancellations       83222 non-null  int64 \n",
      " 2   deposit_type                 83222 non-null  object\n",
      " 3   days_in_waiting_list         83222 non-null  int64 \n",
      " 4   customer_type                83222 non-null  object\n",
      " 5   reserved_room_type           83222 non-null  object\n",
      " 6   required_car_parking_spaces  83222 non-null  int64 \n",
      " 7   total_of_special_requests    83222 non-null  int64 \n",
      " 8   country_region               83222 non-null  object\n",
      " 9   booking_changes_category     83222 non-null  object\n",
      "dtypes: int64(4), object(6)\n",
      "memory usage: 7.0+ MB\n"
     ]
    }
   ],
   "source": [
    "X.info()"
   ]
  },
  {
   "cell_type": "code",
   "execution_count": 70,
   "id": "476fdf71",
   "metadata": {},
   "outputs": [
    {
     "name": "stdout",
     "output_type": "stream",
     "text": [
      "<class 'pandas.core.series.Series'>\n",
      "Index: 83222 entries, 0 to 83572\n",
      "Series name: is_canceled\n",
      "Non-Null Count  Dtype\n",
      "--------------  -----\n",
      "83222 non-null  int64\n",
      "dtypes: int64(1)\n",
      "memory usage: 1.3 MB\n"
     ]
    }
   ],
   "source": [
    "y.info()"
   ]
  },
  {
   "cell_type": "markdown",
   "id": "8a4943f0",
   "metadata": {},
   "source": [
    "Sebelum masuk ke pemodelan, data non numerik diubah terlebih dahulu menjadi data numerik.\n",
    "1. country : drop\n",
    "2. market segment : OHE\n",
    "3. booking_changes : drop\n",
    "4. deposit_type : OHE\n",
    "5. customer_type : OHE\n",
    "6. reserved_room : OHE\n",
    "7. country_region : OHE\n",
    "8. booking_changes_category : Ordinal"
   ]
  },
  {
   "cell_type": "markdown",
   "id": "14b90304",
   "metadata": {},
   "source": [
    "<h2>Pipeline Transformer</h2>"
   ]
  },
  {
   "cell_type": "code",
   "execution_count": 71,
   "id": "3899d59d",
   "metadata": {},
   "outputs": [],
   "source": [
    "\n",
    "# Kolom encoding\n",
    "ordinal_col = ['booking_changes_category']\n",
    "ordinal_values = [['tidak pernah', 'pernah 1-3 kali', 'pernah lebih dari 3 kali']]\n",
    "\n",
    "onehot_cols = [\n",
    "    'market_segment',\n",
    "    'deposit_type',\n",
    "    'customer_type',\n",
    "    'reserved_room_type',\n",
    "    'country_region'\n",
    "]\n",
    "\n",
    "# Semua kolom numerik lain (kecuali kategorikal)\n",
    "numeric_cols = [col for col in X_train.columns if col not in ordinal_col + onehot_cols]\n",
    "\n",
    "\n",
    "# Define ColumnTransformer\n",
    "preprocessor = ColumnTransformer(transformers=[\n",
    "    ('ordinal', OrdinalEncoder(categories=ordinal_values), ordinal_col),\n",
    "    ('onehot', OneHotEncoder(drop='first', handle_unknown='ignore',sparse_output=False), onehot_cols),\n",
    "    ('num', StandardScaler(), numeric_cols)\n",
    "])\n",
    "\n",
    "# Buat pipeline\n",
    "preprocess_pipeline = Pipeline(steps=[\n",
    "    ('preprocessor', preprocessor)\n",
    "])\n"
   ]
  },
  {
   "cell_type": "code",
   "execution_count": 72,
   "id": "885dab20",
   "metadata": {},
   "outputs": [
    {
     "name": "stdout",
     "output_type": "stream",
     "text": [
      "(49933, 33)\n",
      "(16644, 33)\n"
     ]
    }
   ],
   "source": [
    "X_train_processed = preprocess_pipeline.fit_transform(X_train)\n",
    "print(X_train_processed.shape)\n",
    "X_val_processed = preprocess_pipeline.transform(X_val)\n",
    "print(X_val_processed.shape)\n",
    "\n"
   ]
  },
  {
   "cell_type": "markdown",
   "id": "6a800cce",
   "metadata": {},
   "source": [
    "<h2>Cek hasil Encoding</h2>"
   ]
  },
  {
   "cell_type": "code",
   "execution_count": 73,
   "id": "85d60861",
   "metadata": {},
   "outputs": [
    {
     "data": {
      "application/vnd.microsoft.datawrangler.viewer.v0+json": {
       "columns": [
        {
         "name": "index",
         "rawType": "int64",
         "type": "integer"
        },
        {
         "name": "booking_changes_category",
         "rawType": "float64",
         "type": "float"
        },
        {
         "name": "market_segment_Complementary",
         "rawType": "float64",
         "type": "float"
        },
        {
         "name": "market_segment_Corporate",
         "rawType": "float64",
         "type": "float"
        },
        {
         "name": "market_segment_Direct",
         "rawType": "float64",
         "type": "float"
        },
        {
         "name": "market_segment_Groups",
         "rawType": "float64",
         "type": "float"
        },
        {
         "name": "market_segment_Offline TA/TO",
         "rawType": "float64",
         "type": "float"
        },
        {
         "name": "market_segment_Online TA",
         "rawType": "float64",
         "type": "float"
        },
        {
         "name": "market_segment_Undefined",
         "rawType": "float64",
         "type": "float"
        },
        {
         "name": "deposit_type_Non Refund",
         "rawType": "float64",
         "type": "float"
        },
        {
         "name": "deposit_type_Refundable",
         "rawType": "float64",
         "type": "float"
        },
        {
         "name": "customer_type_Group",
         "rawType": "float64",
         "type": "float"
        },
        {
         "name": "customer_type_Transient",
         "rawType": "float64",
         "type": "float"
        },
        {
         "name": "customer_type_Transient-Party",
         "rawType": "float64",
         "type": "float"
        },
        {
         "name": "reserved_room_type_B",
         "rawType": "float64",
         "type": "float"
        },
        {
         "name": "reserved_room_type_C",
         "rawType": "float64",
         "type": "float"
        },
        {
         "name": "reserved_room_type_D",
         "rawType": "float64",
         "type": "float"
        },
        {
         "name": "reserved_room_type_E",
         "rawType": "float64",
         "type": "float"
        },
        {
         "name": "reserved_room_type_F",
         "rawType": "float64",
         "type": "float"
        },
        {
         "name": "reserved_room_type_G",
         "rawType": "float64",
         "type": "float"
        },
        {
         "name": "reserved_room_type_H",
         "rawType": "float64",
         "type": "float"
        },
        {
         "name": "reserved_room_type_L",
         "rawType": "float64",
         "type": "float"
        },
        {
         "name": "reserved_room_type_P",
         "rawType": "float64",
         "type": "float"
        },
        {
         "name": "country_region_Asia",
         "rawType": "float64",
         "type": "float"
        },
        {
         "name": "country_region_Europe",
         "rawType": "float64",
         "type": "float"
        },
        {
         "name": "country_region_Middle East",
         "rawType": "float64",
         "type": "float"
        },
        {
         "name": "country_region_North America",
         "rawType": "float64",
         "type": "float"
        },
        {
         "name": "country_region_Oceania",
         "rawType": "float64",
         "type": "float"
        },
        {
         "name": "country_region_Other",
         "rawType": "float64",
         "type": "float"
        },
        {
         "name": "country_region_South America",
         "rawType": "float64",
         "type": "float"
        },
        {
         "name": "previous_cancellations",
         "rawType": "float64",
         "type": "float"
        },
        {
         "name": "days_in_waiting_list",
         "rawType": "float64",
         "type": "float"
        },
        {
         "name": "required_car_parking_spaces",
         "rawType": "float64",
         "type": "float"
        },
        {
         "name": "total_of_special_requests",
         "rawType": "float64",
         "type": "float"
        }
       ],
       "ref": "c1e5007e-353b-4515-9fba-208edc9d7e85",
       "rows": [
        [
         "0",
         "0.0",
         "0.0",
         "0.0",
         "0.0",
         "0.0",
         "0.0",
         "1.0",
         "0.0",
         "0.0",
         "0.0",
         "1.0",
         "0.0",
         "0.0",
         "0.0",
         "0.0",
         "0.0",
         "1.0",
         "0.0",
         "0.0",
         "0.0",
         "0.0",
         "0.0",
         "0.0",
         "0.0",
         "0.0",
         "0.0",
         "0.0",
         "0.0",
         "1.0",
         "-0.10474246212061132",
         "-0.13170346693619503",
         "-0.25373377647626666",
         "3.0474557418508765"
        ],
        [
         "1",
         "0.0",
         "1.0",
         "0.0",
         "0.0",
         "0.0",
         "0.0",
         "0.0",
         "0.0",
         "0.0",
         "0.0",
         "0.0",
         "1.0",
         "0.0",
         "0.0",
         "0.0",
         "0.0",
         "0.0",
         "0.0",
         "0.0",
         "0.0",
         "0.0",
         "0.0",
         "0.0",
         "1.0",
         "0.0",
         "0.0",
         "0.0",
         "0.0",
         "0.0",
         "-0.10474246212061132",
         "-0.13170346693619503",
         "-0.25373377647626666",
         "-0.7197466832683227"
        ],
        [
         "2",
         "0.0",
         "0.0",
         "0.0",
         "0.0",
         "0.0",
         "0.0",
         "1.0",
         "0.0",
         "0.0",
         "0.0",
         "0.0",
         "1.0",
         "0.0",
         "0.0",
         "0.0",
         "0.0",
         "0.0",
         "0.0",
         "0.0",
         "0.0",
         "0.0",
         "0.0",
         "0.0",
         "1.0",
         "0.0",
         "0.0",
         "0.0",
         "0.0",
         "0.0",
         "-0.10474246212061132",
         "-0.13170346693619503",
         "-0.25373377647626666",
         "0.535987458438077"
        ],
        [
         "3",
         "0.0",
         "0.0",
         "0.0",
         "1.0",
         "0.0",
         "0.0",
         "0.0",
         "0.0",
         "0.0",
         "0.0",
         "0.0",
         "1.0",
         "0.0",
         "0.0",
         "0.0",
         "1.0",
         "0.0",
         "0.0",
         "0.0",
         "0.0",
         "0.0",
         "0.0",
         "0.0",
         "1.0",
         "0.0",
         "0.0",
         "0.0",
         "0.0",
         "0.0",
         "-0.10474246212061132",
         "-0.13170346693619503",
         "-0.25373377647626666",
         "1.7917216001444767"
        ],
        [
         "4",
         "0.0",
         "0.0",
         "0.0",
         "0.0",
         "0.0",
         "1.0",
         "0.0",
         "0.0",
         "0.0",
         "0.0",
         "0.0",
         "1.0",
         "0.0",
         "0.0",
         "0.0",
         "0.0",
         "0.0",
         "0.0",
         "0.0",
         "0.0",
         "0.0",
         "0.0",
         "0.0",
         "1.0",
         "0.0",
         "0.0",
         "0.0",
         "0.0",
         "0.0",
         "-0.10474246212061132",
         "-0.13170346693619503",
         "-0.25373377647626666",
         "-0.7197466832683227"
        ]
       ],
       "shape": {
        "columns": 33,
        "rows": 5
       }
      },
      "text/html": [
       "<div>\n",
       "<style scoped>\n",
       "    .dataframe tbody tr th:only-of-type {\n",
       "        vertical-align: middle;\n",
       "    }\n",
       "\n",
       "    .dataframe tbody tr th {\n",
       "        vertical-align: top;\n",
       "    }\n",
       "\n",
       "    .dataframe thead th {\n",
       "        text-align: right;\n",
       "    }\n",
       "</style>\n",
       "<table border=\"1\" class=\"dataframe\">\n",
       "  <thead>\n",
       "    <tr style=\"text-align: right;\">\n",
       "      <th></th>\n",
       "      <th>booking_changes_category</th>\n",
       "      <th>market_segment_Complementary</th>\n",
       "      <th>market_segment_Corporate</th>\n",
       "      <th>market_segment_Direct</th>\n",
       "      <th>market_segment_Groups</th>\n",
       "      <th>market_segment_Offline TA/TO</th>\n",
       "      <th>market_segment_Online TA</th>\n",
       "      <th>market_segment_Undefined</th>\n",
       "      <th>deposit_type_Non Refund</th>\n",
       "      <th>deposit_type_Refundable</th>\n",
       "      <th>...</th>\n",
       "      <th>country_region_Europe</th>\n",
       "      <th>country_region_Middle East</th>\n",
       "      <th>country_region_North America</th>\n",
       "      <th>country_region_Oceania</th>\n",
       "      <th>country_region_Other</th>\n",
       "      <th>country_region_South America</th>\n",
       "      <th>previous_cancellations</th>\n",
       "      <th>days_in_waiting_list</th>\n",
       "      <th>required_car_parking_spaces</th>\n",
       "      <th>total_of_special_requests</th>\n",
       "    </tr>\n",
       "  </thead>\n",
       "  <tbody>\n",
       "    <tr>\n",
       "      <th>0</th>\n",
       "      <td>0.0</td>\n",
       "      <td>0.0</td>\n",
       "      <td>0.0</td>\n",
       "      <td>0.0</td>\n",
       "      <td>0.0</td>\n",
       "      <td>0.0</td>\n",
       "      <td>1.0</td>\n",
       "      <td>0.0</td>\n",
       "      <td>0.0</td>\n",
       "      <td>0.0</td>\n",
       "      <td>...</td>\n",
       "      <td>0.0</td>\n",
       "      <td>0.0</td>\n",
       "      <td>0.0</td>\n",
       "      <td>0.0</td>\n",
       "      <td>0.0</td>\n",
       "      <td>1.0</td>\n",
       "      <td>-0.104742</td>\n",
       "      <td>-0.131703</td>\n",
       "      <td>-0.253734</td>\n",
       "      <td>3.047456</td>\n",
       "    </tr>\n",
       "    <tr>\n",
       "      <th>1</th>\n",
       "      <td>0.0</td>\n",
       "      <td>1.0</td>\n",
       "      <td>0.0</td>\n",
       "      <td>0.0</td>\n",
       "      <td>0.0</td>\n",
       "      <td>0.0</td>\n",
       "      <td>0.0</td>\n",
       "      <td>0.0</td>\n",
       "      <td>0.0</td>\n",
       "      <td>0.0</td>\n",
       "      <td>...</td>\n",
       "      <td>1.0</td>\n",
       "      <td>0.0</td>\n",
       "      <td>0.0</td>\n",
       "      <td>0.0</td>\n",
       "      <td>0.0</td>\n",
       "      <td>0.0</td>\n",
       "      <td>-0.104742</td>\n",
       "      <td>-0.131703</td>\n",
       "      <td>-0.253734</td>\n",
       "      <td>-0.719747</td>\n",
       "    </tr>\n",
       "    <tr>\n",
       "      <th>2</th>\n",
       "      <td>0.0</td>\n",
       "      <td>0.0</td>\n",
       "      <td>0.0</td>\n",
       "      <td>0.0</td>\n",
       "      <td>0.0</td>\n",
       "      <td>0.0</td>\n",
       "      <td>1.0</td>\n",
       "      <td>0.0</td>\n",
       "      <td>0.0</td>\n",
       "      <td>0.0</td>\n",
       "      <td>...</td>\n",
       "      <td>1.0</td>\n",
       "      <td>0.0</td>\n",
       "      <td>0.0</td>\n",
       "      <td>0.0</td>\n",
       "      <td>0.0</td>\n",
       "      <td>0.0</td>\n",
       "      <td>-0.104742</td>\n",
       "      <td>-0.131703</td>\n",
       "      <td>-0.253734</td>\n",
       "      <td>0.535987</td>\n",
       "    </tr>\n",
       "    <tr>\n",
       "      <th>3</th>\n",
       "      <td>0.0</td>\n",
       "      <td>0.0</td>\n",
       "      <td>0.0</td>\n",
       "      <td>1.0</td>\n",
       "      <td>0.0</td>\n",
       "      <td>0.0</td>\n",
       "      <td>0.0</td>\n",
       "      <td>0.0</td>\n",
       "      <td>0.0</td>\n",
       "      <td>0.0</td>\n",
       "      <td>...</td>\n",
       "      <td>1.0</td>\n",
       "      <td>0.0</td>\n",
       "      <td>0.0</td>\n",
       "      <td>0.0</td>\n",
       "      <td>0.0</td>\n",
       "      <td>0.0</td>\n",
       "      <td>-0.104742</td>\n",
       "      <td>-0.131703</td>\n",
       "      <td>-0.253734</td>\n",
       "      <td>1.791722</td>\n",
       "    </tr>\n",
       "    <tr>\n",
       "      <th>4</th>\n",
       "      <td>0.0</td>\n",
       "      <td>0.0</td>\n",
       "      <td>0.0</td>\n",
       "      <td>0.0</td>\n",
       "      <td>0.0</td>\n",
       "      <td>1.0</td>\n",
       "      <td>0.0</td>\n",
       "      <td>0.0</td>\n",
       "      <td>0.0</td>\n",
       "      <td>0.0</td>\n",
       "      <td>...</td>\n",
       "      <td>1.0</td>\n",
       "      <td>0.0</td>\n",
       "      <td>0.0</td>\n",
       "      <td>0.0</td>\n",
       "      <td>0.0</td>\n",
       "      <td>0.0</td>\n",
       "      <td>-0.104742</td>\n",
       "      <td>-0.131703</td>\n",
       "      <td>-0.253734</td>\n",
       "      <td>-0.719747</td>\n",
       "    </tr>\n",
       "  </tbody>\n",
       "</table>\n",
       "<p>5 rows × 33 columns</p>\n",
       "</div>"
      ],
      "text/plain": [
       "   booking_changes_category  market_segment_Complementary  \\\n",
       "0                       0.0                           0.0   \n",
       "1                       0.0                           1.0   \n",
       "2                       0.0                           0.0   \n",
       "3                       0.0                           0.0   \n",
       "4                       0.0                           0.0   \n",
       "\n",
       "   market_segment_Corporate  market_segment_Direct  market_segment_Groups  \\\n",
       "0                       0.0                    0.0                    0.0   \n",
       "1                       0.0                    0.0                    0.0   \n",
       "2                       0.0                    0.0                    0.0   \n",
       "3                       0.0                    1.0                    0.0   \n",
       "4                       0.0                    0.0                    0.0   \n",
       "\n",
       "   market_segment_Offline TA/TO  market_segment_Online TA  \\\n",
       "0                           0.0                       1.0   \n",
       "1                           0.0                       0.0   \n",
       "2                           0.0                       1.0   \n",
       "3                           0.0                       0.0   \n",
       "4                           1.0                       0.0   \n",
       "\n",
       "   market_segment_Undefined  deposit_type_Non Refund  deposit_type_Refundable  \\\n",
       "0                       0.0                      0.0                      0.0   \n",
       "1                       0.0                      0.0                      0.0   \n",
       "2                       0.0                      0.0                      0.0   \n",
       "3                       0.0                      0.0                      0.0   \n",
       "4                       0.0                      0.0                      0.0   \n",
       "\n",
       "   ...  country_region_Europe  country_region_Middle East  \\\n",
       "0  ...                    0.0                         0.0   \n",
       "1  ...                    1.0                         0.0   \n",
       "2  ...                    1.0                         0.0   \n",
       "3  ...                    1.0                         0.0   \n",
       "4  ...                    1.0                         0.0   \n",
       "\n",
       "   country_region_North America  country_region_Oceania  country_region_Other  \\\n",
       "0                           0.0                     0.0                   0.0   \n",
       "1                           0.0                     0.0                   0.0   \n",
       "2                           0.0                     0.0                   0.0   \n",
       "3                           0.0                     0.0                   0.0   \n",
       "4                           0.0                     0.0                   0.0   \n",
       "\n",
       "   country_region_South America  previous_cancellations  days_in_waiting_list  \\\n",
       "0                           1.0               -0.104742             -0.131703   \n",
       "1                           0.0               -0.104742             -0.131703   \n",
       "2                           0.0               -0.104742             -0.131703   \n",
       "3                           0.0               -0.104742             -0.131703   \n",
       "4                           0.0               -0.104742             -0.131703   \n",
       "\n",
       "   required_car_parking_spaces  total_of_special_requests  \n",
       "0                    -0.253734                   3.047456  \n",
       "1                    -0.253734                  -0.719747  \n",
       "2                    -0.253734                   0.535987  \n",
       "3                    -0.253734                   1.791722  \n",
       "4                    -0.253734                  -0.719747  \n",
       "\n",
       "[5 rows x 33 columns]"
      ]
     },
     "execution_count": 73,
     "metadata": {},
     "output_type": "execute_result"
    }
   ],
   "source": [
    "# Nama kolom dari OrdinalEncoder\n",
    "ordinal_feature_names = ordinal_col\n",
    "\n",
    "# Nama kolom dari OneHotEncoder\n",
    "ohe_feature_names = list(\n",
    "    preprocess_pipeline.named_steps['preprocessor']\n",
    "    .named_transformers_['onehot']\n",
    "    .get_feature_names_out(onehot_cols)\n",
    ")\n",
    "\n",
    "# Nama kolom dari StandardScaler\n",
    "numeric_feature_names = numeric_cols\n",
    "\n",
    "# Gabungkan semua nama kolom akhir\n",
    "final_columns = ordinal_feature_names + ohe_feature_names + numeric_feature_names\n",
    "\n",
    "# 3. Transformasi data\n",
    "X_train_transformed = preprocess_pipeline.transform(X_train)\n",
    "\n",
    "# 4. Konversi ke DataFrame\n",
    "import pandas as pd\n",
    "\n",
    "X_train_data = pd.DataFrame(X_train_transformed, columns=final_columns)\n",
    "X_train_data.head()\n"
   ]
  },
  {
   "cell_type": "markdown",
   "id": "722ee473",
   "metadata": {},
   "source": [
    "<h1>Balancing Data</h1>"
   ]
  },
  {
   "cell_type": "code",
   "execution_count": 74,
   "id": "57e6383a",
   "metadata": {},
   "outputs": [
    {
     "name": "stdout",
     "output_type": "stream",
     "text": [
      "Distribusi Persentase Label pada Data Train:\n",
      "is_canceled\n",
      "0    63.072517\n",
      "1    36.927483\n",
      "Name: proportion, dtype: float64\n"
     ]
    },
    {
     "data": {
      "image/png": "[encoded data removed]",
      "text/plain": [
       "<Figure size 640x480 with 1 Axes>"
      ]
     },
     "metadata": {},
     "output_type": "display_data"
    }
   ],
   "source": [
    "import pandas as pd\n",
    "\n",
    "# Cek distribusi target pada data training\n",
    "train_distribution = y_train.value_counts(normalize=True) * 100\n",
    "print(\"Distribusi Persentase Label pada Data Train:\")\n",
    "print(train_distribution)\n",
    "\n",
    "# Visualisasi bar plot\n",
    "import matplotlib.pyplot as plt\n",
    "\n",
    "train_distribution.plot(kind='bar', color='skyblue')\n",
    "plt.title('Distribusi Label pada Data Train')\n",
    "plt.xlabel('Label')\n",
    "plt.ylabel('Persentase (%)')\n",
    "plt.xticks(rotation=0)\n",
    "plt.grid(axis='y', linestyle='--', alpha=0.7)\n",
    "plt.tight_layout()\n",
    "plt.show()\n"
   ]
  },
  {
   "cell_type": "code",
   "execution_count": 75,
   "id": "584fb438",
   "metadata": {},
   "outputs": [
    {
     "name": "stdout",
     "output_type": "stream",
     "text": [
      "Distribusi label sebelum balancing: Counter({0: 31494, 1: 18439})\n",
      "Distribusi label sesudah balancing: Counter({0: 31494, 1: 31494})\n"
     ]
    }
   ],
   "source": [
    "from imblearn.over_sampling import SMOTE\n",
    "from collections import Counter\n",
    "\n",
    "# SMOTE instance\n",
    "smote = SMOTE(random_state=1616)\n",
    "\n",
    "# Lakukan oversampling hanya pada data train (X_train, y_train)\n",
    "X_train_balanced, y_train_balanced = smote.fit_resample(X_train_processed, y_train)\n",
    "\n",
    "# Cek distribusi baru\n",
    "print(\"Distribusi label sebelum balancing:\", Counter(y_train))\n",
    "print(\"Distribusi label sesudah balancing:\", Counter(y_train_balanced))\n",
    "\n",
    "X_train_balanced_df = pd.DataFrame(X_train_balanced, columns=feature_names)\n"
   ]
  },
  {
   "cell_type": "markdown",
   "id": "68b7a984",
   "metadata": {},
   "source": [
    "<h1>Modeling</h1>"
   ]
  },
  {
   "cell_type": "code",
   "execution_count": 133,
   "id": "5b744e77",
   "metadata": {},
   "outputs": [
    {
     "name": "stderr",
     "output_type": "stream",
     "text": [
      "/Users/shofiyamuntazyrahmani/Documents/Nabila/DataScienceJourney/.conda/lib/python3.11/site-packages/xgboost/training.py:183: UserWarning: [22:24:57] WARNING: /Users/runner/work/xgboost/xgboost/src/learner.cc:738: \n",
      "Parameters: { \"use_label_encoder\" } are not used.\n",
      "\n",
      "  bst.update(dtrain, iteration=i, fobj=obj)\n"
     ]
    },
    {
     "name": "stdout",
     "output_type": "stream",
     "text": [
      "\n",
      "=== Model Comparison ===\n"
     ]
    },
    {
     "data": {
      "application/vnd.microsoft.datawrangler.viewer.v0+json": {
       "columns": [
        {
         "name": "index",
         "rawType": "int64",
         "type": "integer"
        },
        {
         "name": "Model",
         "rawType": "object",
         "type": "string"
        },
        {
         "name": "Accuracy",
         "rawType": "float64",
         "type": "float"
        },
        {
         "name": "Precision",
         "rawType": "float64",
         "type": "float"
        },
        {
         "name": "Recall",
         "rawType": "float64",
         "type": "float"
        },
        {
         "name": "F1 Score",
         "rawType": "float64",
         "type": "float"
        }
       ],
       "ref": "ff5fcd0f-4d1c-44f6-837e-5a11d40882d6",
       "rows": [
        [
         "0",
         "Logistic Regression",
         "0.7424",
         "0.6311",
         "0.7276",
         "0.6759"
        ],
        [
         "1",
         "Random Forest",
         "0.7921",
         "0.7507",
         "0.6541",
         "0.6991"
        ],
        [
         "7",
         "XGBoost",
         "0.7895",
         "0.7453",
         "0.6533",
         "0.6963"
        ],
        [
         "2",
         "Decision Tree",
         "0.7921",
         "0.7527",
         "0.6507",
         "0.698"
        ],
        [
         "3",
         "SVM",
         "0.7912",
         "0.761",
         "0.6333",
         "0.6913"
        ],
        [
         "5",
         "AdaBoost",
         "0.7864",
         "0.7555",
         "0.6233",
         "0.6831"
        ],
        [
         "6",
         "Gradient Boosting",
         "0.7931",
         "0.7747",
         "0.6199",
         "0.6887"
        ],
        [
         "4",
         "KNN",
         "0.7758",
         "0.8683",
         "0.4632",
         "0.6041"
        ]
       ],
       "shape": {
        "columns": 5,
        "rows": 8
       }
      },
      "text/html": [
       "<div>\n",
       "<style scoped>\n",
       "    .dataframe tbody tr th:only-of-type {\n",
       "        vertical-align: middle;\n",
       "    }\n",
       "\n",
       "    .dataframe tbody tr th {\n",
       "        vertical-align: top;\n",
       "    }\n",
       "\n",
       "    .dataframe thead th {\n",
       "        text-align: right;\n",
       "    }\n",
       "</style>\n",
       "<table border=\"1\" class=\"dataframe\">\n",
       "  <thead>\n",
       "    <tr style=\"text-align: right;\">\n",
       "      <th></th>\n",
       "      <th>Model</th>\n",
       "      <th>Accuracy</th>\n",
       "      <th>Precision</th>\n",
       "      <th>Recall</th>\n",
       "      <th>F1 Score</th>\n",
       "    </tr>\n",
       "  </thead>\n",
       "  <tbody>\n",
       "    <tr>\n",
       "      <th>0</th>\n",
       "      <td>Logistic Regression</td>\n",
       "      <td>0.7424</td>\n",
       "      <td>0.6311</td>\n",
       "      <td>0.7276</td>\n",
       "      <td>0.6759</td>\n",
       "    </tr>\n",
       "    <tr>\n",
       "      <th>1</th>\n",
       "      <td>Random Forest</td>\n",
       "      <td>0.7921</td>\n",
       "      <td>0.7507</td>\n",
       "      <td>0.6541</td>\n",
       "      <td>0.6991</td>\n",
       "    </tr>\n",
       "    <tr>\n",
       "      <th>7</th>\n",
       "      <td>XGBoost</td>\n",
       "      <td>0.7895</td>\n",
       "      <td>0.7453</td>\n",
       "      <td>0.6533</td>\n",
       "      <td>0.6963</td>\n",
       "    </tr>\n",
       "    <tr>\n",
       "      <th>2</th>\n",
       "      <td>Decision Tree</td>\n",
       "      <td>0.7921</td>\n",
       "      <td>0.7527</td>\n",
       "      <td>0.6507</td>\n",
       "      <td>0.6980</td>\n",
       "    </tr>\n",
       "    <tr>\n",
       "      <th>3</th>\n",
       "      <td>SVM</td>\n",
       "      <td>0.7912</td>\n",
       "      <td>0.7610</td>\n",
       "      <td>0.6333</td>\n",
       "      <td>0.6913</td>\n",
       "    </tr>\n",
       "    <tr>\n",
       "      <th>5</th>\n",
       "      <td>AdaBoost</td>\n",
       "      <td>0.7864</td>\n",
       "      <td>0.7555</td>\n",
       "      <td>0.6233</td>\n",
       "      <td>0.6831</td>\n",
       "    </tr>\n",
       "    <tr>\n",
       "      <th>6</th>\n",
       "      <td>Gradient Boosting</td>\n",
       "      <td>0.7931</td>\n",
       "      <td>0.7747</td>\n",
       "      <td>0.6199</td>\n",
       "      <td>0.6887</td>\n",
       "    </tr>\n",
       "    <tr>\n",
       "      <th>4</th>\n",
       "      <td>KNN</td>\n",
       "      <td>0.7758</td>\n",
       "      <td>0.8683</td>\n",
       "      <td>0.4632</td>\n",
       "      <td>0.6041</td>\n",
       "    </tr>\n",
       "  </tbody>\n",
       "</table>\n",
       "</div>"
      ],
      "text/plain": [
       "                 Model  Accuracy  Precision  Recall  F1 Score\n",
       "0  Logistic Regression    0.7424     0.6311  0.7276    0.6759\n",
       "1        Random Forest    0.7921     0.7507  0.6541    0.6991\n",
       "7              XGBoost    0.7895     0.7453  0.6533    0.6963\n",
       "2        Decision Tree    0.7921     0.7527  0.6507    0.6980\n",
       "3                  SVM    0.7912     0.7610  0.6333    0.6913\n",
       "5             AdaBoost    0.7864     0.7555  0.6233    0.6831\n",
       "6    Gradient Boosting    0.7931     0.7747  0.6199    0.6887\n",
       "4                  KNN    0.7758     0.8683  0.4632    0.6041"
      ]
     },
     "metadata": {},
     "output_type": "display_data"
    }
   ],
   "source": [
    "from sklearn.linear_model import LogisticRegression\n",
    "from sklearn.ensemble import RandomForestClassifier, AdaBoostClassifier, GradientBoostingClassifier\n",
    "from sklearn.tree import DecisionTreeClassifier\n",
    "from sklearn.svm import SVC\n",
    "from sklearn.neighbors import KNeighborsClassifier\n",
    "from xgboost import XGBClassifier\n",
    "\n",
    "from sklearn.metrics import accuracy_score, precision_score, recall_score, f1_score\n",
    "import pandas as pd\n",
    "\n",
    "# Inisialisasi model-model\n",
    "models = {\n",
    "    'Logistic Regression': LogisticRegression(max_iter=1000),\n",
    "    'Random Forest': RandomForestClassifier(),\n",
    "    'Decision Tree': DecisionTreeClassifier(),\n",
    "    'SVM': SVC(),\n",
    "    'KNN': KNeighborsClassifier(),\n",
    "    'AdaBoost': AdaBoostClassifier(),\n",
    "    'Gradient Boosting': GradientBoostingClassifier(),\n",
    "    'XGBoost': XGBClassifier(use_label_encoder=False, eval_metric='logloss')  \n",
    "}\n",
    "\n",
    "# Simpan hasil evaluasi\n",
    "results = []\n",
    "\n",
    "for name, model in models.items():\n",
    "    model.fit(X_train_balanced, y_train_balanced)\n",
    "    y_pred = model.predict(X_val_processed)\n",
    "\n",
    "    acc = accuracy_score(y_val, y_pred)\n",
    "    prec = precision_score(y_val, y_pred)\n",
    "    rec = recall_score(y_val, y_pred)\n",
    "    f1 = f1_score(y_val, y_pred)\n",
    "\n",
    "    results.append({\n",
    "        'Model': name,\n",
    "        'Accuracy': round(acc, 4),\n",
    "        'Precision': round(prec, 4),\n",
    "        'Recall': round(rec, 4),\n",
    "        'F1 Score': round(f1, 4)\n",
    "    })\n",
    "\n",
    "# Tampilkan hasil\n",
    "results_df = pd.DataFrame(results).sort_values(by='Recall', ascending=False)\n",
    "print(\"\\n=== Model Comparison ===\")\n",
    "display(results_df)\n"
   ]
  },
  {
   "cell_type": "markdown",
   "id": "78c1ca1c",
   "metadata": {},
   "source": [
    "Dari hasil pengujian model, dapat dilihat bahwa Random Forest memiliki Akurasi dan Recall tertinggi dibandingkan model lainnya. Untuk itu selanjutnya Hypertuning dilakukan untuk model Random Forest. \n"
   ]
  },
  {
   "cell_type": "markdown",
   "id": "b218c1c0",
   "metadata": {},
   "source": [
    "<h1>Hypertuning</h1>"
   ]
  },
  {
   "cell_type": "markdown",
   "id": "43a4b14b",
   "metadata": {},
   "source": [
    "<h2>Random Forest</h2>"
   ]
  },
  {
   "cell_type": "code",
   "execution_count": 121,
   "id": "f6818897",
   "metadata": {},
   "outputs": [
    {
     "name": "stdout",
     "output_type": "stream",
     "text": [
      "Fitting 5 folds for each of 30 candidates, totalling 150 fits\n",
      "[CV] END bootstrap=True, class_weight=balanced, criterion=entropy, max_depth=None, max_features=sqrt, min_samples_leaf=2, min_samples_split=2, n_estimators=144; total time=   5.0s\n",
      "[CV] END bootstrap=True, class_weight=balanced, criterion=entropy, max_depth=None, max_features=sqrt, min_samples_leaf=2, min_samples_split=2, n_estimators=144; total time=   5.1s\n",
      "[CV] END bootstrap=True, class_weight=balanced, criterion=entropy, max_depth=None, max_features=sqrt, min_samples_leaf=2, min_samples_split=2, n_estimators=144; total time=   5.2s\n",
      "[CV] END bootstrap=True, class_weight=balanced, criterion=entropy, max_depth=None, max_features=sqrt, min_samples_leaf=2, min_samples_split=2, n_estimators=144; total time=   5.3s\n",
      "[CV] END bootstrap=True, class_weight=balanced, criterion=entropy, max_depth=None, max_features=sqrt, min_samples_leaf=2, min_samples_split=2, n_estimators=144; total time=   5.3s\n",
      "[CV] END bootstrap=False, class_weight=balanced, criterion=log_loss, max_depth=10, max_features=log2, min_samples_leaf=2, min_samples_split=5, n_estimators=236; total time=   9.4s\n",
      "[CV] END bootstrap=False, class_weight=balanced, criterion=log_loss, max_depth=10, max_features=log2, min_samples_leaf=2, min_samples_split=5, n_estimators=236; total time=   9.5s\n",
      "[CV] END bootstrap=False, class_weight=balanced, criterion=log_loss, max_depth=10, max_features=log2, min_samples_leaf=2, min_samples_split=5, n_estimators=236; total time=   9.8s\n",
      "[CV] END bootstrap=True, class_weight=balanced, criterion=gini, max_depth=None, max_features=log2, min_samples_leaf=2, min_samples_split=5, n_estimators=187; total time=   6.2s\n",
      "[CV] END bootstrap=True, class_weight=balanced, criterion=gini, max_depth=None, max_features=log2, min_samples_leaf=2, min_samples_split=5, n_estimators=187; total time=   6.2s\n",
      "[CV] END bootstrap=True, class_weight=balanced, criterion=gini, max_depth=None, max_features=log2, min_samples_leaf=2, min_samples_split=5, n_estimators=187; total time=   6.4s\n",
      "[CV] END bootstrap=False, class_weight=balanced, criterion=log_loss, max_depth=10, max_features=log2, min_samples_leaf=2, min_samples_split=5, n_estimators=236; total time=   9.5s\n",
      "[CV] END bootstrap=False, class_weight=balanced, criterion=log_loss, max_depth=10, max_features=log2, min_samples_leaf=2, min_samples_split=5, n_estimators=236; total time=   9.9s\n",
      "[CV] END bootstrap=True, class_weight=balanced, criterion=gini, max_depth=None, max_features=log2, min_samples_leaf=2, min_samples_split=5, n_estimators=187; total time=   6.2s\n",
      "[CV] END bootstrap=True, class_weight=balanced, criterion=gini, max_depth=None, max_features=log2, min_samples_leaf=2, min_samples_split=5, n_estimators=187; total time=   6.6s\n",
      "[CV] END bootstrap=False, class_weight=balanced_subsample, criterion=entropy, max_depth=10, max_features=sqrt, min_samples_leaf=2, min_samples_split=2, n_estimators=199; total time=   7.8s\n",
      "[CV] END bootstrap=False, class_weight=balanced_subsample, criterion=entropy, max_depth=10, max_features=sqrt, min_samples_leaf=2, min_samples_split=2, n_estimators=199; total time=   8.1s\n",
      "[CV] END bootstrap=False, class_weight=balanced_subsample, criterion=entropy, max_depth=10, max_features=sqrt, min_samples_leaf=2, min_samples_split=2, n_estimators=199; total time=   8.1s\n",
      "[CV] END bootstrap=False, class_weight=balanced_subsample, criterion=entropy, max_depth=10, max_features=sqrt, min_samples_leaf=2, min_samples_split=2, n_estimators=199; total time=   8.1s\n",
      "[CV] END bootstrap=False, class_weight=balanced_subsample, criterion=entropy, max_depth=10, max_features=sqrt, min_samples_leaf=2, min_samples_split=2, n_estimators=199; total time=   7.1s\n",
      "[CV] END bootstrap=True, class_weight=balanced_subsample, criterion=log_loss, max_depth=None, max_features=log2, min_samples_leaf=1, min_samples_split=2, n_estimators=230; total time=  10.1s\n",
      "[CV] END bootstrap=True, class_weight=balanced_subsample, criterion=log_loss, max_depth=None, max_features=log2, min_samples_leaf=1, min_samples_split=2, n_estimators=230; total time=  10.5s\n",
      "[CV] END bootstrap=True, class_weight=balanced_subsample, criterion=log_loss, max_depth=None, max_features=log2, min_samples_leaf=1, min_samples_split=2, n_estimators=230; total time=  10.9s\n",
      "[CV] END bootstrap=False, class_weight=balanced_subsample, criterion=log_loss, max_depth=20, max_features=log2, min_samples_leaf=2, min_samples_split=2, n_estimators=181; total time=   7.9s\n",
      "[CV] END bootstrap=False, class_weight=balanced_subsample, criterion=log_loss, max_depth=20, max_features=log2, min_samples_leaf=2, min_samples_split=2, n_estimators=181; total time=   8.1s\n",
      "[CV] END bootstrap=True, class_weight=balanced_subsample, criterion=log_loss, max_depth=None, max_features=log2, min_samples_leaf=1, min_samples_split=2, n_estimators=230; total time=  10.5s\n",
      "[CV] END bootstrap=False, class_weight=balanced_subsample, criterion=log_loss, max_depth=20, max_features=log2, min_samples_leaf=2, min_samples_split=2, n_estimators=181; total time=   8.3s\n",
      "[CV] END bootstrap=True, class_weight=balanced_subsample, criterion=log_loss, max_depth=None, max_features=log2, min_samples_leaf=1, min_samples_split=2, n_estimators=230; total time=  10.7s\n",
      "[CV] END bootstrap=False, class_weight=balanced_subsample, criterion=log_loss, max_depth=20, max_features=log2, min_samples_leaf=2, min_samples_split=2, n_estimators=181; total time=   8.9s\n",
      "[CV] END bootstrap=False, class_weight=balanced_subsample, criterion=log_loss, max_depth=20, max_features=log2, min_samples_leaf=2, min_samples_split=2, n_estimators=181; total time=   8.8s\n",
      "[CV] END bootstrap=False, class_weight=None, criterion=entropy, max_depth=None, max_features=log2, min_samples_leaf=2, min_samples_split=10, n_estimators=213; total time=  10.0s\n",
      "[CV] END bootstrap=False, class_weight=None, criterion=entropy, max_depth=None, max_features=log2, min_samples_leaf=2, min_samples_split=10, n_estimators=213; total time=   9.9s\n",
      "[CV] END bootstrap=False, class_weight=None, criterion=log_loss, max_depth=20, max_features=log2, min_samples_leaf=4, min_samples_split=10, n_estimators=161; total time=   7.2s\n",
      "[CV] END bootstrap=False, class_weight=None, criterion=entropy, max_depth=None, max_features=log2, min_samples_leaf=2, min_samples_split=10, n_estimators=213; total time=   9.9s\n",
      "[CV] END bootstrap=False, class_weight=None, criterion=entropy, max_depth=None, max_features=log2, min_samples_leaf=2, min_samples_split=10, n_estimators=213; total time=   9.9s\n",
      "[CV] END bootstrap=False, class_weight=None, criterion=entropy, max_depth=None, max_features=log2, min_samples_leaf=2, min_samples_split=10, n_estimators=213; total time=  10.0s\n",
      "[CV] END bootstrap=True, class_weight=None, criterion=entropy, max_depth=20, max_features=log2, min_samples_leaf=1, min_samples_split=2, n_estimators=101; total time=   3.3s\n",
      "[CV] END bootstrap=True, class_weight=None, criterion=entropy, max_depth=20, max_features=log2, min_samples_leaf=1, min_samples_split=2, n_estimators=101; total time=   3.5s\n",
      "[CV] END bootstrap=False, class_weight=None, criterion=log_loss, max_depth=20, max_features=log2, min_samples_leaf=4, min_samples_split=10, n_estimators=161; total time=   7.3s\n",
      "[CV] END bootstrap=True, class_weight=None, criterion=entropy, max_depth=20, max_features=log2, min_samples_leaf=1, min_samples_split=2, n_estimators=101; total time=   3.5s\n",
      "[CV] END bootstrap=False, class_weight=None, criterion=log_loss, max_depth=20, max_features=log2, min_samples_leaf=4, min_samples_split=10, n_estimators=161; total time=   6.6s\n",
      "[CV] END bootstrap=False, class_weight=None, criterion=log_loss, max_depth=20, max_features=log2, min_samples_leaf=4, min_samples_split=10, n_estimators=161; total time=   6.7s\n",
      "[CV] END bootstrap=True, class_weight=None, criterion=entropy, max_depth=20, max_features=log2, min_samples_leaf=1, min_samples_split=2, n_estimators=101; total time=   3.4s\n",
      "[CV] END bootstrap=False, class_weight=None, criterion=log_loss, max_depth=20, max_features=log2, min_samples_leaf=4, min_samples_split=10, n_estimators=161; total time=   6.4s\n",
      "[CV] END bootstrap=True, class_weight=None, criterion=entropy, max_depth=20, max_features=log2, min_samples_leaf=1, min_samples_split=2, n_estimators=101; total time=   3.3s\n",
      "[CV] END bootstrap=True, class_weight=balanced, criterion=gini, max_depth=20, max_features=log2, min_samples_leaf=1, min_samples_split=5, n_estimators=168; total time=   5.3s\n",
      "[CV] END bootstrap=True, class_weight=balanced, criterion=gini, max_depth=20, max_features=log2, min_samples_leaf=1, min_samples_split=5, n_estimators=168; total time=   5.0s\n",
      "[CV] END bootstrap=True, class_weight=balanced, criterion=gini, max_depth=20, max_features=log2, min_samples_leaf=1, min_samples_split=5, n_estimators=168; total time=   4.9s\n",
      "[CV] END bootstrap=True, class_weight=balanced, criterion=gini, max_depth=20, max_features=log2, min_samples_leaf=1, min_samples_split=5, n_estimators=168; total time=   5.3s\n",
      "[CV] END bootstrap=True, class_weight=balanced, criterion=gini, max_depth=20, max_features=log2, min_samples_leaf=1, min_samples_split=5, n_estimators=168; total time=   5.3s\n",
      "[CV] END bootstrap=True, class_weight=balanced, criterion=entropy, max_depth=None, max_features=sqrt, min_samples_leaf=2, min_samples_split=5, n_estimators=110; total time=   3.5s\n",
      "[CV] END bootstrap=True, class_weight=None, criterion=entropy, max_depth=20, max_features=sqrt, min_samples_leaf=4, min_samples_split=2, n_estimators=262; total time=   7.5s\n",
      "[CV] END bootstrap=True, class_weight=balanced, criterion=entropy, max_depth=None, max_features=sqrt, min_samples_leaf=2, min_samples_split=5, n_estimators=110; total time=   3.6s\n",
      "[CV] END bootstrap=True, class_weight=None, criterion=entropy, max_depth=20, max_features=sqrt, min_samples_leaf=4, min_samples_split=2, n_estimators=262; total time=   7.1s\n",
      "[CV] END bootstrap=True, class_weight=None, criterion=entropy, max_depth=20, max_features=sqrt, min_samples_leaf=4, min_samples_split=2, n_estimators=262; total time=   7.4s\n",
      "[CV] END bootstrap=True, class_weight=balanced, criterion=entropy, max_depth=None, max_features=sqrt, min_samples_leaf=2, min_samples_split=5, n_estimators=110; total time=   3.8s\n",
      "[CV] END bootstrap=True, class_weight=balanced, criterion=entropy, max_depth=None, max_features=sqrt, min_samples_leaf=2, min_samples_split=5, n_estimators=110; total time=   3.9s\n",
      "[CV] END bootstrap=True, class_weight=None, criterion=entropy, max_depth=20, max_features=sqrt, min_samples_leaf=4, min_samples_split=2, n_estimators=262; total time=   7.8s\n",
      "[CV] END bootstrap=True, class_weight=None, criterion=entropy, max_depth=20, max_features=sqrt, min_samples_leaf=4, min_samples_split=2, n_estimators=262; total time=   7.6s\n",
      "[CV] END bootstrap=True, class_weight=balanced, criterion=entropy, max_depth=None, max_features=sqrt, min_samples_leaf=2, min_samples_split=5, n_estimators=110; total time=   4.0s\n",
      "[CV] END bootstrap=False, class_weight=None, criterion=gini, max_depth=10, max_features=sqrt, min_samples_leaf=4, min_samples_split=2, n_estimators=133; total time=   5.3s\n",
      "[CV] END bootstrap=False, class_weight=None, criterion=gini, max_depth=10, max_features=sqrt, min_samples_leaf=4, min_samples_split=2, n_estimators=133; total time=   5.2s\n",
      "[CV] END bootstrap=False, class_weight=None, criterion=gini, max_depth=10, max_features=sqrt, min_samples_leaf=4, min_samples_split=2, n_estimators=133; total time=   5.2s\n",
      "[CV] END bootstrap=False, class_weight=None, criterion=gini, max_depth=10, max_features=sqrt, min_samples_leaf=4, min_samples_split=2, n_estimators=133; total time=   5.1s\n",
      "[CV] END bootstrap=True, class_weight=balanced, criterion=entropy, max_depth=None, max_features=log2, min_samples_leaf=2, min_samples_split=5, n_estimators=121; total time=   4.3s\n",
      "[CV] END bootstrap=True, class_weight=balanced, criterion=entropy, max_depth=None, max_features=log2, min_samples_leaf=2, min_samples_split=5, n_estimators=121; total time=   4.6s\n",
      "[CV] END bootstrap=False, class_weight=None, criterion=gini, max_depth=10, max_features=sqrt, min_samples_leaf=4, min_samples_split=2, n_estimators=133; total time=   5.0s\n",
      "[CV] END bootstrap=True, class_weight=balanced, criterion=entropy, max_depth=None, max_features=log2, min_samples_leaf=2, min_samples_split=5, n_estimators=121; total time=   4.6s\n",
      "[CV] END bootstrap=True, class_weight=balanced, criterion=entropy, max_depth=None, max_features=log2, min_samples_leaf=2, min_samples_split=5, n_estimators=121; total time=   4.3s\n",
      "[CV] END bootstrap=True, class_weight=balanced, criterion=entropy, max_depth=None, max_features=log2, min_samples_leaf=2, min_samples_split=5, n_estimators=121; total time=   4.1s\n",
      "[CV] END bootstrap=False, class_weight=balanced, criterion=log_loss, max_depth=20, max_features=sqrt, min_samples_leaf=2, min_samples_split=2, n_estimators=242; total time=  12.6s\n",
      "[CV] END bootstrap=False, class_weight=balanced, criterion=log_loss, max_depth=20, max_features=sqrt, min_samples_leaf=2, min_samples_split=2, n_estimators=242; total time=  13.2s\n",
      "[CV] END bootstrap=False, class_weight=None, criterion=gini, max_depth=None, max_features=sqrt, min_samples_leaf=4, min_samples_split=10, n_estimators=232; total time=  11.4s\n",
      "[CV] END bootstrap=False, class_weight=None, criterion=gini, max_depth=None, max_features=sqrt, min_samples_leaf=4, min_samples_split=10, n_estimators=232; total time=  11.1s\n",
      "[CV] END bootstrap=False, class_weight=None, criterion=gini, max_depth=None, max_features=sqrt, min_samples_leaf=4, min_samples_split=10, n_estimators=232; total time=  11.2s\n",
      "[CV] END bootstrap=False, class_weight=balanced, criterion=log_loss, max_depth=20, max_features=sqrt, min_samples_leaf=2, min_samples_split=2, n_estimators=242; total time=  13.3s\n",
      "[CV] END bootstrap=False, class_weight=balanced, criterion=log_loss, max_depth=20, max_features=sqrt, min_samples_leaf=2, min_samples_split=2, n_estimators=242; total time=  13.3s\n",
      "[CV] END bootstrap=False, class_weight=balanced, criterion=log_loss, max_depth=20, max_features=sqrt, min_samples_leaf=2, min_samples_split=2, n_estimators=242; total time=  13.3s\n",
      "[CV] END bootstrap=True, class_weight=balanced, criterion=log_loss, max_depth=10, max_features=sqrt, min_samples_leaf=1, min_samples_split=2, n_estimators=161; total time=   4.7s\n",
      "[CV] END bootstrap=True, class_weight=balanced, criterion=log_loss, max_depth=20, max_features=log2, min_samples_leaf=4, min_samples_split=5, n_estimators=233; total time=   7.2s\n",
      "[CV] END bootstrap=True, class_weight=balanced, criterion=log_loss, max_depth=20, max_features=log2, min_samples_leaf=4, min_samples_split=5, n_estimators=233; total time=   7.0s\n",
      "[CV] END bootstrap=True, class_weight=balanced, criterion=log_loss, max_depth=20, max_features=log2, min_samples_leaf=4, min_samples_split=5, n_estimators=233; total time=   7.1s\n",
      "[CV] END bootstrap=True, class_weight=balanced, criterion=log_loss, max_depth=20, max_features=log2, min_samples_leaf=4, min_samples_split=5, n_estimators=233; total time=   7.0s\n",
      "[CV] END bootstrap=True, class_weight=balanced, criterion=log_loss, max_depth=20, max_features=log2, min_samples_leaf=4, min_samples_split=5, n_estimators=233; total time=   6.9s\n",
      "[CV] END bootstrap=False, class_weight=None, criterion=gini, max_depth=None, max_features=sqrt, min_samples_leaf=4, min_samples_split=10, n_estimators=232; total time=   9.9s\n",
      "[CV] END bootstrap=False, class_weight=None, criterion=gini, max_depth=None, max_features=sqrt, min_samples_leaf=4, min_samples_split=10, n_estimators=232; total time=   9.5s\n",
      "[CV] END bootstrap=True, class_weight=balanced, criterion=log_loss, max_depth=10, max_features=sqrt, min_samples_leaf=1, min_samples_split=2, n_estimators=161; total time=   4.4s\n",
      "[CV] END bootstrap=True, class_weight=balanced, criterion=log_loss, max_depth=10, max_features=sqrt, min_samples_leaf=1, min_samples_split=2, n_estimators=161; total time=   4.8s\n",
      "[CV] END bootstrap=True, class_weight=balanced, criterion=log_loss, max_depth=10, max_features=sqrt, min_samples_leaf=1, min_samples_split=2, n_estimators=161; total time=   4.7s\n",
      "[CV] END bootstrap=True, class_weight=balanced, criterion=log_loss, max_depth=10, max_features=sqrt, min_samples_leaf=1, min_samples_split=2, n_estimators=161; total time=   4.7s\n",
      "[CV] END bootstrap=False, class_weight=None, criterion=log_loss, max_depth=10, max_features=sqrt, min_samples_leaf=2, min_samples_split=2, n_estimators=139; total time=   5.6s\n",
      "[CV] END bootstrap=False, class_weight=None, criterion=log_loss, max_depth=10, max_features=sqrt, min_samples_leaf=2, min_samples_split=2, n_estimators=139; total time=   5.9s\n",
      "[CV] END bootstrap=False, class_weight=None, criterion=log_loss, max_depth=10, max_features=sqrt, min_samples_leaf=2, min_samples_split=2, n_estimators=139; total time=   5.7s\n",
      "[CV] END bootstrap=False, class_weight=None, criterion=log_loss, max_depth=10, max_features=sqrt, min_samples_leaf=2, min_samples_split=2, n_estimators=139; total time=   5.5s\n",
      "[CV] END bootstrap=False, class_weight=None, criterion=log_loss, max_depth=10, max_features=sqrt, min_samples_leaf=2, min_samples_split=2, n_estimators=139; total time=   5.5s\n",
      "[CV] END bootstrap=True, class_weight=None, criterion=gini, max_depth=20, max_features=log2, min_samples_leaf=2, min_samples_split=10, n_estimators=204; total time=   6.8s\n",
      "[CV] END bootstrap=True, class_weight=None, criterion=gini, max_depth=20, max_features=log2, min_samples_leaf=2, min_samples_split=10, n_estimators=204; total time=   7.1s\n",
      "[CV] END bootstrap=True, class_weight=None, criterion=gini, max_depth=20, max_features=log2, min_samples_leaf=2, min_samples_split=10, n_estimators=204; total time=   6.8s\n",
      "[CV] END bootstrap=True, class_weight=None, criterion=gini, max_depth=20, max_features=log2, min_samples_leaf=2, min_samples_split=10, n_estimators=204; total time=   6.7s\n",
      "[CV] END bootstrap=True, class_weight=None, criterion=gini, max_depth=20, max_features=log2, min_samples_leaf=2, min_samples_split=10, n_estimators=204; total time=   6.5s\n",
      "[CV] END bootstrap=True, class_weight=balanced_subsample, criterion=entropy, max_depth=None, max_features=sqrt, min_samples_leaf=2, min_samples_split=2, n_estimators=272; total time=  11.1s\n",
      "[CV] END bootstrap=True, class_weight=balanced_subsample, criterion=entropy, max_depth=None, max_features=sqrt, min_samples_leaf=2, min_samples_split=2, n_estimators=272; total time=  10.9s\n",
      "[CV] END bootstrap=True, class_weight=balanced_subsample, criterion=entropy, max_depth=None, max_features=sqrt, min_samples_leaf=2, min_samples_split=2, n_estimators=272; total time=  10.6s\n",
      "[CV] END bootstrap=True, class_weight=balanced_subsample, criterion=gini, max_depth=None, max_features=sqrt, min_samples_leaf=4, min_samples_split=2, n_estimators=286; total time=  10.1s\n",
      "[CV] END bootstrap=True, class_weight=balanced_subsample, criterion=entropy, max_depth=None, max_features=sqrt, min_samples_leaf=2, min_samples_split=2, n_estimators=272; total time=  10.4s\n",
      "[CV] END bootstrap=True, class_weight=balanced_subsample, criterion=entropy, max_depth=None, max_features=sqrt, min_samples_leaf=2, min_samples_split=2, n_estimators=272; total time=  10.4s\n",
      "[CV] END bootstrap=True, class_weight=balanced_subsample, criterion=gini, max_depth=None, max_features=sqrt, min_samples_leaf=4, min_samples_split=2, n_estimators=286; total time=  10.2s\n",
      "[CV] END bootstrap=True, class_weight=balanced_subsample, criterion=gini, max_depth=None, max_features=sqrt, min_samples_leaf=4, min_samples_split=2, n_estimators=286; total time=  10.3s\n",
      "[CV] END bootstrap=True, class_weight=balanced, criterion=entropy, max_depth=10, max_features=log2, min_samples_leaf=2, min_samples_split=5, n_estimators=204; total time=   4.8s\n",
      "[CV] END bootstrap=True, class_weight=balanced, criterion=entropy, max_depth=10, max_features=log2, min_samples_leaf=2, min_samples_split=5, n_estimators=204; total time=   5.2s\n",
      "[CV] END bootstrap=True, class_weight=balanced, criterion=entropy, max_depth=10, max_features=log2, min_samples_leaf=2, min_samples_split=5, n_estimators=204; total time=   5.1s\n",
      "[CV] END bootstrap=True, class_weight=balanced, criterion=entropy, max_depth=10, max_features=log2, min_samples_leaf=2, min_samples_split=5, n_estimators=204; total time=   5.2s\n",
      "[CV] END bootstrap=True, class_weight=balanced_subsample, criterion=log_loss, max_depth=20, max_features=sqrt, min_samples_leaf=4, min_samples_split=10, n_estimators=119; total time=   4.5s\n",
      "[CV] END bootstrap=True, class_weight=balanced_subsample, criterion=gini, max_depth=None, max_features=sqrt, min_samples_leaf=4, min_samples_split=2, n_estimators=286; total time=  10.5s\n",
      "[CV] END bootstrap=True, class_weight=balanced, criterion=entropy, max_depth=10, max_features=log2, min_samples_leaf=2, min_samples_split=5, n_estimators=204; total time=   5.4s\n",
      "[CV] END bootstrap=True, class_weight=balanced_subsample, criterion=log_loss, max_depth=20, max_features=sqrt, min_samples_leaf=4, min_samples_split=10, n_estimators=119; total time=   4.6s\n",
      "[CV] END bootstrap=True, class_weight=balanced_subsample, criterion=gini, max_depth=None, max_features=sqrt, min_samples_leaf=4, min_samples_split=2, n_estimators=286; total time=  10.6s\n",
      "[CV] END bootstrap=True, class_weight=balanced_subsample, criterion=log_loss, max_depth=20, max_features=sqrt, min_samples_leaf=4, min_samples_split=10, n_estimators=119; total time=   4.2s\n",
      "[CV] END bootstrap=True, class_weight=balanced_subsample, criterion=log_loss, max_depth=20, max_features=sqrt, min_samples_leaf=4, min_samples_split=10, n_estimators=119; total time=   4.3s\n",
      "[CV] END bootstrap=True, class_weight=balanced_subsample, criterion=log_loss, max_depth=20, max_features=sqrt, min_samples_leaf=4, min_samples_split=10, n_estimators=119; total time=   4.5s\n",
      "[CV] END bootstrap=True, class_weight=balanced_subsample, criterion=log_loss, max_depth=None, max_features=log2, min_samples_leaf=2, min_samples_split=2, n_estimators=282; total time=  11.6s\n",
      "[CV] END bootstrap=True, class_weight=balanced_subsample, criterion=log_loss, max_depth=None, max_features=log2, min_samples_leaf=2, min_samples_split=2, n_estimators=282; total time=  12.1s\n",
      "[CV] END bootstrap=True, class_weight=balanced_subsample, criterion=log_loss, max_depth=None, max_features=log2, min_samples_leaf=2, min_samples_split=2, n_estimators=282; total time=  11.5s\n",
      "[CV] END bootstrap=True, class_weight=balanced_subsample, criterion=log_loss, max_depth=None, max_features=log2, min_samples_leaf=2, min_samples_split=2, n_estimators=282; total time=  11.8s\n",
      "[CV] END bootstrap=True, class_weight=balanced_subsample, criterion=log_loss, max_depth=None, max_features=log2, min_samples_leaf=2, min_samples_split=2, n_estimators=282; total time=  12.0s\n",
      "[CV] END bootstrap=False, class_weight=balanced, criterion=log_loss, max_depth=20, max_features=sqrt, min_samples_leaf=2, min_samples_split=10, n_estimators=233; total time=  11.5s\n",
      "[CV] END bootstrap=False, class_weight=balanced, criterion=log_loss, max_depth=20, max_features=sqrt, min_samples_leaf=2, min_samples_split=10, n_estimators=233; total time=  11.7s\n",
      "[CV] END bootstrap=False, class_weight=balanced, criterion=log_loss, max_depth=20, max_features=sqrt, min_samples_leaf=2, min_samples_split=10, n_estimators=233; total time=  11.7s\n",
      "[CV] END bootstrap=True, class_weight=balanced, criterion=entropy, max_depth=20, max_features=log2, min_samples_leaf=4, min_samples_split=5, n_estimators=162; total time=   5.9s\n",
      "[CV] END bootstrap=False, class_weight=balanced_subsample, criterion=gini, max_depth=10, max_features=sqrt, min_samples_leaf=1, min_samples_split=5, n_estimators=272; total time=  11.8s\n",
      "[CV] END bootstrap=False, class_weight=balanced, criterion=log_loss, max_depth=20, max_features=sqrt, min_samples_leaf=2, min_samples_split=10, n_estimators=233; total time=  12.7s\n",
      "[CV] END bootstrap=False, class_weight=balanced_subsample, criterion=gini, max_depth=10, max_features=sqrt, min_samples_leaf=1, min_samples_split=5, n_estimators=272; total time=  12.2s\n",
      "[CV] END bootstrap=False, class_weight=balanced_subsample, criterion=gini, max_depth=10, max_features=sqrt, min_samples_leaf=1, min_samples_split=5, n_estimators=272; total time=  11.8s\n",
      "[CV] END bootstrap=False, class_weight=balanced, criterion=log_loss, max_depth=20, max_features=sqrt, min_samples_leaf=2, min_samples_split=10, n_estimators=233; total time=  12.9s\n",
      "[CV] END bootstrap=False, class_weight=balanced_subsample, criterion=gini, max_depth=10, max_features=sqrt, min_samples_leaf=1, min_samples_split=5, n_estimators=272; total time=  11.6s\n",
      "[CV] END bootstrap=False, class_weight=balanced_subsample, criterion=gini, max_depth=10, max_features=sqrt, min_samples_leaf=1, min_samples_split=5, n_estimators=272; total time=  11.5s\n",
      "[CV] END bootstrap=True, class_weight=balanced, criterion=entropy, max_depth=20, max_features=log2, min_samples_leaf=4, min_samples_split=5, n_estimators=162; total time=   5.5s\n",
      "[CV] END bootstrap=True, class_weight=balanced, criterion=entropy, max_depth=20, max_features=log2, min_samples_leaf=4, min_samples_split=2, n_estimators=100; total time=   3.0s\n",
      "[CV] END bootstrap=True, class_weight=balanced, criterion=entropy, max_depth=20, max_features=log2, min_samples_leaf=4, min_samples_split=2, n_estimators=100; total time=   3.3s\n",
      "[CV] END bootstrap=True, class_weight=balanced, criterion=entropy, max_depth=20, max_features=log2, min_samples_leaf=4, min_samples_split=5, n_estimators=162; total time=   5.0s\n",
      "[CV] END bootstrap=True, class_weight=balanced, criterion=entropy, max_depth=20, max_features=log2, min_samples_leaf=4, min_samples_split=5, n_estimators=162; total time=   5.0s\n",
      "[CV] END bootstrap=True, class_weight=balanced, criterion=entropy, max_depth=20, max_features=log2, min_samples_leaf=4, min_samples_split=5, n_estimators=162; total time=   5.0s\n",
      "[CV] END bootstrap=True, class_weight=balanced, criterion=entropy, max_depth=20, max_features=log2, min_samples_leaf=4, min_samples_split=2, n_estimators=100; total time=   3.2s\n",
      "[CV] END bootstrap=True, class_weight=balanced, criterion=entropy, max_depth=20, max_features=log2, min_samples_leaf=4, min_samples_split=2, n_estimators=100; total time=   3.3s\n",
      "[CV] END bootstrap=True, class_weight=balanced, criterion=entropy, max_depth=20, max_features=log2, min_samples_leaf=4, min_samples_split=2, n_estimators=100; total time=   3.4s\n",
      "[CV] END bootstrap=False, class_weight=balanced_subsample, criterion=log_loss, max_depth=10, max_features=sqrt, min_samples_leaf=1, min_samples_split=5, n_estimators=164; total time=   5.3s\n",
      "[CV] END bootstrap=False, class_weight=balanced_subsample, criterion=log_loss, max_depth=10, max_features=sqrt, min_samples_leaf=1, min_samples_split=5, n_estimators=164; total time=   5.3s\n",
      "[CV] END bootstrap=False, class_weight=balanced_subsample, criterion=log_loss, max_depth=10, max_features=sqrt, min_samples_leaf=1, min_samples_split=5, n_estimators=164; total time=   5.0s\n",
      "[CV] END bootstrap=False, class_weight=balanced_subsample, criterion=log_loss, max_depth=10, max_features=sqrt, min_samples_leaf=1, min_samples_split=5, n_estimators=164; total time=   4.5s\n",
      "[CV] END bootstrap=False, class_weight=balanced_subsample, criterion=log_loss, max_depth=10, max_features=sqrt, min_samples_leaf=1, min_samples_split=5, n_estimators=164; total time=   4.4s\n",
      "Best Parameters: {'bootstrap': True, 'class_weight': 'balanced_subsample', 'criterion': 'log_loss', 'max_depth': None, 'max_features': 'log2', 'min_samples_leaf': 1, 'min_samples_split': 2, 'n_estimators': 230}\n",
      "Best Recall (CV): 0.6689531941915805\n",
      "\n",
      "=== Default Threshold (0.5) ===\n",
      "Accuracy : 0.7927781783225186\n",
      "Precision: 0.7524808088372964\n",
      "Recall   : 0.6539212495932314\n",
      "F1 Score : 0.6997475406981806\n",
      "\n",
      "=== Custom Threshold (0.3) ===\n",
      "Accuracy : 0.6715332852679644\n",
      "Precision: 0.5327355124867419\n",
      "Recall   : 0.8989586723071916\n",
      "F1 Score : 0.6690076890476478\n"
     ]
    },
    {
     "data": {
      "image/png": "[encoded data removed]",
      "text/plain": [
       "<Figure size 500x400 with 2 Axes>"
      ]
     },
     "metadata": {},
     "output_type": "display_data"
    }
   ],
   "source": [
    "from sklearn.ensemble import RandomForestClassifier\n",
    "from sklearn.model_selection import RandomizedSearchCV\n",
    "from scipy.stats import randint\n",
    "from sklearn.metrics import accuracy_score, precision_score, recall_score, f1_score, classification_report, confusion_matrix\n",
    "import matplotlib.pyplot as plt\n",
    "import seaborn as sns\n",
    "import pandas as pd\n",
    "\n",
    "# Model awal\n",
    "rf = RandomForestClassifier(class_weight='balanced',random_state=1616)\n",
    "\n",
    "# Parameter tambahan untuk tuning\n",
    "param_dist = {\n",
    "    'n_estimators': randint(100, 300),\n",
    "    'max_depth': [10, 20, None],\n",
    "    'min_samples_split': [2, 5, 10],\n",
    "    'min_samples_leaf': [1, 2, 4],\n",
    "    'max_features': ['sqrt', 'log2'],\n",
    "    'bootstrap': [True, False],\n",
    "    'class_weight': ['balanced', 'balanced_subsample', None],\n",
    "    'criterion': ['gini', 'entropy', 'log_loss']\n",
    "}\n",
    "\n",
    "# Randomized Search CV\n",
    "random_search = RandomizedSearchCV(\n",
    "    estimator=rf,\n",
    "    param_distributions=param_dist,\n",
    "    n_iter=30,\n",
    "    cv=5,\n",
    "    scoring='recall',  # Fokus pada recall\n",
    "    verbose=2,\n",
    "    n_jobs=-1,\n",
    "    random_state=1616\n",
    ")\n",
    "\n",
    "# Fit model\n",
    "random_search.fit(X_train_balanced, y_train_balanced)\n",
    "\n",
    "# Hasil terbaik\n",
    "print(\"Best Parameters:\", random_search.best_params_)\n",
    "print(\"Best Recall (CV):\", random_search.best_score_)\n",
    "\n",
    "# === Evaluasi di Data Validasi ===\n",
    "best_rf = random_search.best_estimator_\n",
    "\n",
    "# Default threshold (0.5)\n",
    "y_pred_val_default = best_rf.predict(X_val_processed)\n",
    "print(\"\\n=== Default Threshold (0.5) ===\")\n",
    "print(\"Accuracy :\", accuracy_score(y_val, y_pred_val_default))\n",
    "print(\"Precision:\", precision_score(y_val, y_pred_val_default))\n",
    "print(\"Recall   :\", recall_score(y_val, y_pred_val_default))\n",
    "print(\"F1 Score :\", f1_score(y_val, y_pred_val_default))\n",
    "\n",
    "# === Custom Threshold (e.g., 0.3) ===\n",
    "y_proba_val = best_rf.predict_proba(X_val_processed)[:, 1]\n",
    "y_pred_val_custom = (y_proba_val >= 0.3).astype(int)\n",
    "\n",
    "print(\"\\n=== Custom Threshold (0.3) ===\")\n",
    "print(\"Accuracy :\", accuracy_score(y_val, y_pred_val_custom))\n",
    "print(\"Precision:\", precision_score(y_val, y_pred_val_custom))\n",
    "print(\"Recall   :\", recall_score(y_val, y_pred_val_custom))\n",
    "print(\"F1 Score :\", f1_score(y_val, y_pred_val_custom))\n",
    "\n",
    "# === Confusion Matrix (optional) ===\n",
    "cm = confusion_matrix(y_val, y_pred_val_custom)\n",
    "plt.figure(figsize=(5, 4))\n",
    "sns.heatmap(cm, annot=True, fmt=\"d\", cmap=\"Blues\")\n",
    "plt.title(\"Confusion Matrix with Threshold = 0.3\")\n",
    "plt.xlabel(\"Predicted\")\n",
    "plt.ylabel(\"Actual\")\n",
    "plt.tight_layout()\n",
    "plt.show()\n"
   ]
  },
  {
   "cell_type": "code",
   "execution_count": 129,
   "id": "001447aa",
   "metadata": {},
   "outputs": [
    {
     "data": {
      "text/html": [
       "<style>#sk-container-id-1 {\n",
       "  /* Definition of color scheme common for light and dark mode */\n",
       "  --sklearn-color-text: #000;\n",
       "  --sklearn-color-text-muted: #666;\n",
       "  --sklearn-color-line: gray;\n",
       "  /* Definition of color scheme for unfitted estimators */\n",
       "  --sklearn-color-unfitted-level-0: #fff5e6;\n",
       "  --sklearn-color-unfitted-level-1: #f6e4d2;\n",
       "  --sklearn-color-unfitted-level-2: #ffe0b3;\n",
       "  --sklearn-color-unfitted-level-3: chocolate;\n",
       "  /* Definition of color scheme for fitted estimators */\n",
       "  --sklearn-color-fitted-level-0: #f0f8ff;\n",
       "  --sklearn-color-fitted-level-1: #d4ebff;\n",
       "  --sklearn-color-fitted-level-2: #b3dbfd;\n",
       "  --sklearn-color-fitted-level-3: cornflowerblue;\n",
       "\n",
       "  /* Specific color for light theme */\n",
       "  --sklearn-color-text-on-default-background: var(--sg-text-color, var(--theme-code-foreground, var(--jp-content-font-color1, black)));\n",
       "  --sklearn-color-background: var(--sg-background-color, var(--theme-background, var(--jp-layout-color0, white)));\n",
       "  --sklearn-color-border-box: var(--sg-text-color, var(--theme-code-foreground, var(--jp-content-font-color1, black)));\n",
       "  --sklearn-color-icon: #696969;\n",
       "\n",
       "  @media (prefers-color-scheme: dark) {\n",
       "    /* Redefinition of color scheme for dark theme */\n",
       "    --sklearn-color-text-on-default-background: var(--sg-text-color, var(--theme-code-foreground, var(--jp-content-font-color1, white)));\n",
       "    --sklearn-color-background: var(--sg-background-color, var(--theme-background, var(--jp-layout-color0, #111)));\n",
       "    --sklearn-color-border-box: var(--sg-text-color, var(--theme-code-foreground, var(--jp-content-font-color1, white)));\n",
       "    --sklearn-color-icon: #878787;\n",
       "  }\n",
       "}\n",
       "\n",
       "#sk-container-id-1 {\n",
       "  color: var(--sklearn-color-text);\n",
       "}\n",
       "\n",
       "#sk-container-id-1 pre {\n",
       "  padding: 0;\n",
       "}\n",
       "\n",
       "#sk-container-id-1 input.sk-hidden--visually {\n",
       "  border: 0;\n",
       "  clip: rect(1px 1px 1px 1px);\n",
       "  clip: rect(1px, 1px, 1px, 1px);\n",
       "  height: 1px;\n",
       "  margin: -1px;\n",
       "  overflow: hidden;\n",
       "  padding: 0;\n",
       "  position: absolute;\n",
       "  width: 1px;\n",
       "}\n",
       "\n",
       "#sk-container-id-1 div.sk-dashed-wrapped {\n",
       "  border: 1px dashed var(--sklearn-color-line);\n",
       "  margin: 0 0.4em 0.5em 0.4em;\n",
       "  box-sizing: border-box;\n",
       "  padding-bottom: 0.4em;\n",
       "  background-color: var(--sklearn-color-background);\n",
       "}\n",
       "\n",
       "#sk-container-id-1 div.sk-container {\n",
       "  /* jupyter's `normalize.less` sets `[hidden] { display: none; }`\n",
       "     but bootstrap.min.css set `[hidden] { display: none !important; }`\n",
       "     so we also need the `!important` here to be able to override the\n",
       "     default hidden behavior on the sphinx rendered scikit-learn.org.\n",
       "     See: https://github.com/scikit-learn/scikit-learn/issues/21755 */\n",
       "  display: inline-block !important;\n",
       "  position: relative;\n",
       "}\n",
       "\n",
       "#sk-container-id-1 div.sk-text-repr-fallback {\n",
       "  display: none;\n",
       "}\n",
       "\n",
       "div.sk-parallel-item,\n",
       "div.sk-serial,\n",
       "div.sk-item {\n",
       "  /* draw centered vertical line to link estimators */\n",
       "  background-image: linear-gradient(var(--sklearn-color-text-on-default-background), var(--sklearn-color-text-on-default-background));\n",
       "  background-size: 2px 100%;\n",
       "  background-repeat: no-repeat;\n",
       "  background-position: center center;\n",
       "}\n",
       "\n",
       "/* Parallel-specific style estimator block */\n",
       "\n",
       "#sk-container-id-1 div.sk-parallel-item::after {\n",
       "  content: \"\";\n",
       "  width: 100%;\n",
       "  border-bottom: 2px solid var(--sklearn-color-text-on-default-background);\n",
       "  flex-grow: 1;\n",
       "}\n",
       "\n",
       "#sk-container-id-1 div.sk-parallel {\n",
       "  display: flex;\n",
       "  align-items: stretch;\n",
       "  justify-content: center;\n",
       "  background-color: var(--sklearn-color-background);\n",
       "  position: relative;\n",
       "}\n",
       "\n",
       "#sk-container-id-1 div.sk-parallel-item {\n",
       "  display: flex;\n",
       "  flex-direction: column;\n",
       "}\n",
       "\n",
       "#sk-container-id-1 div.sk-parallel-item:first-child::after {\n",
       "  align-self: flex-end;\n",
       "  width: 50%;\n",
       "}\n",
       "\n",
       "#sk-container-id-1 div.sk-parallel-item:last-child::after {\n",
       "  align-self: flex-start;\n",
       "  width: 50%;\n",
       "}\n",
       "\n",
       "#sk-container-id-1 div.sk-parallel-item:only-child::after {\n",
       "  width: 0;\n",
       "}\n",
       "\n",
       "/* Serial-specific style estimator block */\n",
       "\n",
       "#sk-container-id-1 div.sk-serial {\n",
       "  display: flex;\n",
       "  flex-direction: column;\n",
       "  align-items: center;\n",
       "  background-color: var(--sklearn-color-background);\n",
       "  padding-right: 1em;\n",
       "  padding-left: 1em;\n",
       "}\n",
       "\n",
       "\n",
       "/* Toggleable style: style used for estimator/Pipeline/ColumnTransformer box that is\n",
       "clickable and can be expanded/collapsed.\n",
       "- Pipeline and ColumnTransformer use this feature and define the default style\n",
       "- Estimators will overwrite some part of the style using the `sk-estimator` class\n",
       "*/\n",
       "\n",
       "/* Pipeline and ColumnTransformer style (default) */\n",
       "\n",
       "#sk-container-id-1 div.sk-toggleable {\n",
       "  /* Default theme specific background. It is overwritten whether we have a\n",
       "  specific estimator or a Pipeline/ColumnTransformer */\n",
       "  background-color: var(--sklearn-color-background);\n",
       "}\n",
       "\n",
       "/* Toggleable label */\n",
       "#sk-container-id-1 label.sk-toggleable__label {\n",
       "  cursor: pointer;\n",
       "  display: flex;\n",
       "  width: 100%;\n",
       "  margin-bottom: 0;\n",
       "  padding: 0.5em;\n",
       "  box-sizing: border-box;\n",
       "  text-align: center;\n",
       "  align-items: start;\n",
       "  justify-content: space-between;\n",
       "  gap: 0.5em;\n",
       "}\n",
       "\n",
       "#sk-container-id-1 label.sk-toggleable__label .caption {\n",
       "  font-size: 0.6rem;\n",
       "  font-weight: lighter;\n",
       "  color: var(--sklearn-color-text-muted);\n",
       "}\n",
       "\n",
       "#sk-container-id-1 label.sk-toggleable__label-arrow:before {\n",
       "  /* Arrow on the left of the label */\n",
       "  content: \"▸\";\n",
       "  float: left;\n",
       "  margin-right: 0.25em;\n",
       "  color: var(--sklearn-color-icon);\n",
       "}\n",
       "\n",
       "#sk-container-id-1 label.sk-toggleable__label-arrow:hover:before {\n",
       "  color: var(--sklearn-color-text);\n",
       "}\n",
       "\n",
       "/* Toggleable content - dropdown */\n",
       "\n",
       "#sk-container-id-1 div.sk-toggleable__content {\n",
       "  max-height: 0;\n",
       "  max-width: 0;\n",
       "  overflow: hidden;\n",
       "  text-align: left;\n",
       "  /* unfitted */\n",
       "  background-color: var(--sklearn-color-unfitted-level-0);\n",
       "}\n",
       "\n",
       "#sk-container-id-1 div.sk-toggleable__content.fitted {\n",
       "  /* fitted */\n",
       "  background-color: var(--sklearn-color-fitted-level-0);\n",
       "}\n",
       "\n",
       "#sk-container-id-1 div.sk-toggleable__content pre {\n",
       "  margin: 0.2em;\n",
       "  border-radius: 0.25em;\n",
       "  color: var(--sklearn-color-text);\n",
       "  /* unfitted */\n",
       "  background-color: var(--sklearn-color-unfitted-level-0);\n",
       "}\n",
       "\n",
       "#sk-container-id-1 div.sk-toggleable__content.fitted pre {\n",
       "  /* unfitted */\n",
       "  background-color: var(--sklearn-color-fitted-level-0);\n",
       "}\n",
       "\n",
       "#sk-container-id-1 input.sk-toggleable__control:checked~div.sk-toggleable__content {\n",
       "  /* Expand drop-down */\n",
       "  max-height: 200px;\n",
       "  max-width: 100%;\n",
       "  overflow: auto;\n",
       "}\n",
       "\n",
       "#sk-container-id-1 input.sk-toggleable__control:checked~label.sk-toggleable__label-arrow:before {\n",
       "  content: \"▾\";\n",
       "}\n",
       "\n",
       "/* Pipeline/ColumnTransformer-specific style */\n",
       "\n",
       "#sk-container-id-1 div.sk-label input.sk-toggleable__control:checked~label.sk-toggleable__label {\n",
       "  color: var(--sklearn-color-text);\n",
       "  background-color: var(--sklearn-color-unfitted-level-2);\n",
       "}\n",
       "\n",
       "#sk-container-id-1 div.sk-label.fitted input.sk-toggleable__control:checked~label.sk-toggleable__label {\n",
       "  background-color: var(--sklearn-color-fitted-level-2);\n",
       "}\n",
       "\n",
       "/* Estimator-specific style */\n",
       "\n",
       "/* Colorize estimator box */\n",
       "#sk-container-id-1 div.sk-estimator input.sk-toggleable__control:checked~label.sk-toggleable__label {\n",
       "  /* unfitted */\n",
       "  background-color: var(--sklearn-color-unfitted-level-2);\n",
       "}\n",
       "\n",
       "#sk-container-id-1 div.sk-estimator.fitted input.sk-toggleable__control:checked~label.sk-toggleable__label {\n",
       "  /* fitted */\n",
       "  background-color: var(--sklearn-color-fitted-level-2);\n",
       "}\n",
       "\n",
       "#sk-container-id-1 div.sk-label label.sk-toggleable__label,\n",
       "#sk-container-id-1 div.sk-label label {\n",
       "  /* The background is the default theme color */\n",
       "  color: var(--sklearn-color-text-on-default-background);\n",
       "}\n",
       "\n",
       "/* On hover, darken the color of the background */\n",
       "#sk-container-id-1 div.sk-label:hover label.sk-toggleable__label {\n",
       "  color: var(--sklearn-color-text);\n",
       "  background-color: var(--sklearn-color-unfitted-level-2);\n",
       "}\n",
       "\n",
       "/* Label box, darken color on hover, fitted */\n",
       "#sk-container-id-1 div.sk-label.fitted:hover label.sk-toggleable__label.fitted {\n",
       "  color: var(--sklearn-color-text);\n",
       "  background-color: var(--sklearn-color-fitted-level-2);\n",
       "}\n",
       "\n",
       "/* Estimator label */\n",
       "\n",
       "#sk-container-id-1 div.sk-label label {\n",
       "  font-family: monospace;\n",
       "  font-weight: bold;\n",
       "  display: inline-block;\n",
       "  line-height: 1.2em;\n",
       "}\n",
       "\n",
       "#sk-container-id-1 div.sk-label-container {\n",
       "  text-align: center;\n",
       "}\n",
       "\n",
       "/* Estimator-specific */\n",
       "#sk-container-id-1 div.sk-estimator {\n",
       "  font-family: monospace;\n",
       "  border: 1px dotted var(--sklearn-color-border-box);\n",
       "  border-radius: 0.25em;\n",
       "  box-sizing: border-box;\n",
       "  margin-bottom: 0.5em;\n",
       "  /* unfitted */\n",
       "  background-color: var(--sklearn-color-unfitted-level-0);\n",
       "}\n",
       "\n",
       "#sk-container-id-1 div.sk-estimator.fitted {\n",
       "  /* fitted */\n",
       "  background-color: var(--sklearn-color-fitted-level-0);\n",
       "}\n",
       "\n",
       "/* on hover */\n",
       "#sk-container-id-1 div.sk-estimator:hover {\n",
       "  /* unfitted */\n",
       "  background-color: var(--sklearn-color-unfitted-level-2);\n",
       "}\n",
       "\n",
       "#sk-container-id-1 div.sk-estimator.fitted:hover {\n",
       "  /* fitted */\n",
       "  background-color: var(--sklearn-color-fitted-level-2);\n",
       "}\n",
       "\n",
       "/* Specification for estimator info (e.g. \"i\" and \"?\") */\n",
       "\n",
       "/* Common style for \"i\" and \"?\" */\n",
       "\n",
       ".sk-estimator-doc-link,\n",
       "a:link.sk-estimator-doc-link,\n",
       "a:visited.sk-estimator-doc-link {\n",
       "  float: right;\n",
       "  font-size: smaller;\n",
       "  line-height: 1em;\n",
       "  font-family: monospace;\n",
       "  background-color: var(--sklearn-color-background);\n",
       "  border-radius: 1em;\n",
       "  height: 1em;\n",
       "  width: 1em;\n",
       "  text-decoration: none !important;\n",
       "  margin-left: 0.5em;\n",
       "  text-align: center;\n",
       "  /* unfitted */\n",
       "  border: var(--sklearn-color-unfitted-level-1) 1pt solid;\n",
       "  color: var(--sklearn-color-unfitted-level-1);\n",
       "}\n",
       "\n",
       ".sk-estimator-doc-link.fitted,\n",
       "a:link.sk-estimator-doc-link.fitted,\n",
       "a:visited.sk-estimator-doc-link.fitted {\n",
       "  /* fitted */\n",
       "  border: var(--sklearn-color-fitted-level-1) 1pt solid;\n",
       "  color: var(--sklearn-color-fitted-level-1);\n",
       "}\n",
       "\n",
       "/* On hover */\n",
       "div.sk-estimator:hover .sk-estimator-doc-link:hover,\n",
       ".sk-estimator-doc-link:hover,\n",
       "div.sk-label-container:hover .sk-estimator-doc-link:hover,\n",
       ".sk-estimator-doc-link:hover {\n",
       "  /* unfitted */\n",
       "  background-color: var(--sklearn-color-unfitted-level-3);\n",
       "  color: var(--sklearn-color-background);\n",
       "  text-decoration: none;\n",
       "}\n",
       "\n",
       "div.sk-estimator.fitted:hover .sk-estimator-doc-link.fitted:hover,\n",
       ".sk-estimator-doc-link.fitted:hover,\n",
       "div.sk-label-container:hover .sk-estimator-doc-link.fitted:hover,\n",
       ".sk-estimator-doc-link.fitted:hover {\n",
       "  /* fitted */\n",
       "  background-color: var(--sklearn-color-fitted-level-3);\n",
       "  color: var(--sklearn-color-background);\n",
       "  text-decoration: none;\n",
       "}\n",
       "\n",
       "/* Span, style for the box shown on hovering the info icon */\n",
       ".sk-estimator-doc-link span {\n",
       "  display: none;\n",
       "  z-index: 9999;\n",
       "  position: relative;\n",
       "  font-weight: normal;\n",
       "  right: .2ex;\n",
       "  padding: .5ex;\n",
       "  margin: .5ex;\n",
       "  width: min-content;\n",
       "  min-width: 20ex;\n",
       "  max-width: 50ex;\n",
       "  color: var(--sklearn-color-text);\n",
       "  box-shadow: 2pt 2pt 4pt #999;\n",
       "  /* unfitted */\n",
       "  background: var(--sklearn-color-unfitted-level-0);\n",
       "  border: .5pt solid var(--sklearn-color-unfitted-level-3);\n",
       "}\n",
       "\n",
       ".sk-estimator-doc-link.fitted span {\n",
       "  /* fitted */\n",
       "  background: var(--sklearn-color-fitted-level-0);\n",
       "  border: var(--sklearn-color-fitted-level-3);\n",
       "}\n",
       "\n",
       ".sk-estimator-doc-link:hover span {\n",
       "  display: block;\n",
       "}\n",
       "\n",
       "/* \"?\"-specific style due to the `<a>` HTML tag */\n",
       "\n",
       "#sk-container-id-1 a.estimator_doc_link {\n",
       "  float: right;\n",
       "  font-size: 1rem;\n",
       "  line-height: 1em;\n",
       "  font-family: monospace;\n",
       "  background-color: var(--sklearn-color-background);\n",
       "  border-radius: 1rem;\n",
       "  height: 1rem;\n",
       "  width: 1rem;\n",
       "  text-decoration: none;\n",
       "  /* unfitted */\n",
       "  color: var(--sklearn-color-unfitted-level-1);\n",
       "  border: var(--sklearn-color-unfitted-level-1) 1pt solid;\n",
       "}\n",
       "\n",
       "#sk-container-id-1 a.estimator_doc_link.fitted {\n",
       "  /* fitted */\n",
       "  border: var(--sklearn-color-fitted-level-1) 1pt solid;\n",
       "  color: var(--sklearn-color-fitted-level-1);\n",
       "}\n",
       "\n",
       "/* On hover */\n",
       "#sk-container-id-1 a.estimator_doc_link:hover {\n",
       "  /* unfitted */\n",
       "  background-color: var(--sklearn-color-unfitted-level-3);\n",
       "  color: var(--sklearn-color-background);\n",
       "  text-decoration: none;\n",
       "}\n",
       "\n",
       "#sk-container-id-1 a.estimator_doc_link.fitted:hover {\n",
       "  /* fitted */\n",
       "  background-color: var(--sklearn-color-fitted-level-3);\n",
       "}\n",
       "</style><div id=\"sk-container-id-1\" class=\"sk-top-container\"><div class=\"sk-text-repr-fallback\"><pre>RandomForestClassifier(class_weight=&#x27;balanced_subsample&#x27;, criterion=&#x27;log_loss&#x27;,\n",
       "                       max_features=&#x27;log2&#x27;, n_estimators=230,\n",
       "                       random_state=1616)</pre><b>In a Jupyter environment, please rerun this cell to show the HTML representation or trust the notebook. <br />On GitHub, the HTML representation is unable to render, please try loading this page with nbviewer.org.</b></div><div class=\"sk-container\" hidden><div class=\"sk-item\"><div class=\"sk-estimator fitted sk-toggleable\"><input class=\"sk-toggleable__control sk-hidden--visually\" id=\"sk-estimator-id-1\" type=\"checkbox\" checked><label for=\"sk-estimator-id-1\" class=\"sk-toggleable__label fitted sk-toggleable__label-arrow\"><div><div>RandomForestClassifier</div></div><div><a class=\"sk-estimator-doc-link fitted\" rel=\"noreferrer\" target=\"_blank\" href=\"https://scikit-learn.org/1.6/modules/generated/sklearn.ensemble.RandomForestClassifier.html\">?<span>Documentation for RandomForestClassifier</span></a><span class=\"sk-estimator-doc-link fitted\">i<span>Fitted</span></span></div></label><div class=\"sk-toggleable__content fitted\"><pre>RandomForestClassifier(class_weight=&#x27;balanced_subsample&#x27;, criterion=&#x27;log_loss&#x27;,\n",
       "                       max_features=&#x27;log2&#x27;, n_estimators=230,\n",
       "                       random_state=1616)</pre></div> </div></div></div></div>"
      ],
      "text/plain": [
       "RandomForestClassifier(class_weight='balanced_subsample', criterion='log_loss',\n",
       "                       max_features='log2', n_estimators=230,\n",
       "                       random_state=1616)"
      ]
     },
     "execution_count": 129,
     "metadata": {},
     "output_type": "execute_result"
    }
   ],
   "source": [
    "best_rf"
   ]
  },
  {
   "cell_type": "code",
   "execution_count": 125,
   "id": "63e113f3",
   "metadata": {},
   "outputs": [
    {
     "data": {
      "image/png": "[encoded data removed]",
      "text/plain": [
       "<Figure size 1000x600 with 1 Axes>"
      ]
     },
     "metadata": {},
     "output_type": "display_data"
    }
   ],
   "source": [
    "\n",
    "# 1. Ambil feature importance dari model\n",
    "importances = best_rf.feature_importances_\n",
    "\n",
    "# 2. Ambil nama fitur dari pipeline preprocessing\n",
    "feature_names = preprocess_pipeline.named_steps['preprocessor'].get_feature_names_out()\n",
    "\n",
    "# 3. Gabungkan jadi DataFrame\n",
    "feature_df = pd.DataFrame({\n",
    "    'feature': feature_names,\n",
    "    'importance': importances\n",
    "}).sort_values(by='importance', ascending=False)\n",
    "\n",
    "# 4. Tampilkan top 15 fitur terpenting\n",
    "plt.figure(figsize=(10, 6))\n",
    "sns.barplot(data=feature_df.head(15), x='importance', y='feature')\n",
    "plt.title('Top 15 Feature Importance - Random Forest')\n",
    "plt.xlabel('Importance')\n",
    "plt.ylabel('Feature')\n",
    "plt.tight_layout()\n",
    "plt.show()\n"
   ]
  },
  {
   "cell_type": "markdown",
   "id": "bbad138c",
   "metadata": {},
   "source": [
    "<h2>XGBoost</h2>"
   ]
  },
  {
   "cell_type": "code",
   "execution_count": 123,
   "id": "b089d9be",
   "metadata": {},
   "outputs": [
    {
     "name": "stdout",
     "output_type": "stream",
     "text": [
      "Fitting 5 folds for each of 20 candidates, totalling 100 fits\n"
     ]
    },
    {
     "name": "stderr",
     "output_type": "stream",
     "text": [
      "/Users/shofiyamuntazyrahmani/Documents/Nabila/DataScienceJourney/.conda/lib/python3.11/site-packages/xgboost/training.py:183: UserWarning: [17:59:29] WARNING: /Users/runner/work/xgboost/xgboost/src/learner.cc:738: \n",
      "Parameters: { \"use_label_encoder\" } are not used.\n",
      "\n",
      "  bst.update(dtrain, iteration=i, fobj=obj)\n",
      "/Users/shofiyamuntazyrahmani/Documents/Nabila/DataScienceJourney/.conda/lib/python3.11/site-packages/xgboost/training.py:183: UserWarning: [17:59:29] WARNING: /Users/runner/work/xgboost/xgboost/src/learner.cc:738: \n",
      "Parameters: { \"use_label_encoder\" } are not used.\n",
      "\n",
      "  bst.update(dtrain, iteration=i, fobj=obj)\n",
      "/Users/shofiyamuntazyrahmani/Documents/Nabila/DataScienceJourney/.conda/lib/python3.11/site-packages/xgboost/training.py:183: UserWarning: [17:59:29] WARNING: /Users/runner/work/xgboost/xgboost/src/learner.cc:738: \n",
      "Parameters: { \"use_label_encoder\" } are not used.\n",
      "\n",
      "  bst.update(dtrain, iteration=i, fobj=obj)\n",
      "/Users/shofiyamuntazyrahmani/Documents/Nabila/DataScienceJourney/.conda/lib/python3.11/site-packages/xgboost/training.py:183: UserWarning: [17:59:29] WARNING: /Users/runner/work/xgboost/xgboost/src/learner.cc:738: \n",
      "Parameters: { \"use_label_encoder\" } are not used.\n",
      "\n",
      "  bst.update(dtrain, iteration=i, fobj=obj)\n",
      "/Users/shofiyamuntazyrahmani/Documents/Nabila/DataScienceJourney/.conda/lib/python3.11/site-packages/xgboost/training.py:183: UserWarning: [17:59:29] WARNING: /Users/runner/work/xgboost/xgboost/src/learner.cc:738: \n",
      "Parameters: { \"use_label_encoder\" } are not used.\n",
      "\n",
      "  bst.update(dtrain, iteration=i, fobj=obj)\n",
      "/Users/shofiyamuntazyrahmani/Documents/Nabila/DataScienceJourney/.conda/lib/python3.11/site-packages/xgboost/training.py:183: UserWarning: [17:59:29] WARNING: /Users/runner/work/xgboost/xgboost/src/learner.cc:738: \n",
      "Parameters: { \"use_label_encoder\" } are not used.\n",
      "\n",
      "  bst.update(dtrain, iteration=i, fobj=obj)\n",
      "/Users/shofiyamuntazyrahmani/Documents/Nabila/DataScienceJourney/.conda/lib/python3.11/site-packages/xgboost/training.py:183: UserWarning: [17:59:29] WARNING: /Users/runner/work/xgboost/xgboost/src/learner.cc:738: \n",
      "Parameters: { \"use_label_encoder\" } are not used.\n",
      "\n",
      "  bst.update(dtrain, iteration=i, fobj=obj)\n",
      "/Users/shofiyamuntazyrahmani/Documents/Nabila/DataScienceJourney/.conda/lib/python3.11/site-packages/xgboost/training.py:183: UserWarning: [17:59:29] WARNING: /Users/runner/work/xgboost/xgboost/src/learner.cc:738: \n",
      "Parameters: { \"use_label_encoder\" } are not used.\n",
      "\n",
      "  bst.update(dtrain, iteration=i, fobj=obj)\n"
     ]
    },
    {
     "name": "stdout",
     "output_type": "stream",
     "text": [
      "[CV] END colsample_bytree=0.6225067417680624, gamma=1, learning_rate=0.23685009255805411, max_depth=5, min_child_weight=1, n_estimators=144, subsample=0.8766859219080289; total time=   0.6s\n",
      "[CV] END colsample_bytree=0.6225067417680624, gamma=1, learning_rate=0.23685009255805411, max_depth=5, min_child_weight=1, n_estimators=144, subsample=0.8766859219080289; total time=   0.6s\n",
      "[CV] END colsample_bytree=0.6225067417680624, gamma=1, learning_rate=0.23685009255805411, max_depth=5, min_child_weight=1, n_estimators=144, subsample=0.8766859219080289; total time=   0.6s\n",
      "[CV] END colsample_bytree=0.6225067417680624, gamma=1, learning_rate=0.23685009255805411, max_depth=5, min_child_weight=1, n_estimators=144, subsample=0.8766859219080289; total time=   0.6s\n",
      "[CV] END colsample_bytree=0.6225067417680624, gamma=1, learning_rate=0.23685009255805411, max_depth=5, min_child_weight=1, n_estimators=144, subsample=0.8766859219080289; total time=   0.6s\n"
     ]
    },
    {
     "name": "stderr",
     "output_type": "stream",
     "text": [
      "/Users/shofiyamuntazyrahmani/Documents/Nabila/DataScienceJourney/.conda/lib/python3.11/site-packages/xgboost/training.py:183: UserWarning: [17:59:29] WARNING: /Users/runner/work/xgboost/xgboost/src/learner.cc:738: \n",
      "Parameters: { \"use_label_encoder\" } are not used.\n",
      "\n",
      "  bst.update(dtrain, iteration=i, fobj=obj)\n",
      "/Users/shofiyamuntazyrahmani/Documents/Nabila/DataScienceJourney/.conda/lib/python3.11/site-packages/xgboost/training.py:183: UserWarning: [17:59:30] WARNING: /Users/runner/work/xgboost/xgboost/src/learner.cc:738: \n",
      "Parameters: { \"use_label_encoder\" } are not used.\n",
      "\n",
      "  bst.update(dtrain, iteration=i, fobj=obj)\n",
      "/Users/shofiyamuntazyrahmani/Documents/Nabila/DataScienceJourney/.conda/lib/python3.11/site-packages/xgboost/training.py:183: UserWarning: [17:59:30] WARNING: /Users/runner/work/xgboost/xgboost/src/learner.cc:738: \n",
      "Parameters: { \"use_label_encoder\" } are not used.\n",
      "\n",
      "  bst.update(dtrain, iteration=i, fobj=obj)\n",
      "/Users/shofiyamuntazyrahmani/Documents/Nabila/DataScienceJourney/.conda/lib/python3.11/site-packages/xgboost/training.py:183: UserWarning: [17:59:30] WARNING: /Users/runner/work/xgboost/xgboost/src/learner.cc:738: \n",
      "Parameters: { \"use_label_encoder\" } are not used.\n",
      "\n",
      "  bst.update(dtrain, iteration=i, fobj=obj)\n",
      "/Users/shofiyamuntazyrahmani/Documents/Nabila/DataScienceJourney/.conda/lib/python3.11/site-packages/xgboost/training.py:183: UserWarning: [17:59:30] WARNING: /Users/runner/work/xgboost/xgboost/src/learner.cc:738: \n",
      "Parameters: { \"use_label_encoder\" } are not used.\n",
      "\n",
      "  bst.update(dtrain, iteration=i, fobj=obj)\n"
     ]
    },
    {
     "name": "stdout",
     "output_type": "stream",
     "text": [
      "[CV] END colsample_bytree=0.565460871667069, gamma=0, learning_rate=0.1553260623769782, max_depth=5, min_child_weight=3, n_estimators=169, subsample=0.7280323656776369; total time=   0.8s\n",
      "[CV] END colsample_bytree=0.565460871667069, gamma=0, learning_rate=0.1553260623769782, max_depth=5, min_child_weight=3, n_estimators=169, subsample=0.7280323656776369; total time=   0.8s\n",
      "[CV] END colsample_bytree=0.565460871667069, gamma=0, learning_rate=0.1553260623769782, max_depth=5, min_child_weight=3, n_estimators=169, subsample=0.7280323656776369; total time=   0.8s\n"
     ]
    },
    {
     "name": "stderr",
     "output_type": "stream",
     "text": [
      "/Users/shofiyamuntazyrahmani/Documents/Nabila/DataScienceJourney/.conda/lib/python3.11/site-packages/xgboost/training.py:183: UserWarning: [17:59:30] WARNING: /Users/runner/work/xgboost/xgboost/src/learner.cc:738: \n",
      "Parameters: { \"use_label_encoder\" } are not used.\n",
      "\n",
      "  bst.update(dtrain, iteration=i, fobj=obj)\n",
      "/Users/shofiyamuntazyrahmani/Documents/Nabila/DataScienceJourney/.conda/lib/python3.11/site-packages/xgboost/training.py:183: UserWarning: [17:59:30] WARNING: /Users/runner/work/xgboost/xgboost/src/learner.cc:738: \n",
      "Parameters: { \"use_label_encoder\" } are not used.\n",
      "\n",
      "  bst.update(dtrain, iteration=i, fobj=obj)\n",
      "/Users/shofiyamuntazyrahmani/Documents/Nabila/DataScienceJourney/.conda/lib/python3.11/site-packages/xgboost/training.py:183: UserWarning: [17:59:30] WARNING: /Users/runner/work/xgboost/xgboost/src/learner.cc:738: \n",
      "Parameters: { \"use_label_encoder\" } are not used.\n",
      "\n",
      "  bst.update(dtrain, iteration=i, fobj=obj)\n"
     ]
    },
    {
     "name": "stdout",
     "output_type": "stream",
     "text": [
      "[CV] END colsample_bytree=0.565460871667069, gamma=0, learning_rate=0.1553260623769782, max_depth=5, min_child_weight=3, n_estimators=169, subsample=0.7280323656776369; total time=   0.8s\n",
      "[CV] END colsample_bytree=0.906959681234591, gamma=5, learning_rate=0.05275026248071355, max_depth=5, min_child_weight=3, n_estimators=133, subsample=0.8279431350960774; total time=   0.8s\n",
      "[CV] END colsample_bytree=0.906959681234591, gamma=5, learning_rate=0.05275026248071355, max_depth=5, min_child_weight=3, n_estimators=133, subsample=0.8279431350960774; total time=   0.9s\n",
      "[CV] END colsample_bytree=0.906959681234591, gamma=5, learning_rate=0.05275026248071355, max_depth=5, min_child_weight=3, n_estimators=133, subsample=0.8279431350960774; total time=   0.8s\n",
      "[CV] END colsample_bytree=0.565460871667069, gamma=0, learning_rate=0.1553260623769782, max_depth=5, min_child_weight=3, n_estimators=169, subsample=0.7280323656776369; total time=   1.0s\n",
      "[CV] END colsample_bytree=0.906959681234591, gamma=5, learning_rate=0.05275026248071355, max_depth=5, min_child_weight=3, n_estimators=133, subsample=0.8279431350960774; total time=   0.8s\n"
     ]
    },
    {
     "name": "stderr",
     "output_type": "stream",
     "text": [
      "/Users/shofiyamuntazyrahmani/Documents/Nabila/DataScienceJourney/.conda/lib/python3.11/site-packages/xgboost/training.py:183: UserWarning: [17:59:30] WARNING: /Users/runner/work/xgboost/xgboost/src/learner.cc:738: \n",
      "Parameters: { \"use_label_encoder\" } are not used.\n",
      "\n",
      "  bst.update(dtrain, iteration=i, fobj=obj)\n",
      "/Users/shofiyamuntazyrahmani/Documents/Nabila/DataScienceJourney/.conda/lib/python3.11/site-packages/xgboost/training.py:183: UserWarning: [17:59:30] WARNING: /Users/runner/work/xgboost/xgboost/src/learner.cc:738: \n",
      "Parameters: { \"use_label_encoder\" } are not used.\n",
      "\n",
      "  bst.update(dtrain, iteration=i, fobj=obj)\n",
      "/Users/shofiyamuntazyrahmani/Documents/Nabila/DataScienceJourney/.conda/lib/python3.11/site-packages/xgboost/training.py:183: UserWarning: [17:59:30] WARNING: /Users/runner/work/xgboost/xgboost/src/learner.cc:738: \n",
      "Parameters: { \"use_label_encoder\" } are not used.\n",
      "\n",
      "  bst.update(dtrain, iteration=i, fobj=obj)\n",
      "/Users/shofiyamuntazyrahmani/Documents/Nabila/DataScienceJourney/.conda/lib/python3.11/site-packages/xgboost/training.py:183: UserWarning: [17:59:30] WARNING: /Users/runner/work/xgboost/xgboost/src/learner.cc:738: \n",
      "Parameters: { \"use_label_encoder\" } are not used.\n",
      "\n",
      "  bst.update(dtrain, iteration=i, fobj=obj)\n",
      "/Users/shofiyamuntazyrahmani/Documents/Nabila/DataScienceJourney/.conda/lib/python3.11/site-packages/xgboost/training.py:183: UserWarning: [17:59:30] WARNING: /Users/runner/work/xgboost/xgboost/src/learner.cc:738: \n",
      "Parameters: { \"use_label_encoder\" } are not used.\n",
      "\n",
      "  bst.update(dtrain, iteration=i, fobj=obj)\n",
      "/Users/shofiyamuntazyrahmani/Documents/Nabila/DataScienceJourney/.conda/lib/python3.11/site-packages/xgboost/training.py:183: UserWarning: [17:59:31] WARNING: /Users/runner/work/xgboost/xgboost/src/learner.cc:738: \n",
      "Parameters: { \"use_label_encoder\" } are not used.\n",
      "\n",
      "  bst.update(dtrain, iteration=i, fobj=obj)\n",
      "/Users/shofiyamuntazyrahmani/Documents/Nabila/DataScienceJourney/.conda/lib/python3.11/site-packages/xgboost/training.py:183: UserWarning: [17:59:31] WARNING: /Users/runner/work/xgboost/xgboost/src/learner.cc:738: \n",
      "Parameters: { \"use_label_encoder\" } are not used.\n",
      "\n",
      "  bst.update(dtrain, iteration=i, fobj=obj)\n"
     ]
    },
    {
     "name": "stdout",
     "output_type": "stream",
     "text": [
      "[CV] END colsample_bytree=0.906959681234591, gamma=5, learning_rate=0.05275026248071355, max_depth=5, min_child_weight=3, n_estimators=133, subsample=0.8279431350960774; total time=   0.8s\n",
      "[CV] END colsample_bytree=0.9474308874448811, gamma=0, learning_rate=0.2511887659999401, max_depth=5, min_child_weight=5, n_estimators=202, subsample=0.8379884352024878; total time=   1.2s\n",
      "[CV] END colsample_bytree=0.6171582678945587, gamma=0, learning_rate=0.1305270209643234, max_depth=5, min_child_weight=5, n_estimators=101, subsample=0.7838225728339697; total time=   0.6s\n",
      "[CV] END colsample_bytree=0.6171582678945587, gamma=0, learning_rate=0.1305270209643234, max_depth=5, min_child_weight=5, n_estimators=101, subsample=0.7838225728339697; total time=   0.6s\n",
      "[CV] END colsample_bytree=0.6171582678945587, gamma=0, learning_rate=0.1305270209643234, max_depth=5, min_child_weight=5, n_estimators=101, subsample=0.7838225728339697; total time=   0.6s\n"
     ]
    },
    {
     "name": "stderr",
     "output_type": "stream",
     "text": [
      "/Users/shofiyamuntazyrahmani/Documents/Nabila/DataScienceJourney/.conda/lib/python3.11/site-packages/xgboost/training.py:183: UserWarning: [17:59:31] WARNING: /Users/runner/work/xgboost/xgboost/src/learner.cc:738: \n",
      "Parameters: { \"use_label_encoder\" } are not used.\n",
      "\n",
      "  bst.update(dtrain, iteration=i, fobj=obj)\n",
      "/Users/shofiyamuntazyrahmani/Documents/Nabila/DataScienceJourney/.conda/lib/python3.11/site-packages/xgboost/training.py:183: UserWarning: [17:59:31] WARNING: /Users/runner/work/xgboost/xgboost/src/learner.cc:738: \n",
      "Parameters: { \"use_label_encoder\" } are not used.\n",
      "\n",
      "  bst.update(dtrain, iteration=i, fobj=obj)\n",
      "/Users/shofiyamuntazyrahmani/Documents/Nabila/DataScienceJourney/.conda/lib/python3.11/site-packages/xgboost/training.py:183: UserWarning: [17:59:31] WARNING: /Users/runner/work/xgboost/xgboost/src/learner.cc:738: \n",
      "Parameters: { \"use_label_encoder\" } are not used.\n",
      "\n",
      "  bst.update(dtrain, iteration=i, fobj=obj)\n",
      "/Users/shofiyamuntazyrahmani/Documents/Nabila/DataScienceJourney/.conda/lib/python3.11/site-packages/xgboost/training.py:183: UserWarning: [17:59:31] WARNING: /Users/runner/work/xgboost/xgboost/src/learner.cc:738: \n",
      "Parameters: { \"use_label_encoder\" } are not used.\n",
      "\n",
      "  bst.update(dtrain, iteration=i, fobj=obj)\n"
     ]
    },
    {
     "name": "stdout",
     "output_type": "stream",
     "text": [
      "[CV] END colsample_bytree=0.9474308874448811, gamma=0, learning_rate=0.2511887659999401, max_depth=5, min_child_weight=5, n_estimators=202, subsample=0.8379884352024878; total time=   0.9s\n",
      "[CV] END colsample_bytree=0.9474308874448811, gamma=0, learning_rate=0.2511887659999401, max_depth=5, min_child_weight=5, n_estimators=202, subsample=0.8379884352024878; total time=   1.0s\n",
      "[CV] END colsample_bytree=0.9474308874448811, gamma=0, learning_rate=0.2511887659999401, max_depth=5, min_child_weight=5, n_estimators=202, subsample=0.8379884352024878; total time=   1.1s\n"
     ]
    },
    {
     "name": "stderr",
     "output_type": "stream",
     "text": [
      "/Users/shofiyamuntazyrahmani/Documents/Nabila/DataScienceJourney/.conda/lib/python3.11/site-packages/xgboost/training.py:183: UserWarning: [17:59:31] WARNING: /Users/runner/work/xgboost/xgboost/src/learner.cc:738: \n",
      "Parameters: { \"use_label_encoder\" } are not used.\n",
      "\n",
      "  bst.update(dtrain, iteration=i, fobj=obj)\n",
      "/Users/shofiyamuntazyrahmani/Documents/Nabila/DataScienceJourney/.conda/lib/python3.11/site-packages/xgboost/training.py:183: UserWarning: [17:59:31] WARNING: /Users/runner/work/xgboost/xgboost/src/learner.cc:738: \n",
      "Parameters: { \"use_label_encoder\" } are not used.\n",
      "\n",
      "  bst.update(dtrain, iteration=i, fobj=obj)\n",
      "/Users/shofiyamuntazyrahmani/Documents/Nabila/DataScienceJourney/.conda/lib/python3.11/site-packages/xgboost/training.py:183: UserWarning: [17:59:32] WARNING: /Users/runner/work/xgboost/xgboost/src/learner.cc:738: \n",
      "Parameters: { \"use_label_encoder\" } are not used.\n",
      "\n",
      "  bst.update(dtrain, iteration=i, fobj=obj)\n",
      "/Users/shofiyamuntazyrahmani/Documents/Nabila/DataScienceJourney/.conda/lib/python3.11/site-packages/xgboost/training.py:183: UserWarning: [17:59:32] WARNING: /Users/runner/work/xgboost/xgboost/src/learner.cc:738: \n",
      "Parameters: { \"use_label_encoder\" } are not used.\n",
      "\n",
      "  bst.update(dtrain, iteration=i, fobj=obj)\n",
      "/Users/shofiyamuntazyrahmani/Documents/Nabila/DataScienceJourney/.conda/lib/python3.11/site-packages/xgboost/training.py:183: UserWarning: [17:59:32] WARNING: /Users/runner/work/xgboost/xgboost/src/learner.cc:738: \n",
      "Parameters: { \"use_label_encoder\" } are not used.\n",
      "\n",
      "  bst.update(dtrain, iteration=i, fobj=obj)\n",
      "/Users/shofiyamuntazyrahmani/Documents/Nabila/DataScienceJourney/.conda/lib/python3.11/site-packages/xgboost/training.py:183: UserWarning: [17:59:32] WARNING: /Users/runner/work/xgboost/xgboost/src/learner.cc:738: \n",
      "Parameters: { \"use_label_encoder\" } are not used.\n",
      "\n",
      "  bst.update(dtrain, iteration=i, fobj=obj)\n"
     ]
    },
    {
     "name": "stdout",
     "output_type": "stream",
     "text": [
      "[CV] END colsample_bytree=0.6171582678945587, gamma=0, learning_rate=0.1305270209643234, max_depth=5, min_child_weight=5, n_estimators=101, subsample=0.7838225728339697; total time=   0.6s\n",
      "[CV] END colsample_bytree=0.9474308874448811, gamma=0, learning_rate=0.2511887659999401, max_depth=5, min_child_weight=5, n_estimators=202, subsample=0.8379884352024878; total time=   1.2s\n",
      "[CV] END colsample_bytree=0.6171582678945587, gamma=0, learning_rate=0.1305270209643234, max_depth=5, min_child_weight=5, n_estimators=101, subsample=0.7838225728339697; total time=   0.5s\n",
      "[CV] END colsample_bytree=0.5774344065030359, gamma=1, learning_rate=0.25968800792785385, max_depth=5, min_child_weight=5, n_estimators=193, subsample=0.8200965309394497; total time=   0.9s\n",
      "[CV] END colsample_bytree=0.5774344065030359, gamma=1, learning_rate=0.25968800792785385, max_depth=5, min_child_weight=5, n_estimators=193, subsample=0.8200965309394497; total time=   0.7s\n",
      "[CV] END colsample_bytree=0.5774344065030359, gamma=1, learning_rate=0.25968800792785385, max_depth=5, min_child_weight=5, n_estimators=193, subsample=0.8200965309394497; total time=   1.0s\n",
      "[CV] END colsample_bytree=0.9940228293319842, gamma=5, learning_rate=0.23633684660275656, max_depth=5, min_child_weight=5, n_estimators=154, subsample=0.8112229960104527; total time=   0.6s\n",
      "[CV] END colsample_bytree=0.9940228293319842, gamma=5, learning_rate=0.23633684660275656, max_depth=5, min_child_weight=5, n_estimators=154, subsample=0.8112229960104527; total time=   0.6s\n",
      "[CV] END colsample_bytree=0.9940228293319842, gamma=5, learning_rate=0.23633684660275656, max_depth=5, min_child_weight=5, n_estimators=154, subsample=0.8112229960104527; total time=   0.7s\n"
     ]
    },
    {
     "name": "stderr",
     "output_type": "stream",
     "text": [
      "/Users/shofiyamuntazyrahmani/Documents/Nabila/DataScienceJourney/.conda/lib/python3.11/site-packages/xgboost/training.py:183: UserWarning: [17:59:32] WARNING: /Users/runner/work/xgboost/xgboost/src/learner.cc:738: \n",
      "Parameters: { \"use_label_encoder\" } are not used.\n",
      "\n",
      "  bst.update(dtrain, iteration=i, fobj=obj)\n",
      "/Users/shofiyamuntazyrahmani/Documents/Nabila/DataScienceJourney/.conda/lib/python3.11/site-packages/xgboost/training.py:183: UserWarning: [17:59:32] WARNING: /Users/runner/work/xgboost/xgboost/src/learner.cc:738: \n",
      "Parameters: { \"use_label_encoder\" } are not used.\n",
      "\n",
      "  bst.update(dtrain, iteration=i, fobj=obj)\n",
      "/Users/shofiyamuntazyrahmani/Documents/Nabila/DataScienceJourney/.conda/lib/python3.11/site-packages/xgboost/training.py:183: UserWarning: [17:59:32] WARNING: /Users/runner/work/xgboost/xgboost/src/learner.cc:738: \n",
      "Parameters: { \"use_label_encoder\" } are not used.\n",
      "\n",
      "  bst.update(dtrain, iteration=i, fobj=obj)\n",
      "/Users/shofiyamuntazyrahmani/Documents/Nabila/DataScienceJourney/.conda/lib/python3.11/site-packages/xgboost/training.py:183: UserWarning: [17:59:32] WARNING: /Users/runner/work/xgboost/xgboost/src/learner.cc:738: \n",
      "Parameters: { \"use_label_encoder\" } are not used.\n",
      "\n",
      "  bst.update(dtrain, iteration=i, fobj=obj)\n"
     ]
    },
    {
     "name": "stdout",
     "output_type": "stream",
     "text": [
      "[CV] END colsample_bytree=0.5774344065030359, gamma=1, learning_rate=0.25968800792785385, max_depth=5, min_child_weight=5, n_estimators=193, subsample=0.8200965309394497; total time=   0.9s\n",
      "[CV] END colsample_bytree=0.5774344065030359, gamma=1, learning_rate=0.25968800792785385, max_depth=5, min_child_weight=5, n_estimators=193, subsample=0.8200965309394497; total time=   0.9s\n"
     ]
    },
    {
     "name": "stderr",
     "output_type": "stream",
     "text": [
      "/Users/shofiyamuntazyrahmani/Documents/Nabila/DataScienceJourney/.conda/lib/python3.11/site-packages/xgboost/training.py:183: UserWarning: [17:59:32] WARNING: /Users/runner/work/xgboost/xgboost/src/learner.cc:738: \n",
      "Parameters: { \"use_label_encoder\" } are not used.\n",
      "\n",
      "  bst.update(dtrain, iteration=i, fobj=obj)\n",
      "/Users/shofiyamuntazyrahmani/Documents/Nabila/DataScienceJourney/.conda/lib/python3.11/site-packages/xgboost/training.py:183: UserWarning: [17:59:32] WARNING: /Users/runner/work/xgboost/xgboost/src/learner.cc:738: \n",
      "Parameters: { \"use_label_encoder\" } are not used.\n",
      "\n",
      "  bst.update(dtrain, iteration=i, fobj=obj)\n",
      "/Users/shofiyamuntazyrahmani/Documents/Nabila/DataScienceJourney/.conda/lib/python3.11/site-packages/xgboost/training.py:183: UserWarning: [17:59:32] WARNING: /Users/runner/work/xgboost/xgboost/src/learner.cc:738: \n",
      "Parameters: { \"use_label_encoder\" } are not used.\n",
      "\n",
      "  bst.update(dtrain, iteration=i, fobj=obj)\n",
      "/Users/shofiyamuntazyrahmani/Documents/Nabila/DataScienceJourney/.conda/lib/python3.11/site-packages/xgboost/training.py:183: UserWarning: [17:59:32] WARNING: /Users/runner/work/xgboost/xgboost/src/learner.cc:738: \n",
      "Parameters: { \"use_label_encoder\" } are not used.\n",
      "\n",
      "  bst.update(dtrain, iteration=i, fobj=obj)\n"
     ]
    },
    {
     "name": "stdout",
     "output_type": "stream",
     "text": [
      "[CV] END colsample_bytree=0.9940228293319842, gamma=5, learning_rate=0.23633684660275656, max_depth=5, min_child_weight=5, n_estimators=154, subsample=0.8112229960104527; total time=   0.6s\n",
      "[CV] END colsample_bytree=0.9940228293319842, gamma=5, learning_rate=0.23633684660275656, max_depth=5, min_child_weight=5, n_estimators=154, subsample=0.8112229960104527; total time=   0.6s\n"
     ]
    },
    {
     "name": "stderr",
     "output_type": "stream",
     "text": [
      "/Users/shofiyamuntazyrahmani/Documents/Nabila/DataScienceJourney/.conda/lib/python3.11/site-packages/xgboost/training.py:183: UserWarning: [17:59:33] WARNING: /Users/runner/work/xgboost/xgboost/src/learner.cc:738: \n",
      "Parameters: { \"use_label_encoder\" } are not used.\n",
      "\n",
      "  bst.update(dtrain, iteration=i, fobj=obj)\n",
      "/Users/shofiyamuntazyrahmani/Documents/Nabila/DataScienceJourney/.conda/lib/python3.11/site-packages/xgboost/training.py:183: UserWarning: [17:59:33] WARNING: /Users/runner/work/xgboost/xgboost/src/learner.cc:738: \n",
      "Parameters: { \"use_label_encoder\" } are not used.\n",
      "\n",
      "  bst.update(dtrain, iteration=i, fobj=obj)\n"
     ]
    },
    {
     "name": "stdout",
     "output_type": "stream",
     "text": [
      "[CV] END colsample_bytree=0.5881245228925185, gamma=1, learning_rate=0.25888327240687387, max_depth=None, min_child_weight=1, n_estimators=232, subsample=0.6746445598370941; total time=   1.0s\n",
      "[CV] END colsample_bytree=0.5881245228925185, gamma=1, learning_rate=0.25888327240687387, max_depth=None, min_child_weight=1, n_estimators=232, subsample=0.6746445598370941; total time=   1.0s\n",
      "[CV] END colsample_bytree=0.5881245228925185, gamma=1, learning_rate=0.25888327240687387, max_depth=None, min_child_weight=1, n_estimators=232, subsample=0.6746445598370941; total time=   1.0s\n",
      "[CV] END colsample_bytree=0.5881245228925185, gamma=1, learning_rate=0.25888327240687387, max_depth=None, min_child_weight=1, n_estimators=232, subsample=0.6746445598370941; total time=   0.9s\n",
      "[CV] END colsample_bytree=0.5881245228925185, gamma=1, learning_rate=0.25888327240687387, max_depth=None, min_child_weight=1, n_estimators=232, subsample=0.6746445598370941; total time=   1.1s\n"
     ]
    },
    {
     "name": "stderr",
     "output_type": "stream",
     "text": [
      "/Users/shofiyamuntazyrahmani/Documents/Nabila/DataScienceJourney/.conda/lib/python3.11/site-packages/xgboost/training.py:183: UserWarning: [17:59:33] WARNING: /Users/runner/work/xgboost/xgboost/src/learner.cc:738: \n",
      "Parameters: { \"use_label_encoder\" } are not used.\n",
      "\n",
      "  bst.update(dtrain, iteration=i, fobj=obj)\n",
      "/Users/shofiyamuntazyrahmani/Documents/Nabila/DataScienceJourney/.conda/lib/python3.11/site-packages/xgboost/training.py:183: UserWarning: [17:59:33] WARNING: /Users/runner/work/xgboost/xgboost/src/learner.cc:738: \n",
      "Parameters: { \"use_label_encoder\" } are not used.\n",
      "\n",
      "  bst.update(dtrain, iteration=i, fobj=obj)\n",
      "/Users/shofiyamuntazyrahmani/Documents/Nabila/DataScienceJourney/.conda/lib/python3.11/site-packages/xgboost/training.py:183: UserWarning: [17:59:33] WARNING: /Users/runner/work/xgboost/xgboost/src/learner.cc:738: \n",
      "Parameters: { \"use_label_encoder\" } are not used.\n",
      "\n",
      "  bst.update(dtrain, iteration=i, fobj=obj)\n",
      "/Users/shofiyamuntazyrahmani/Documents/Nabila/DataScienceJourney/.conda/lib/python3.11/site-packages/xgboost/training.py:183: UserWarning: [17:59:33] WARNING: /Users/runner/work/xgboost/xgboost/src/learner.cc:738: \n",
      "Parameters: { \"use_label_encoder\" } are not used.\n",
      "\n",
      "  bst.update(dtrain, iteration=i, fobj=obj)\n",
      "/Users/shofiyamuntazyrahmani/Documents/Nabila/DataScienceJourney/.conda/lib/python3.11/site-packages/xgboost/training.py:183: UserWarning: [17:59:33] WARNING: /Users/runner/work/xgboost/xgboost/src/learner.cc:738: \n",
      "Parameters: { \"use_label_encoder\" } are not used.\n",
      "\n",
      "  bst.update(dtrain, iteration=i, fobj=obj)\n"
     ]
    },
    {
     "name": "stdout",
     "output_type": "stream",
     "text": [
      "[CV] END colsample_bytree=0.5272978081140824, gamma=1, learning_rate=0.027417363533392913, max_depth=None, min_child_weight=3, n_estimators=168, subsample=0.7314615956525727; total time=   1.0s\n"
     ]
    },
    {
     "name": "stderr",
     "output_type": "stream",
     "text": [
      "/Users/shofiyamuntazyrahmani/Documents/Nabila/DataScienceJourney/.conda/lib/python3.11/site-packages/xgboost/training.py:183: UserWarning: [17:59:33] WARNING: /Users/runner/work/xgboost/xgboost/src/learner.cc:738: \n",
      "Parameters: { \"use_label_encoder\" } are not used.\n",
      "\n",
      "  bst.update(dtrain, iteration=i, fobj=obj)\n"
     ]
    },
    {
     "name": "stdout",
     "output_type": "stream",
     "text": [
      "[CV] END colsample_bytree=0.5272978081140824, gamma=1, learning_rate=0.027417363533392913, max_depth=None, min_child_weight=3, n_estimators=168, subsample=0.7314615956525727; total time=   1.0s\n",
      "[CV] END colsample_bytree=0.5272978081140824, gamma=1, learning_rate=0.027417363533392913, max_depth=None, min_child_weight=3, n_estimators=168, subsample=0.7314615956525727; total time=   1.0s\n"
     ]
    },
    {
     "name": "stderr",
     "output_type": "stream",
     "text": [
      "/Users/shofiyamuntazyrahmani/Documents/Nabila/DataScienceJourney/.conda/lib/python3.11/site-packages/xgboost/training.py:183: UserWarning: [17:59:34] WARNING: /Users/runner/work/xgboost/xgboost/src/learner.cc:738: \n",
      "Parameters: { \"use_label_encoder\" } are not used.\n",
      "\n",
      "  bst.update(dtrain, iteration=i, fobj=obj)\n",
      "/Users/shofiyamuntazyrahmani/Documents/Nabila/DataScienceJourney/.conda/lib/python3.11/site-packages/xgboost/training.py:183: UserWarning: [17:59:34] WARNING: /Users/runner/work/xgboost/xgboost/src/learner.cc:738: \n",
      "Parameters: { \"use_label_encoder\" } are not used.\n",
      "\n",
      "  bst.update(dtrain, iteration=i, fobj=obj)\n"
     ]
    },
    {
     "name": "stdout",
     "output_type": "stream",
     "text": [
      "[CV] END colsample_bytree=0.7894671177902753, gamma=5, learning_rate=0.26419612068800846, max_depth=10, min_child_weight=1, n_estimators=262, subsample=0.739788126112048; total time=   0.8s\n",
      "[CV] END colsample_bytree=0.7894671177902753, gamma=5, learning_rate=0.26419612068800846, max_depth=10, min_child_weight=1, n_estimators=262, subsample=0.739788126112048; total time=   0.8s\n",
      "[CV] END colsample_bytree=0.5272978081140824, gamma=1, learning_rate=0.027417363533392913, max_depth=None, min_child_weight=3, n_estimators=168, subsample=0.7314615956525727; total time=   0.9s\n",
      "[CV] END colsample_bytree=0.5272978081140824, gamma=1, learning_rate=0.027417363533392913, max_depth=None, min_child_weight=3, n_estimators=168, subsample=0.7314615956525727; total time=   1.0s\n",
      "[CV] END colsample_bytree=0.7894671177902753, gamma=5, learning_rate=0.26419612068800846, max_depth=10, min_child_weight=1, n_estimators=262, subsample=0.739788126112048; total time=   0.8s\n",
      "[CV] END colsample_bytree=0.7894671177902753, gamma=5, learning_rate=0.26419612068800846, max_depth=10, min_child_weight=1, n_estimators=262, subsample=0.739788126112048; total time=   0.8s\n",
      "[CV] END colsample_bytree=0.5597469038345397, gamma=0, learning_rate=0.2917213800158865, max_depth=5, min_child_weight=3, n_estimators=110, subsample=0.7282326150471554; total time=   0.6s\n"
     ]
    },
    {
     "name": "stderr",
     "output_type": "stream",
     "text": [
      "/Users/shofiyamuntazyrahmani/Documents/Nabila/DataScienceJourney/.conda/lib/python3.11/site-packages/xgboost/training.py:183: UserWarning: [17:59:34] WARNING: /Users/runner/work/xgboost/xgboost/src/learner.cc:738: \n",
      "Parameters: { \"use_label_encoder\" } are not used.\n",
      "\n",
      "  bst.update(dtrain, iteration=i, fobj=obj)\n",
      "/Users/shofiyamuntazyrahmani/Documents/Nabila/DataScienceJourney/.conda/lib/python3.11/site-packages/xgboost/training.py:183: UserWarning: [17:59:34] WARNING: /Users/runner/work/xgboost/xgboost/src/learner.cc:738: \n",
      "Parameters: { \"use_label_encoder\" } are not used.\n",
      "\n",
      "  bst.update(dtrain, iteration=i, fobj=obj)\n",
      "/Users/shofiyamuntazyrahmani/Documents/Nabila/DataScienceJourney/.conda/lib/python3.11/site-packages/xgboost/training.py:183: UserWarning: [17:59:34] WARNING: /Users/runner/work/xgboost/xgboost/src/learner.cc:738: \n",
      "Parameters: { \"use_label_encoder\" } are not used.\n",
      "\n",
      "  bst.update(dtrain, iteration=i, fobj=obj)\n",
      "/Users/shofiyamuntazyrahmani/Documents/Nabila/DataScienceJourney/.conda/lib/python3.11/site-packages/xgboost/training.py:183: UserWarning: [17:59:34] WARNING: /Users/runner/work/xgboost/xgboost/src/learner.cc:738: \n",
      "Parameters: { \"use_label_encoder\" } are not used.\n",
      "\n",
      "  bst.update(dtrain, iteration=i, fobj=obj)\n",
      "/Users/shofiyamuntazyrahmani/Documents/Nabila/DataScienceJourney/.conda/lib/python3.11/site-packages/xgboost/training.py:183: UserWarning: [17:59:34] WARNING: /Users/runner/work/xgboost/xgboost/src/learner.cc:738: \n",
      "Parameters: { \"use_label_encoder\" } are not used.\n",
      "\n",
      "  bst.update(dtrain, iteration=i, fobj=obj)\n",
      "/Users/shofiyamuntazyrahmani/Documents/Nabila/DataScienceJourney/.conda/lib/python3.11/site-packages/xgboost/training.py:183: UserWarning: [17:59:34] WARNING: /Users/runner/work/xgboost/xgboost/src/learner.cc:738: \n",
      "Parameters: { \"use_label_encoder\" } are not used.\n",
      "\n",
      "  bst.update(dtrain, iteration=i, fobj=obj)\n",
      "/Users/shofiyamuntazyrahmani/Documents/Nabila/DataScienceJourney/.conda/lib/python3.11/site-packages/xgboost/training.py:183: UserWarning: [17:59:34] WARNING: /Users/runner/work/xgboost/xgboost/src/learner.cc:738: \n",
      "Parameters: { \"use_label_encoder\" } are not used.\n",
      "\n",
      "  bst.update(dtrain, iteration=i, fobj=obj)\n"
     ]
    },
    {
     "name": "stdout",
     "output_type": "stream",
     "text": [
      "[CV] END colsample_bytree=0.7894671177902753, gamma=5, learning_rate=0.26419612068800846, max_depth=10, min_child_weight=1, n_estimators=262, subsample=0.739788126112048; total time=   0.8s\n",
      "[CV] END colsample_bytree=0.5597469038345397, gamma=0, learning_rate=0.2917213800158865, max_depth=5, min_child_weight=3, n_estimators=110, subsample=0.7282326150471554; total time=   0.5s\n",
      "[CV] END colsample_bytree=0.5597469038345397, gamma=0, learning_rate=0.2917213800158865, max_depth=5, min_child_weight=3, n_estimators=110, subsample=0.7282326150471554; total time=   0.5s\n",
      "[CV] END colsample_bytree=0.5597469038345397, gamma=0, learning_rate=0.2917213800158865, max_depth=5, min_child_weight=3, n_estimators=110, subsample=0.7282326150471554; total time=   0.5s\n"
     ]
    },
    {
     "name": "stderr",
     "output_type": "stream",
     "text": [
      "/Users/shofiyamuntazyrahmani/Documents/Nabila/DataScienceJourney/.conda/lib/python3.11/site-packages/xgboost/training.py:183: UserWarning: [17:59:35] WARNING: /Users/runner/work/xgboost/xgboost/src/learner.cc:738: \n",
      "Parameters: { \"use_label_encoder\" } are not used.\n",
      "\n",
      "  bst.update(dtrain, iteration=i, fobj=obj)\n",
      "/Users/shofiyamuntazyrahmani/Documents/Nabila/DataScienceJourney/.conda/lib/python3.11/site-packages/xgboost/training.py:183: UserWarning: [17:59:35] WARNING: /Users/runner/work/xgboost/xgboost/src/learner.cc:738: \n",
      "Parameters: { \"use_label_encoder\" } are not used.\n",
      "\n",
      "  bst.update(dtrain, iteration=i, fobj=obj)\n",
      "/Users/shofiyamuntazyrahmani/Documents/Nabila/DataScienceJourney/.conda/lib/python3.11/site-packages/xgboost/training.py:183: UserWarning: [17:59:35] WARNING: /Users/runner/work/xgboost/xgboost/src/learner.cc:738: \n",
      "Parameters: { \"use_label_encoder\" } are not used.\n",
      "\n",
      "  bst.update(dtrain, iteration=i, fobj=obj)\n",
      "/Users/shofiyamuntazyrahmani/Documents/Nabila/DataScienceJourney/.conda/lib/python3.11/site-packages/xgboost/training.py:183: UserWarning: [17:59:35] WARNING: /Users/runner/work/xgboost/xgboost/src/learner.cc:738: \n",
      "Parameters: { \"use_label_encoder\" } are not used.\n",
      "\n",
      "  bst.update(dtrain, iteration=i, fobj=obj)\n"
     ]
    },
    {
     "name": "stdout",
     "output_type": "stream",
     "text": [
      "[CV] END colsample_bytree=0.5597469038345397, gamma=0, learning_rate=0.2917213800158865, max_depth=5, min_child_weight=3, n_estimators=110, subsample=0.7282326150471554; total time=   0.6s\n"
     ]
    },
    {
     "name": "stderr",
     "output_type": "stream",
     "text": [
      "/Users/shofiyamuntazyrahmani/Documents/Nabila/DataScienceJourney/.conda/lib/python3.11/site-packages/xgboost/training.py:183: UserWarning: [17:59:35] WARNING: /Users/runner/work/xgboost/xgboost/src/learner.cc:738: \n",
      "Parameters: { \"use_label_encoder\" } are not used.\n",
      "\n",
      "  bst.update(dtrain, iteration=i, fobj=obj)\n"
     ]
    },
    {
     "name": "stdout",
     "output_type": "stream",
     "text": [
      "[CV] END colsample_bytree=0.7064192798921809, gamma=5, learning_rate=0.2759759824117005, max_depth=5, min_child_weight=3, n_estimators=183, subsample=0.8442279200403059; total time=   0.6s\n",
      "[CV] END colsample_bytree=0.7064192798921809, gamma=5, learning_rate=0.2759759824117005, max_depth=5, min_child_weight=3, n_estimators=183, subsample=0.8442279200403059; total time=   0.6s\n",
      "[CV] END colsample_bytree=0.8631064172753284, gamma=0, learning_rate=0.012701716603266468, max_depth=10, min_child_weight=1, n_estimators=133, subsample=0.9939080619020131; total time=   1.0s\n",
      "[CV] END colsample_bytree=0.8631064172753284, gamma=0, learning_rate=0.012701716603266468, max_depth=10, min_child_weight=1, n_estimators=133, subsample=0.9939080619020131; total time=   1.1s\n",
      "[CV] END colsample_bytree=0.7064192798921809, gamma=5, learning_rate=0.2759759824117005, max_depth=5, min_child_weight=3, n_estimators=183, subsample=0.8442279200403059; total time=   0.6s\n",
      "[CV] END colsample_bytree=0.8631064172753284, gamma=0, learning_rate=0.012701716603266468, max_depth=10, min_child_weight=1, n_estimators=133, subsample=0.9939080619020131; total time=   1.2s\n"
     ]
    },
    {
     "name": "stderr",
     "output_type": "stream",
     "text": [
      "/Users/shofiyamuntazyrahmani/Documents/Nabila/DataScienceJourney/.conda/lib/python3.11/site-packages/xgboost/training.py:183: UserWarning: [17:59:35] WARNING: /Users/runner/work/xgboost/xgboost/src/learner.cc:738: \n",
      "Parameters: { \"use_label_encoder\" } are not used.\n",
      "\n",
      "  bst.update(dtrain, iteration=i, fobj=obj)\n",
      "/Users/shofiyamuntazyrahmani/Documents/Nabila/DataScienceJourney/.conda/lib/python3.11/site-packages/xgboost/training.py:183: UserWarning: [17:59:35] WARNING: /Users/runner/work/xgboost/xgboost/src/learner.cc:738: \n",
      "Parameters: { \"use_label_encoder\" } are not used.\n",
      "\n",
      "  bst.update(dtrain, iteration=i, fobj=obj)\n",
      "/Users/shofiyamuntazyrahmani/Documents/Nabila/DataScienceJourney/.conda/lib/python3.11/site-packages/xgboost/training.py:183: UserWarning: [17:59:35] WARNING: /Users/runner/work/xgboost/xgboost/src/learner.cc:738: \n",
      "Parameters: { \"use_label_encoder\" } are not used.\n",
      "\n",
      "  bst.update(dtrain, iteration=i, fobj=obj)\n",
      "/Users/shofiyamuntazyrahmani/Documents/Nabila/DataScienceJourney/.conda/lib/python3.11/site-packages/xgboost/training.py:183: UserWarning: [17:59:35] WARNING: /Users/runner/work/xgboost/xgboost/src/learner.cc:738: \n",
      "Parameters: { \"use_label_encoder\" } are not used.\n",
      "\n",
      "  bst.update(dtrain, iteration=i, fobj=obj)\n",
      "/Users/shofiyamuntazyrahmani/Documents/Nabila/DataScienceJourney/.conda/lib/python3.11/site-packages/xgboost/training.py:183: UserWarning: [17:59:35] WARNING: /Users/runner/work/xgboost/xgboost/src/learner.cc:738: \n",
      "Parameters: { \"use_label_encoder\" } are not used.\n",
      "\n",
      "  bst.update(dtrain, iteration=i, fobj=obj)\n",
      "/Users/shofiyamuntazyrahmani/Documents/Nabila/DataScienceJourney/.conda/lib/python3.11/site-packages/xgboost/training.py:183: UserWarning: [17:59:35] WARNING: /Users/runner/work/xgboost/xgboost/src/learner.cc:738: \n",
      "Parameters: { \"use_label_encoder\" } are not used.\n",
      "\n",
      "  bst.update(dtrain, iteration=i, fobj=obj)\n"
     ]
    },
    {
     "name": "stdout",
     "output_type": "stream",
     "text": [
      "[CV] END colsample_bytree=0.8631064172753284, gamma=0, learning_rate=0.012701716603266468, max_depth=10, min_child_weight=1, n_estimators=133, subsample=0.9939080619020131; total time=   1.1s\n",
      "[CV] END colsample_bytree=0.8631064172753284, gamma=0, learning_rate=0.012701716603266468, max_depth=10, min_child_weight=1, n_estimators=133, subsample=0.9939080619020131; total time=   1.1s\n"
     ]
    },
    {
     "name": "stderr",
     "output_type": "stream",
     "text": [
      "/Users/shofiyamuntazyrahmani/Documents/Nabila/DataScienceJourney/.conda/lib/python3.11/site-packages/xgboost/training.py:183: UserWarning: [17:59:36] WARNING: /Users/runner/work/xgboost/xgboost/src/learner.cc:738: \n",
      "Parameters: { \"use_label_encoder\" } are not used.\n",
      "\n",
      "  bst.update(dtrain, iteration=i, fobj=obj)\n",
      "/Users/shofiyamuntazyrahmani/Documents/Nabila/DataScienceJourney/.conda/lib/python3.11/site-packages/xgboost/training.py:183: UserWarning: [17:59:36] WARNING: /Users/runner/work/xgboost/xgboost/src/learner.cc:738: \n",
      "Parameters: { \"use_label_encoder\" } are not used.\n",
      "\n",
      "  bst.update(dtrain, iteration=i, fobj=obj)\n"
     ]
    },
    {
     "name": "stdout",
     "output_type": "stream",
     "text": [
      "[CV] END colsample_bytree=0.7064192798921809, gamma=5, learning_rate=0.2759759824117005, max_depth=5, min_child_weight=3, n_estimators=183, subsample=0.8442279200403059; total time=   0.5s\n",
      "[CV] END colsample_bytree=0.7064192798921809, gamma=5, learning_rate=0.2759759824117005, max_depth=5, min_child_weight=3, n_estimators=183, subsample=0.8442279200403059; total time=   0.6s\n"
     ]
    },
    {
     "name": "stderr",
     "output_type": "stream",
     "text": [
      "/Users/shofiyamuntazyrahmani/Documents/Nabila/DataScienceJourney/.conda/lib/python3.11/site-packages/xgboost/training.py:183: UserWarning: [17:59:36] WARNING: /Users/runner/work/xgboost/xgboost/src/learner.cc:738: \n",
      "Parameters: { \"use_label_encoder\" } are not used.\n",
      "\n",
      "  bst.update(dtrain, iteration=i, fobj=obj)\n",
      "/Users/shofiyamuntazyrahmani/Documents/Nabila/DataScienceJourney/.conda/lib/python3.11/site-packages/xgboost/training.py:183: UserWarning: [17:59:36] WARNING: /Users/runner/work/xgboost/xgboost/src/learner.cc:738: \n",
      "Parameters: { \"use_label_encoder\" } are not used.\n",
      "\n",
      "  bst.update(dtrain, iteration=i, fobj=obj)\n"
     ]
    },
    {
     "name": "stdout",
     "output_type": "stream",
     "text": [
      "[CV] END colsample_bytree=0.7898818237670091, gamma=1, learning_rate=0.1476008821934647, max_depth=3, min_child_weight=5, n_estimators=242, subsample=0.9108097313365484; total time=   0.8s\n",
      "[CV] END colsample_bytree=0.7898818237670091, gamma=1, learning_rate=0.1476008821934647, max_depth=3, min_child_weight=5, n_estimators=242, subsample=0.9108097313365484; total time=   0.8s\n",
      "[CV] END colsample_bytree=0.7898818237670091, gamma=1, learning_rate=0.1476008821934647, max_depth=3, min_child_weight=5, n_estimators=242, subsample=0.9108097313365484; total time=   0.8s\n",
      "[CV] END colsample_bytree=0.7898818237670091, gamma=1, learning_rate=0.1476008821934647, max_depth=3, min_child_weight=5, n_estimators=242, subsample=0.9108097313365484; total time=   0.8s\n"
     ]
    },
    {
     "name": "stderr",
     "output_type": "stream",
     "text": [
      "/Users/shofiyamuntazyrahmani/Documents/Nabila/DataScienceJourney/.conda/lib/python3.11/site-packages/xgboost/training.py:183: UserWarning: [17:59:36] WARNING: /Users/runner/work/xgboost/xgboost/src/learner.cc:738: \n",
      "Parameters: { \"use_label_encoder\" } are not used.\n",
      "\n",
      "  bst.update(dtrain, iteration=i, fobj=obj)\n",
      "/Users/shofiyamuntazyrahmani/Documents/Nabila/DataScienceJourney/.conda/lib/python3.11/site-packages/xgboost/training.py:183: UserWarning: [17:59:36] WARNING: /Users/runner/work/xgboost/xgboost/src/learner.cc:738: \n",
      "Parameters: { \"use_label_encoder\" } are not used.\n",
      "\n",
      "  bst.update(dtrain, iteration=i, fobj=obj)\n",
      "/Users/shofiyamuntazyrahmani/Documents/Nabila/DataScienceJourney/.conda/lib/python3.11/site-packages/xgboost/training.py:183: UserWarning: [17:59:36] WARNING: /Users/runner/work/xgboost/xgboost/src/learner.cc:738: \n",
      "Parameters: { \"use_label_encoder\" } are not used.\n",
      "\n",
      "  bst.update(dtrain, iteration=i, fobj=obj)\n",
      "/Users/shofiyamuntazyrahmani/Documents/Nabila/DataScienceJourney/.conda/lib/python3.11/site-packages/xgboost/training.py:183: UserWarning: [17:59:36] WARNING: /Users/runner/work/xgboost/xgboost/src/learner.cc:738: \n",
      "Parameters: { \"use_label_encoder\" } are not used.\n",
      "\n",
      "  bst.update(dtrain, iteration=i, fobj=obj)\n"
     ]
    },
    {
     "name": "stdout",
     "output_type": "stream",
     "text": [
      "[CV] END colsample_bytree=0.7898818237670091, gamma=1, learning_rate=0.1476008821934647, max_depth=3, min_child_weight=5, n_estimators=242, subsample=0.9108097313365484; total time=   0.8s\n",
      "[CV] END colsample_bytree=0.8062624839828224, gamma=5, learning_rate=0.11275563574611142, max_depth=3, min_child_weight=5, n_estimators=167, subsample=0.6642419870793026; total time=   0.7s\n",
      "[CV] END colsample_bytree=0.8062624839828224, gamma=5, learning_rate=0.11275563574611142, max_depth=3, min_child_weight=5, n_estimators=167, subsample=0.6642419870793026; total time=   0.6s\n",
      "[CV] END colsample_bytree=0.8062624839828224, gamma=5, learning_rate=0.11275563574611142, max_depth=3, min_child_weight=5, n_estimators=167, subsample=0.6642419870793026; total time=   0.7s\n"
     ]
    },
    {
     "name": "stderr",
     "output_type": "stream",
     "text": [
      "/Users/shofiyamuntazyrahmani/Documents/Nabila/DataScienceJourney/.conda/lib/python3.11/site-packages/xgboost/training.py:183: UserWarning: [17:59:36] WARNING: /Users/runner/work/xgboost/xgboost/src/learner.cc:738: \n",
      "Parameters: { \"use_label_encoder\" } are not used.\n",
      "\n",
      "  bst.update(dtrain, iteration=i, fobj=obj)\n",
      "/Users/shofiyamuntazyrahmani/Documents/Nabila/DataScienceJourney/.conda/lib/python3.11/site-packages/xgboost/training.py:183: UserWarning: [17:59:36] WARNING: /Users/runner/work/xgboost/xgboost/src/learner.cc:738: \n",
      "Parameters: { \"use_label_encoder\" } are not used.\n",
      "\n",
      "  bst.update(dtrain, iteration=i, fobj=obj)\n",
      "/Users/shofiyamuntazyrahmani/Documents/Nabila/DataScienceJourney/.conda/lib/python3.11/site-packages/xgboost/training.py:183: UserWarning: [17:59:36] WARNING: /Users/runner/work/xgboost/xgboost/src/learner.cc:738: \n",
      "Parameters: { \"use_label_encoder\" } are not used.\n",
      "\n",
      "  bst.update(dtrain, iteration=i, fobj=obj)\n",
      "/Users/shofiyamuntazyrahmani/Documents/Nabila/DataScienceJourney/.conda/lib/python3.11/site-packages/xgboost/training.py:183: UserWarning: [17:59:37] WARNING: /Users/runner/work/xgboost/xgboost/src/learner.cc:738: \n",
      "Parameters: { \"use_label_encoder\" } are not used.\n",
      "\n",
      "  bst.update(dtrain, iteration=i, fobj=obj)\n"
     ]
    },
    {
     "name": "stdout",
     "output_type": "stream",
     "text": [
      "[CV] END colsample_bytree=0.8062624839828224, gamma=5, learning_rate=0.11275563574611142, max_depth=3, min_child_weight=5, n_estimators=167, subsample=0.6642419870793026; total time=   0.6s\n",
      "[CV] END colsample_bytree=0.8062624839828224, gamma=5, learning_rate=0.11275563574611142, max_depth=3, min_child_weight=5, n_estimators=167, subsample=0.6642419870793026; total time=   0.6s\n"
     ]
    },
    {
     "name": "stderr",
     "output_type": "stream",
     "text": [
      "/Users/shofiyamuntazyrahmani/Documents/Nabila/DataScienceJourney/.conda/lib/python3.11/site-packages/xgboost/training.py:183: UserWarning: [17:59:37] WARNING: /Users/runner/work/xgboost/xgboost/src/learner.cc:738: \n",
      "Parameters: { \"use_label_encoder\" } are not used.\n",
      "\n",
      "  bst.update(dtrain, iteration=i, fobj=obj)\n",
      "/Users/shofiyamuntazyrahmani/Documents/Nabila/DataScienceJourney/.conda/lib/python3.11/site-packages/xgboost/training.py:183: UserWarning: [17:59:37] WARNING: /Users/runner/work/xgboost/xgboost/src/learner.cc:738: \n",
      "Parameters: { \"use_label_encoder\" } are not used.\n",
      "\n",
      "  bst.update(dtrain, iteration=i, fobj=obj)\n",
      "/Users/shofiyamuntazyrahmani/Documents/Nabila/DataScienceJourney/.conda/lib/python3.11/site-packages/xgboost/training.py:183: UserWarning: [17:59:37] WARNING: /Users/runner/work/xgboost/xgboost/src/learner.cc:738: \n",
      "Parameters: { \"use_label_encoder\" } are not used.\n",
      "\n",
      "  bst.update(dtrain, iteration=i, fobj=obj)\n"
     ]
    },
    {
     "name": "stdout",
     "output_type": "stream",
     "text": [
      "[CV] END colsample_bytree=0.9962675565970909, gamma=5, learning_rate=0.05940760624729107, max_depth=5, min_child_weight=5, n_estimators=142, subsample=0.5160545524247744; total time=   0.7s\n",
      "[CV] END colsample_bytree=0.9962675565970909, gamma=5, learning_rate=0.05940760624729107, max_depth=5, min_child_weight=5, n_estimators=142, subsample=0.5160545524247744; total time=   0.7s\n",
      "[CV] END colsample_bytree=0.9962675565970909, gamma=5, learning_rate=0.05940760624729107, max_depth=5, min_child_weight=5, n_estimators=142, subsample=0.5160545524247744; total time=   0.6s\n",
      "[CV] END colsample_bytree=0.9962675565970909, gamma=5, learning_rate=0.05940760624729107, max_depth=5, min_child_weight=5, n_estimators=142, subsample=0.5160545524247744; total time=   0.7s\n",
      "[CV] END colsample_bytree=0.9962675565970909, gamma=5, learning_rate=0.05940760624729107, max_depth=5, min_child_weight=5, n_estimators=142, subsample=0.5160545524247744; total time=   0.7s\n"
     ]
    },
    {
     "name": "stderr",
     "output_type": "stream",
     "text": [
      "/Users/shofiyamuntazyrahmani/Documents/Nabila/DataScienceJourney/.conda/lib/python3.11/site-packages/xgboost/training.py:183: UserWarning: [17:59:37] WARNING: /Users/runner/work/xgboost/xgboost/src/learner.cc:738: \n",
      "Parameters: { \"use_label_encoder\" } are not used.\n",
      "\n",
      "  bst.update(dtrain, iteration=i, fobj=obj)\n",
      "/Users/shofiyamuntazyrahmani/Documents/Nabila/DataScienceJourney/.conda/lib/python3.11/site-packages/xgboost/training.py:183: UserWarning: [17:59:37] WARNING: /Users/runner/work/xgboost/xgboost/src/learner.cc:738: \n",
      "Parameters: { \"use_label_encoder\" } are not used.\n",
      "\n",
      "  bst.update(dtrain, iteration=i, fobj=obj)\n",
      "/Users/shofiyamuntazyrahmani/Documents/Nabila/DataScienceJourney/.conda/lib/python3.11/site-packages/xgboost/training.py:183: UserWarning: [17:59:37] WARNING: /Users/runner/work/xgboost/xgboost/src/learner.cc:738: \n",
      "Parameters: { \"use_label_encoder\" } are not used.\n",
      "\n",
      "  bst.update(dtrain, iteration=i, fobj=obj)\n",
      "/Users/shofiyamuntazyrahmani/Documents/Nabila/DataScienceJourney/.conda/lib/python3.11/site-packages/xgboost/training.py:183: UserWarning: [17:59:37] WARNING: /Users/runner/work/xgboost/xgboost/src/learner.cc:738: \n",
      "Parameters: { \"use_label_encoder\" } are not used.\n",
      "\n",
      "  bst.update(dtrain, iteration=i, fobj=obj)\n"
     ]
    },
    {
     "name": "stdout",
     "output_type": "stream",
     "text": [
      "[CV] END colsample_bytree=0.5939736178607398, gamma=0, learning_rate=0.08496179003331614, max_depth=10, min_child_weight=5, n_estimators=140, subsample=0.8117751664378894; total time=   1.0s\n",
      "[CV] END colsample_bytree=0.5939736178607398, gamma=0, learning_rate=0.08496179003331614, max_depth=10, min_child_weight=5, n_estimators=140, subsample=0.8117751664378894; total time=   1.0s\n",
      "[CV] END colsample_bytree=0.5939736178607398, gamma=0, learning_rate=0.08496179003331614, max_depth=10, min_child_weight=5, n_estimators=140, subsample=0.8117751664378894; total time=   0.9s\n"
     ]
    },
    {
     "name": "stderr",
     "output_type": "stream",
     "text": [
      "/Users/shofiyamuntazyrahmani/Documents/Nabila/DataScienceJourney/.conda/lib/python3.11/site-packages/xgboost/training.py:183: UserWarning: [17:59:38] WARNING: /Users/runner/work/xgboost/xgboost/src/learner.cc:738: \n",
      "Parameters: { \"use_label_encoder\" } are not used.\n",
      "\n",
      "  bst.update(dtrain, iteration=i, fobj=obj)\n",
      "/Users/shofiyamuntazyrahmani/Documents/Nabila/DataScienceJourney/.conda/lib/python3.11/site-packages/xgboost/training.py:183: UserWarning: [17:59:38] WARNING: /Users/runner/work/xgboost/xgboost/src/learner.cc:738: \n",
      "Parameters: { \"use_label_encoder\" } are not used.\n",
      "\n",
      "  bst.update(dtrain, iteration=i, fobj=obj)\n",
      "/Users/shofiyamuntazyrahmani/Documents/Nabila/DataScienceJourney/.conda/lib/python3.11/site-packages/xgboost/training.py:183: UserWarning: [17:59:38] WARNING: /Users/runner/work/xgboost/xgboost/src/learner.cc:738: \n",
      "Parameters: { \"use_label_encoder\" } are not used.\n",
      "\n",
      "  bst.update(dtrain, iteration=i, fobj=obj)\n"
     ]
    },
    {
     "name": "stdout",
     "output_type": "stream",
     "text": [
      "[CV] END colsample_bytree=0.6025464671485663, gamma=5, learning_rate=0.24944747383138177, max_depth=3, min_child_weight=3, n_estimators=265, subsample=0.6733986400941606; total time=   0.8s\n",
      "[CV] END colsample_bytree=0.6025464671485663, gamma=5, learning_rate=0.24944747383138177, max_depth=3, min_child_weight=3, n_estimators=265, subsample=0.6733986400941606; total time=   0.8s\n",
      "[CV] END colsample_bytree=0.6025464671485663, gamma=5, learning_rate=0.24944747383138177, max_depth=3, min_child_weight=3, n_estimators=265, subsample=0.6733986400941606; total time=   0.9s\n",
      "[CV] END colsample_bytree=0.5939736178607398, gamma=0, learning_rate=0.08496179003331614, max_depth=10, min_child_weight=5, n_estimators=140, subsample=0.8117751664378894; total time=   1.0s\n",
      "[CV] END colsample_bytree=0.5939736178607398, gamma=0, learning_rate=0.08496179003331614, max_depth=10, min_child_weight=5, n_estimators=140, subsample=0.8117751664378894; total time=   1.1s\n"
     ]
    },
    {
     "name": "stderr",
     "output_type": "stream",
     "text": [
      "/Users/shofiyamuntazyrahmani/Documents/Nabila/DataScienceJourney/.conda/lib/python3.11/site-packages/xgboost/training.py:183: UserWarning: [17:59:38] WARNING: /Users/runner/work/xgboost/xgboost/src/learner.cc:738: \n",
      "Parameters: { \"use_label_encoder\" } are not used.\n",
      "\n",
      "  bst.update(dtrain, iteration=i, fobj=obj)\n",
      "/Users/shofiyamuntazyrahmani/Documents/Nabila/DataScienceJourney/.conda/lib/python3.11/site-packages/xgboost/training.py:183: UserWarning: [17:59:38] WARNING: /Users/runner/work/xgboost/xgboost/src/learner.cc:738: \n",
      "Parameters: { \"use_label_encoder\" } are not used.\n",
      "\n",
      "  bst.update(dtrain, iteration=i, fobj=obj)\n",
      "/Users/shofiyamuntazyrahmani/Documents/Nabila/DataScienceJourney/.conda/lib/python3.11/site-packages/xgboost/training.py:183: UserWarning: [17:59:38] WARNING: /Users/runner/work/xgboost/xgboost/src/learner.cc:738: \n",
      "Parameters: { \"use_label_encoder\" } are not used.\n",
      "\n",
      "  bst.update(dtrain, iteration=i, fobj=obj)\n",
      "/Users/shofiyamuntazyrahmani/Documents/Nabila/DataScienceJourney/.conda/lib/python3.11/site-packages/xgboost/training.py:183: UserWarning: [17:59:38] WARNING: /Users/runner/work/xgboost/xgboost/src/learner.cc:738: \n",
      "Parameters: { \"use_label_encoder\" } are not used.\n",
      "\n",
      "  bst.update(dtrain, iteration=i, fobj=obj)\n",
      "/Users/shofiyamuntazyrahmani/Documents/Nabila/DataScienceJourney/.conda/lib/python3.11/site-packages/xgboost/training.py:183: UserWarning: [17:59:38] WARNING: /Users/runner/work/xgboost/xgboost/src/learner.cc:738: \n",
      "Parameters: { \"use_label_encoder\" } are not used.\n",
      "\n",
      "  bst.update(dtrain, iteration=i, fobj=obj)\n"
     ]
    },
    {
     "name": "stdout",
     "output_type": "stream",
     "text": [
      "[CV] END colsample_bytree=0.6495495854067106, gamma=1, learning_rate=0.1710637563591719, max_depth=10, min_child_weight=3, n_estimators=124, subsample=0.7948651214258127; total time=   0.6s\n",
      "[CV] END colsample_bytree=0.6025464671485663, gamma=5, learning_rate=0.24944747383138177, max_depth=3, min_child_weight=3, n_estimators=265, subsample=0.6733986400941606; total time=   0.8s\n",
      "[CV] END colsample_bytree=0.6025464671485663, gamma=5, learning_rate=0.24944747383138177, max_depth=3, min_child_weight=3, n_estimators=265, subsample=0.6733986400941606; total time=   0.8s\n"
     ]
    },
    {
     "name": "stderr",
     "output_type": "stream",
     "text": [
      "/Users/shofiyamuntazyrahmani/Documents/Nabila/DataScienceJourney/.conda/lib/python3.11/site-packages/xgboost/training.py:183: UserWarning: [17:59:38] WARNING: /Users/runner/work/xgboost/xgboost/src/learner.cc:738: \n",
      "Parameters: { \"use_label_encoder\" } are not used.\n",
      "\n",
      "  bst.update(dtrain, iteration=i, fobj=obj)\n",
      "/Users/shofiyamuntazyrahmani/Documents/Nabila/DataScienceJourney/.conda/lib/python3.11/site-packages/xgboost/training.py:183: UserWarning: [17:59:38] WARNING: /Users/runner/work/xgboost/xgboost/src/learner.cc:738: \n",
      "Parameters: { \"use_label_encoder\" } are not used.\n",
      "\n",
      "  bst.update(dtrain, iteration=i, fobj=obj)\n",
      "/Users/shofiyamuntazyrahmani/Documents/Nabila/DataScienceJourney/.conda/lib/python3.11/site-packages/xgboost/training.py:183: UserWarning: [17:59:39] WARNING: /Users/runner/work/xgboost/xgboost/src/learner.cc:738: \n",
      "Parameters: { \"use_label_encoder\" } are not used.\n",
      "\n",
      "  bst.update(dtrain, iteration=i, fobj=obj)\n",
      "/Users/shofiyamuntazyrahmani/Documents/Nabila/DataScienceJourney/.conda/lib/python3.11/site-packages/xgboost/training.py:183: UserWarning: [17:59:39] WARNING: /Users/runner/work/xgboost/xgboost/src/learner.cc:738: \n",
      "Parameters: { \"use_label_encoder\" } are not used.\n",
      "\n",
      "  bst.update(dtrain, iteration=i, fobj=obj)\n"
     ]
    },
    {
     "name": "stdout",
     "output_type": "stream",
     "text": [
      "[CV] END colsample_bytree=0.6495495854067106, gamma=1, learning_rate=0.1710637563591719, max_depth=10, min_child_weight=3, n_estimators=124, subsample=0.7948651214258127; total time=   0.6s\n",
      "[CV] END colsample_bytree=0.6495495854067106, gamma=1, learning_rate=0.1710637563591719, max_depth=10, min_child_weight=3, n_estimators=124, subsample=0.7948651214258127; total time=   0.6s\n",
      "[CV] END colsample_bytree=0.6495495854067106, gamma=1, learning_rate=0.1710637563591719, max_depth=10, min_child_weight=3, n_estimators=124, subsample=0.7948651214258127; total time=   0.6s\n",
      "[CV] END colsample_bytree=0.6495495854067106, gamma=1, learning_rate=0.1710637563591719, max_depth=10, min_child_weight=3, n_estimators=124, subsample=0.7948651214258127; total time=   0.6s\n",
      "[CV] END colsample_bytree=0.8100474162145077, gamma=5, learning_rate=0.16191115060301678, max_depth=3, min_child_weight=5, n_estimators=298, subsample=0.9967571166375963; total time=   0.8s\n",
      "[CV] END colsample_bytree=0.8100474162145077, gamma=5, learning_rate=0.16191115060301678, max_depth=3, min_child_weight=5, n_estimators=298, subsample=0.9967571166375963; total time=   0.7s\n",
      "[CV] END colsample_bytree=0.8100474162145077, gamma=5, learning_rate=0.16191115060301678, max_depth=3, min_child_weight=5, n_estimators=298, subsample=0.9967571166375963; total time=   0.7s\n",
      "[CV] END colsample_bytree=0.8100474162145077, gamma=5, learning_rate=0.16191115060301678, max_depth=3, min_child_weight=5, n_estimators=298, subsample=0.9967571166375963; total time=   0.6s\n",
      "[CV] END colsample_bytree=0.8100474162145077, gamma=5, learning_rate=0.16191115060301678, max_depth=3, min_child_weight=5, n_estimators=298, subsample=0.9967571166375963; total time=   0.6s\n"
     ]
    },
    {
     "name": "stderr",
     "output_type": "stream",
     "text": [
      "/Users/shofiyamuntazyrahmani/Documents/Nabila/DataScienceJourney/.conda/lib/python3.11/site-packages/xgboost/training.py:183: UserWarning: [17:59:39] WARNING: /Users/runner/work/xgboost/xgboost/src/learner.cc:738: \n",
      "Parameters: { \"use_label_encoder\" } are not used.\n",
      "\n",
      "  bst.update(dtrain, iteration=i, fobj=obj)\n"
     ]
    },
    {
     "name": "stdout",
     "output_type": "stream",
     "text": [
      "Best Params: {'colsample_bytree': np.float64(0.5597469038345397), 'gamma': 0, 'learning_rate': np.float64(0.2917213800158865), 'max_depth': 5, 'min_child_weight': 3, 'n_estimators': 110, 'subsample': np.float64(0.7282326150471554)}\n",
      "\n",
      "=== Default Threshold (0.5) ===\n",
      "Accuracy : 0.7894736842105263\n",
      "Precision: 0.7459962756052142\n",
      "Recall   : 0.6518060527172145\n",
      "F1 Score : 0.6957276832233414\n",
      "\n",
      "=== Custom Threshold (0.3) ===\n",
      "Accuracy : 0.6685892814227349\n",
      "Precision: 0.5301377726750861\n",
      "Recall   : 0.9015619915392125\n",
      "F1 Score : 0.6676708037112905\n"
     ]
    }
   ],
   "source": [
    "from sklearn.model_selection import RandomizedSearchCV\n",
    "from scipy.stats import randint, uniform\n",
    "from xgboost import XGBClassifier\n",
    "from sklearn.metrics import accuracy_score, f1_score, recall_score, precision_score\n",
    "\n",
    "# Parameter distribusi untuk tuning\n",
    "param_dist = {\n",
    "    'n_estimators': randint(100, 300),\n",
    "    'max_depth': [3, 5, 10, None],\n",
    "    'learning_rate': uniform(0.01, 0.3),\n",
    "    'subsample': uniform(0.5, 0.5),\n",
    "    'colsample_bytree': uniform(0.5, 0.5),\n",
    "    'min_child_weight': [1, 3, 5],\n",
    "    'gamma': [0, 1, 5],\n",
    "}\n",
    "\n",
    "# Inisialisasi model\n",
    "xgb = XGBClassifier(use_label_encoder=False, eval_metric='logloss', random_state=1616)\n",
    "\n",
    "# Randomized Search\n",
    "random_search_2 = RandomizedSearchCV(\n",
    "    estimator=xgb,\n",
    "    param_distributions=param_dist,\n",
    "    n_iter=20,\n",
    "    scoring='recall',\n",
    "    cv=5,\n",
    "    verbose=2,\n",
    "    random_state=1616,\n",
    "    n_jobs=-1\n",
    ")\n",
    "\n",
    "# Fit ke data train\n",
    "random_search_2.fit(X_train_balanced, y_train_balanced)\n",
    "\n",
    "# Model terbaik\n",
    "best_model = random_search_2.best_estimator_\n",
    "print(\"Best Params:\", random_search_2.best_params_)\n",
    "\n",
    "# === Evaluasi default threshold (0.5)\n",
    "y_pred_default = best_model.predict(X_val_processed)\n",
    "\n",
    "print(\"\\n=== Default Threshold (0.5) ===\")\n",
    "print(\"Accuracy :\", accuracy_score(y_val, y_pred_default))\n",
    "print(\"Precision:\", precision_score(y_val, y_pred_default))\n",
    "print(\"Recall   :\", recall_score(y_val, y_pred_default))\n",
    "print(\"F1 Score :\", f1_score(y_val, y_pred_default))\n",
    "\n",
    "# === Evaluasi custom threshold (0.3)\n",
    "y_proba = best_model.predict_proba(X_val_processed)[:, 1]\n",
    "y_pred_custom = (y_proba >= 0.3).astype(int)\n",
    "\n",
    "print(\"\\n=== Custom Threshold (0.3) ===\")\n",
    "print(\"Accuracy :\", accuracy_score(y_val, y_pred_custom))\n",
    "print(\"Precision:\", precision_score(y_val, y_pred_custom))\n",
    "print(\"Recall   :\", recall_score(y_val, y_pred_custom))\n",
    "print(\"F1 Score :\", f1_score(y_val, y_pred_custom))\n"
   ]
  },
  {
   "cell_type": "code",
   "execution_count": 86,
   "id": "df5145d7",
   "metadata": {},
   "outputs": [
    {
     "data": {
      "image/png": "[encoded data removed]",
      "text/plain": [
       "<Figure size 1000x600 with 1 Axes>"
      ]
     },
     "metadata": {},
     "output_type": "display_data"
    }
   ],
   "source": [
    "# Ambil model terbaik dari hasil RandomizedSearchCV\n",
    "best_model = random_search_2.best_estimator_\n",
    "\n",
    "# Ambil feature importances dari model XGBoost (pastikan ini XGBClassifier)\n",
    "importances = best_model.feature_importances_\n",
    "\n",
    "# Jika kamu menggunakan pipeline, ambil nama kolom dengan cara ini:\n",
    "feature_names = preprocess_pipeline.named_steps['preprocessor'].get_feature_names_out()\n",
    "\n",
    "# Buat DataFrame untuk visualisasi\n",
    "import pandas as pd\n",
    "import matplotlib.pyplot as plt\n",
    "import seaborn as sns\n",
    "\n",
    "feature_df = pd.DataFrame({\n",
    "    'feature': feature_names,\n",
    "    'importance': importances\n",
    "}).sort_values(by='importance', ascending=False)\n",
    "\n",
    "# Plot top 15 fitur\n",
    "plt.figure(figsize=(10, 6))\n",
    "sns.barplot(data=feature_df.head(15), x='importance', y='feature')\n",
    "plt.title('Top 15 Feature Importance')\n",
    "plt.xlabel('Importance')\n",
    "plt.ylabel('Feature')\n",
    "plt.tight_layout()\n",
    "plt.show()\n"
   ]
  },
  {
   "cell_type": "code",
   "execution_count": 87,
   "id": "c37fc05f",
   "metadata": {},
   "outputs": [
    {
     "name": "stdout",
     "output_type": "stream",
     "text": [
      "Fitur yang akan di-drop: ['onehot__reserved_room_type_L', 'onehot__reserved_room_type_P', 'onehot__market_segment_Undefined', 'onehot__deposit_type_Refundable', 'onehot__country_region_Oceania', 'onehot__country_region_North America']\n"
     ]
    }
   ],
   "source": [
    "# 1. Ambil model terbaik hasil tuning\n",
    "best_model = random_search_2.best_estimator_\n",
    "\n",
    "# 2. Ambil feature importance\n",
    "importances = best_model.feature_importances_\n",
    "feature_names = preprocess_pipeline.named_steps['preprocessor'].get_feature_names_out()\n",
    "\n",
    "# 3. Buat DataFrame dan urutkan\n",
    "import pandas as pd\n",
    "\n",
    "feature_df = pd.DataFrame({\n",
    "    'feature': feature_names,\n",
    "    'importance': importances\n",
    "}).sort_values(by='importance', ascending=True)\n",
    "\n",
    "# 4. Ambil 6 fitur dengan importance terkecil\n",
    "least_important_features = feature_df.head(6)['feature'].tolist()\n",
    "print(\"Fitur yang akan di-drop:\", least_important_features)\n",
    "\n",
    "\n"
   ]
  },
  {
   "cell_type": "code",
   "execution_count": 102,
   "id": "1f2cb8a8",
   "metadata": {},
   "outputs": [],
   "source": [
    "# 5. Drop fitur tersebut dari data yang sudah diproses\n",
    "import numpy as np\n",
    "\n",
    "# Konversi hasil preprocessing ke DataFrame\n",
    "X_train_df = pd.DataFrame(X_train_balanced, columns=feature_names)\n",
    "X_val_df = pd.DataFrame(X_val_processed, columns=feature_names)\n",
    "\n",
    "\n",
    "# Hapus fitur\n",
    "X_train_reduced = X_train_df.drop(columns=least_important_features)\n",
    "X_val_reduced = X_val_df.drop(columns=least_important_features)\n",
    "\n"
   ]
  },
  {
   "cell_type": "code",
   "execution_count": 103,
   "id": "2e6b4fe4",
   "metadata": {},
   "outputs": [],
   "source": [
    "# Pastikan index y_train_balanced sama dengan X_train_balanced_df\n",
    "y_train_balanced = pd.Series(y_train_balanced, index=X_train_balanced_df.index)\n"
   ]
  },
  {
   "cell_type": "code",
   "execution_count": 110,
   "id": "20a178c1",
   "metadata": {},
   "outputs": [
    {
     "name": "stdout",
     "output_type": "stream",
     "text": [
      "Fitting 5 folds for each of 20 candidates, totalling 100 fits\n"
     ]
    },
    {
     "name": "stderr",
     "output_type": "stream",
     "text": [
      "/Users/shofiyamuntazyrahmani/Documents/Nabila/DataScienceJourney/.conda/lib/python3.11/site-packages/xgboost/training.py:183: UserWarning: [17:12:03] WARNING: /Users/runner/work/xgboost/xgboost/src/learner.cc:738: \n",
      "Parameters: { \"use_label_encoder\" } are not used.\n",
      "\n",
      "  bst.update(dtrain, iteration=i, fobj=obj)\n",
      "/Users/shofiyamuntazyrahmani/Documents/Nabila/DataScienceJourney/.conda/lib/python3.11/site-packages/xgboost/training.py:183: UserWarning: [17:12:03] WARNING: /Users/runner/work/xgboost/xgboost/src/learner.cc:738: \n",
      "Parameters: { \"use_label_encoder\" } are not used.\n",
      "\n",
      "  bst.update(dtrain, iteration=i, fobj=obj)\n",
      "/Users/shofiyamuntazyrahmani/Documents/Nabila/DataScienceJourney/.conda/lib/python3.11/site-packages/xgboost/training.py:183: UserWarning: [17:12:03] WARNING: /Users/runner/work/xgboost/xgboost/src/learner.cc:738: \n",
      "Parameters: { \"use_label_encoder\" } are not used.\n",
      "\n",
      "  bst.update(dtrain, iteration=i, fobj=obj)\n",
      "/Users/shofiyamuntazyrahmani/Documents/Nabila/DataScienceJourney/.conda/lib/python3.11/site-packages/xgboost/training.py:183: UserWarning: [17:12:03] WARNING: /Users/runner/work/xgboost/xgboost/src/learner.cc:738: \n",
      "Parameters: { \"use_label_encoder\" } are not used.\n",
      "\n",
      "  bst.update(dtrain, iteration=i, fobj=obj)\n",
      "/Users/shofiyamuntazyrahmani/Documents/Nabila/DataScienceJourney/.conda/lib/python3.11/site-packages/xgboost/training.py:183: UserWarning: [17:12:03] WARNING: /Users/runner/work/xgboost/xgboost/src/learner.cc:738: \n",
      "Parameters: { \"use_label_encoder\" } are not used.\n",
      "\n",
      "  bst.update(dtrain, iteration=i, fobj=obj)\n",
      "/Users/shofiyamuntazyrahmani/Documents/Nabila/DataScienceJourney/.conda/lib/python3.11/site-packages/xgboost/training.py:183: UserWarning: [17:12:03] WARNING: /Users/runner/work/xgboost/xgboost/src/learner.cc:738: \n",
      "Parameters: { \"use_label_encoder\" } are not used.\n",
      "\n",
      "  bst.update(dtrain, iteration=i, fobj=obj)\n",
      "/Users/shofiyamuntazyrahmani/Documents/Nabila/DataScienceJourney/.conda/lib/python3.11/site-packages/xgboost/training.py:183: UserWarning: [17:12:03] WARNING: /Users/runner/work/xgboost/xgboost/src/learner.cc:738: \n",
      "Parameters: { \"use_label_encoder\" } are not used.\n",
      "\n",
      "  bst.update(dtrain, iteration=i, fobj=obj)\n",
      "/Users/shofiyamuntazyrahmani/Documents/Nabila/DataScienceJourney/.conda/lib/python3.11/site-packages/xgboost/training.py:183: UserWarning: [17:12:03] WARNING: /Users/runner/work/xgboost/xgboost/src/learner.cc:738: \n",
      "Parameters: { \"use_label_encoder\" } are not used.\n",
      "\n",
      "  bst.update(dtrain, iteration=i, fobj=obj)\n"
     ]
    },
    {
     "name": "stdout",
     "output_type": "stream",
     "text": [
      "[CV] END colsample_bytree=0.6225067417680624, gamma=1, learning_rate=0.23685009255805411, max_depth=5, min_child_weight=1, n_estimators=144, subsample=0.8766859219080289; total time=   0.6s\n",
      "[CV] END colsample_bytree=0.6225067417680624, gamma=1, learning_rate=0.23685009255805411, max_depth=5, min_child_weight=1, n_estimators=144, subsample=0.8766859219080289; total time=   0.6s\n",
      "[CV] END colsample_bytree=0.6225067417680624, gamma=1, learning_rate=0.23685009255805411, max_depth=5, min_child_weight=1, n_estimators=144, subsample=0.8766859219080289; total time=   0.6s\n",
      "[CV] END colsample_bytree=0.6225067417680624, gamma=1, learning_rate=0.23685009255805411, max_depth=5, min_child_weight=1, n_estimators=144, subsample=0.8766859219080289; total time=   0.6s\n",
      "[CV] END colsample_bytree=0.6225067417680624, gamma=1, learning_rate=0.23685009255805411, max_depth=5, min_child_weight=1, n_estimators=144, subsample=0.8766859219080289; total time=   0.7s\n"
     ]
    },
    {
     "name": "stderr",
     "output_type": "stream",
     "text": [
      "/Users/shofiyamuntazyrahmani/Documents/Nabila/DataScienceJourney/.conda/lib/python3.11/site-packages/xgboost/training.py:183: UserWarning: [17:12:03] WARNING: /Users/runner/work/xgboost/xgboost/src/learner.cc:738: \n",
      "Parameters: { \"use_label_encoder\" } are not used.\n",
      "\n",
      "  bst.update(dtrain, iteration=i, fobj=obj)\n",
      "/Users/shofiyamuntazyrahmani/Documents/Nabila/DataScienceJourney/.conda/lib/python3.11/site-packages/xgboost/training.py:183: UserWarning: [17:12:03] WARNING: /Users/runner/work/xgboost/xgboost/src/learner.cc:738: \n",
      "Parameters: { \"use_label_encoder\" } are not used.\n",
      "\n",
      "  bst.update(dtrain, iteration=i, fobj=obj)\n",
      "/Users/shofiyamuntazyrahmani/Documents/Nabila/DataScienceJourney/.conda/lib/python3.11/site-packages/xgboost/training.py:183: UserWarning: [17:12:03] WARNING: /Users/runner/work/xgboost/xgboost/src/learner.cc:738: \n",
      "Parameters: { \"use_label_encoder\" } are not used.\n",
      "\n",
      "  bst.update(dtrain, iteration=i, fobj=obj)\n",
      "/Users/shofiyamuntazyrahmani/Documents/Nabila/DataScienceJourney/.conda/lib/python3.11/site-packages/xgboost/training.py:183: UserWarning: [17:12:03] WARNING: /Users/runner/work/xgboost/xgboost/src/learner.cc:738: \n",
      "Parameters: { \"use_label_encoder\" } are not used.\n",
      "\n",
      "  bst.update(dtrain, iteration=i, fobj=obj)\n",
      "/Users/shofiyamuntazyrahmani/Documents/Nabila/DataScienceJourney/.conda/lib/python3.11/site-packages/xgboost/training.py:183: UserWarning: [17:12:03] WARNING: /Users/runner/work/xgboost/xgboost/src/learner.cc:738: \n",
      "Parameters: { \"use_label_encoder\" } are not used.\n",
      "\n",
      "  bst.update(dtrain, iteration=i, fobj=obj)\n"
     ]
    },
    {
     "name": "stdout",
     "output_type": "stream",
     "text": [
      "[CV] END colsample_bytree=0.565460871667069, gamma=0, learning_rate=0.1553260623769782, max_depth=5, min_child_weight=3, n_estimators=169, subsample=0.7280323656776369; total time=   0.8s\n",
      "[CV] END colsample_bytree=0.565460871667069, gamma=0, learning_rate=0.1553260623769782, max_depth=5, min_child_weight=3, n_estimators=169, subsample=0.7280323656776369; total time=   0.9s\n",
      "[CV] END colsample_bytree=0.565460871667069, gamma=0, learning_rate=0.1553260623769782, max_depth=5, min_child_weight=3, n_estimators=169, subsample=0.7280323656776369; total time=   0.9s\n"
     ]
    },
    {
     "name": "stderr",
     "output_type": "stream",
     "text": [
      "/Users/shofiyamuntazyrahmani/Documents/Nabila/DataScienceJourney/.conda/lib/python3.11/site-packages/xgboost/training.py:183: UserWarning: [17:12:03] WARNING: /Users/runner/work/xgboost/xgboost/src/learner.cc:738: \n",
      "Parameters: { \"use_label_encoder\" } are not used.\n",
      "\n",
      "  bst.update(dtrain, iteration=i, fobj=obj)\n",
      "/Users/shofiyamuntazyrahmani/Documents/Nabila/DataScienceJourney/.conda/lib/python3.11/site-packages/xgboost/training.py:183: UserWarning: [17:12:04] WARNING: /Users/runner/work/xgboost/xgboost/src/learner.cc:738: \n",
      "Parameters: { \"use_label_encoder\" } are not used.\n",
      "\n",
      "  bst.update(dtrain, iteration=i, fobj=obj)\n",
      "/Users/shofiyamuntazyrahmani/Documents/Nabila/DataScienceJourney/.conda/lib/python3.11/site-packages/xgboost/training.py:183: UserWarning: [17:12:04] WARNING: /Users/runner/work/xgboost/xgboost/src/learner.cc:738: \n",
      "Parameters: { \"use_label_encoder\" } are not used.\n",
      "\n",
      "  bst.update(dtrain, iteration=i, fobj=obj)\n"
     ]
    },
    {
     "name": "stdout",
     "output_type": "stream",
     "text": [
      "[CV] END colsample_bytree=0.906959681234591, gamma=5, learning_rate=0.05275026248071355, max_depth=5, min_child_weight=3, n_estimators=133, subsample=0.8279431350960774; total time=   0.6s\n",
      "[CV] END colsample_bytree=0.906959681234591, gamma=5, learning_rate=0.05275026248071355, max_depth=5, min_child_weight=3, n_estimators=133, subsample=0.8279431350960774; total time=   0.7s\n"
     ]
    },
    {
     "name": "stderr",
     "output_type": "stream",
     "text": [
      "/Users/shofiyamuntazyrahmani/Documents/Nabila/DataScienceJourney/.conda/lib/python3.11/site-packages/xgboost/training.py:183: UserWarning: [17:12:04] WARNING: /Users/runner/work/xgboost/xgboost/src/learner.cc:738: \n",
      "Parameters: { \"use_label_encoder\" } are not used.\n",
      "\n",
      "  bst.update(dtrain, iteration=i, fobj=obj)\n",
      "/Users/shofiyamuntazyrahmani/Documents/Nabila/DataScienceJourney/.conda/lib/python3.11/site-packages/xgboost/training.py:183: UserWarning: [17:12:04] WARNING: /Users/runner/work/xgboost/xgboost/src/learner.cc:738: \n",
      "Parameters: { \"use_label_encoder\" } are not used.\n",
      "\n",
      "  bst.update(dtrain, iteration=i, fobj=obj)\n"
     ]
    },
    {
     "name": "stdout",
     "output_type": "stream",
     "text": [
      "[CV] END colsample_bytree=0.565460871667069, gamma=0, learning_rate=0.1553260623769782, max_depth=5, min_child_weight=3, n_estimators=169, subsample=0.7280323656776369; total time=   0.9s\n",
      "[CV] END colsample_bytree=0.565460871667069, gamma=0, learning_rate=0.1553260623769782, max_depth=5, min_child_weight=3, n_estimators=169, subsample=0.7280323656776369; total time=   0.9s\n",
      "[CV] END colsample_bytree=0.906959681234591, gamma=5, learning_rate=0.05275026248071355, max_depth=5, min_child_weight=3, n_estimators=133, subsample=0.8279431350960774; total time=   0.8s\n",
      "[CV] END colsample_bytree=0.906959681234591, gamma=5, learning_rate=0.05275026248071355, max_depth=5, min_child_weight=3, n_estimators=133, subsample=0.8279431350960774; total time=   0.7s\n"
     ]
    },
    {
     "name": "stderr",
     "output_type": "stream",
     "text": [
      "/Users/shofiyamuntazyrahmani/Documents/Nabila/DataScienceJourney/.conda/lib/python3.11/site-packages/xgboost/training.py:183: UserWarning: [17:12:04] WARNING: /Users/runner/work/xgboost/xgboost/src/learner.cc:738: \n",
      "Parameters: { \"use_label_encoder\" } are not used.\n",
      "\n",
      "  bst.update(dtrain, iteration=i, fobj=obj)\n",
      "/Users/shofiyamuntazyrahmani/Documents/Nabila/DataScienceJourney/.conda/lib/python3.11/site-packages/xgboost/training.py:183: UserWarning: [17:12:04] WARNING: /Users/runner/work/xgboost/xgboost/src/learner.cc:738: \n",
      "Parameters: { \"use_label_encoder\" } are not used.\n",
      "\n",
      "  bst.update(dtrain, iteration=i, fobj=obj)\n",
      "/Users/shofiyamuntazyrahmani/Documents/Nabila/DataScienceJourney/.conda/lib/python3.11/site-packages/xgboost/training.py:183: UserWarning: [17:12:04] WARNING: /Users/runner/work/xgboost/xgboost/src/learner.cc:738: \n",
      "Parameters: { \"use_label_encoder\" } are not used.\n",
      "\n",
      "  bst.update(dtrain, iteration=i, fobj=obj)\n",
      "/Users/shofiyamuntazyrahmani/Documents/Nabila/DataScienceJourney/.conda/lib/python3.11/site-packages/xgboost/training.py:183: UserWarning: [17:12:04] WARNING: /Users/runner/work/xgboost/xgboost/src/learner.cc:738: \n",
      "Parameters: { \"use_label_encoder\" } are not used.\n",
      "\n",
      "  bst.update(dtrain, iteration=i, fobj=obj)\n",
      "/Users/shofiyamuntazyrahmani/Documents/Nabila/DataScienceJourney/.conda/lib/python3.11/site-packages/xgboost/training.py:183: UserWarning: [17:12:04] WARNING: /Users/runner/work/xgboost/xgboost/src/learner.cc:738: \n",
      "Parameters: { \"use_label_encoder\" } are not used.\n",
      "\n",
      "  bst.update(dtrain, iteration=i, fobj=obj)\n"
     ]
    },
    {
     "name": "stdout",
     "output_type": "stream",
     "text": [
      "[CV] END colsample_bytree=0.906959681234591, gamma=5, learning_rate=0.05275026248071355, max_depth=5, min_child_weight=3, n_estimators=133, subsample=0.8279431350960774; total time=   0.8s\n",
      "[CV] END colsample_bytree=0.6171582678945587, gamma=0, learning_rate=0.1305270209643234, max_depth=5, min_child_weight=5, n_estimators=101, subsample=0.7838225728339697; total time=   0.6s\n",
      "[CV] END colsample_bytree=0.9474308874448811, gamma=0, learning_rate=0.2511887659999401, max_depth=5, min_child_weight=5, n_estimators=202, subsample=0.8379884352024878; total time=   1.1s\n",
      "[CV] END colsample_bytree=0.9474308874448811, gamma=0, learning_rate=0.2511887659999401, max_depth=5, min_child_weight=5, n_estimators=202, subsample=0.8379884352024878; total time=   0.9s\n",
      "[CV] END colsample_bytree=0.6171582678945587, gamma=0, learning_rate=0.1305270209643234, max_depth=5, min_child_weight=5, n_estimators=101, subsample=0.7838225728339697; total time=   0.5s\n",
      "[CV] END colsample_bytree=0.9474308874448811, gamma=0, learning_rate=0.2511887659999401, max_depth=5, min_child_weight=5, n_estimators=202, subsample=0.8379884352024878; total time=   0.9s\n",
      "[CV] END colsample_bytree=0.6171582678945587, gamma=0, learning_rate=0.1305270209643234, max_depth=5, min_child_weight=5, n_estimators=101, subsample=0.7838225728339697; total time=   0.5s\n"
     ]
    },
    {
     "name": "stderr",
     "output_type": "stream",
     "text": [
      "/Users/shofiyamuntazyrahmani/Documents/Nabila/DataScienceJourney/.conda/lib/python3.11/site-packages/xgboost/training.py:183: UserWarning: [17:12:05] WARNING: /Users/runner/work/xgboost/xgboost/src/learner.cc:738: \n",
      "Parameters: { \"use_label_encoder\" } are not used.\n",
      "\n",
      "  bst.update(dtrain, iteration=i, fobj=obj)\n",
      "/Users/shofiyamuntazyrahmani/Documents/Nabila/DataScienceJourney/.conda/lib/python3.11/site-packages/xgboost/training.py:183: UserWarning: [17:12:05] WARNING: /Users/runner/work/xgboost/xgboost/src/learner.cc:738: \n",
      "Parameters: { \"use_label_encoder\" } are not used.\n",
      "\n",
      "  bst.update(dtrain, iteration=i, fobj=obj)\n",
      "/Users/shofiyamuntazyrahmani/Documents/Nabila/DataScienceJourney/.conda/lib/python3.11/site-packages/xgboost/training.py:183: UserWarning: [17:12:05] WARNING: /Users/runner/work/xgboost/xgboost/src/learner.cc:738: \n",
      "Parameters: { \"use_label_encoder\" } are not used.\n",
      "\n",
      "  bst.update(dtrain, iteration=i, fobj=obj)\n",
      "/Users/shofiyamuntazyrahmani/Documents/Nabila/DataScienceJourney/.conda/lib/python3.11/site-packages/xgboost/training.py:183: UserWarning: [17:12:05] WARNING: /Users/runner/work/xgboost/xgboost/src/learner.cc:738: \n",
      "Parameters: { \"use_label_encoder\" } are not used.\n",
      "\n",
      "  bst.update(dtrain, iteration=i, fobj=obj)\n",
      "/Users/shofiyamuntazyrahmani/Documents/Nabila/DataScienceJourney/.conda/lib/python3.11/site-packages/xgboost/training.py:183: UserWarning: [17:12:05] WARNING: /Users/runner/work/xgboost/xgboost/src/learner.cc:738: \n",
      "Parameters: { \"use_label_encoder\" } are not used.\n",
      "\n",
      "  bst.update(dtrain, iteration=i, fobj=obj)\n",
      "/Users/shofiyamuntazyrahmani/Documents/Nabila/DataScienceJourney/.conda/lib/python3.11/site-packages/xgboost/training.py:183: UserWarning: [17:12:05] WARNING: /Users/runner/work/xgboost/xgboost/src/learner.cc:738: \n",
      "Parameters: { \"use_label_encoder\" } are not used.\n",
      "\n",
      "  bst.update(dtrain, iteration=i, fobj=obj)\n"
     ]
    },
    {
     "name": "stdout",
     "output_type": "stream",
     "text": [
      "[CV] END colsample_bytree=0.9474308874448811, gamma=0, learning_rate=0.2511887659999401, max_depth=5, min_child_weight=5, n_estimators=202, subsample=0.8379884352024878; total time=   0.8s\n",
      "[CV] END colsample_bytree=0.9474308874448811, gamma=0, learning_rate=0.2511887659999401, max_depth=5, min_child_weight=5, n_estimators=202, subsample=0.8379884352024878; total time=   0.9s\n"
     ]
    },
    {
     "name": "stderr",
     "output_type": "stream",
     "text": [
      "/Users/shofiyamuntazyrahmani/Documents/Nabila/DataScienceJourney/.conda/lib/python3.11/site-packages/xgboost/training.py:183: UserWarning: [17:12:05] WARNING: /Users/runner/work/xgboost/xgboost/src/learner.cc:738: \n",
      "Parameters: { \"use_label_encoder\" } are not used.\n",
      "\n",
      "  bst.update(dtrain, iteration=i, fobj=obj)\n",
      "/Users/shofiyamuntazyrahmani/Documents/Nabila/DataScienceJourney/.conda/lib/python3.11/site-packages/xgboost/training.py:183: UserWarning: [17:12:05] WARNING: /Users/runner/work/xgboost/xgboost/src/learner.cc:738: \n",
      "Parameters: { \"use_label_encoder\" } are not used.\n",
      "\n",
      "  bst.update(dtrain, iteration=i, fobj=obj)\n"
     ]
    },
    {
     "name": "stdout",
     "output_type": "stream",
     "text": [
      "[CV] END colsample_bytree=0.6171582678945587, gamma=0, learning_rate=0.1305270209643234, max_depth=5, min_child_weight=5, n_estimators=101, subsample=0.7838225728339697; total time=   0.5s\n",
      "[CV] END colsample_bytree=0.6171582678945587, gamma=0, learning_rate=0.1305270209643234, max_depth=5, min_child_weight=5, n_estimators=101, subsample=0.7838225728339697; total time=   0.6s\n"
     ]
    },
    {
     "name": "stderr",
     "output_type": "stream",
     "text": [
      "/Users/shofiyamuntazyrahmani/Documents/Nabila/DataScienceJourney/.conda/lib/python3.11/site-packages/xgboost/training.py:183: UserWarning: [17:12:05] WARNING: /Users/runner/work/xgboost/xgboost/src/learner.cc:738: \n",
      "Parameters: { \"use_label_encoder\" } are not used.\n",
      "\n",
      "  bst.update(dtrain, iteration=i, fobj=obj)\n",
      "/Users/shofiyamuntazyrahmani/Documents/Nabila/DataScienceJourney/.conda/lib/python3.11/site-packages/xgboost/training.py:183: UserWarning: [17:12:05] WARNING: /Users/runner/work/xgboost/xgboost/src/learner.cc:738: \n",
      "Parameters: { \"use_label_encoder\" } are not used.\n",
      "\n",
      "  bst.update(dtrain, iteration=i, fobj=obj)\n"
     ]
    },
    {
     "name": "stdout",
     "output_type": "stream",
     "text": [
      "[CV] END colsample_bytree=0.5774344065030359, gamma=1, learning_rate=0.25968800792785385, max_depth=5, min_child_weight=5, n_estimators=193, subsample=0.8200965309394497; total time=   0.7s\n",
      "[CV] END colsample_bytree=0.5774344065030359, gamma=1, learning_rate=0.25968800792785385, max_depth=5, min_child_weight=5, n_estimators=193, subsample=0.8200965309394497; total time=   0.7s\n",
      "[CV] END colsample_bytree=0.5774344065030359, gamma=1, learning_rate=0.25968800792785385, max_depth=5, min_child_weight=5, n_estimators=193, subsample=0.8200965309394497; total time=   0.7s\n",
      "[CV] END colsample_bytree=0.5774344065030359, gamma=1, learning_rate=0.25968800792785385, max_depth=5, min_child_weight=5, n_estimators=193, subsample=0.8200965309394497; total time=   0.6s\n",
      "[CV] END colsample_bytree=0.9940228293319842, gamma=5, learning_rate=0.23633684660275656, max_depth=5, min_child_weight=5, n_estimators=154, subsample=0.8112229960104527; total time=   0.6s\n"
     ]
    },
    {
     "name": "stderr",
     "output_type": "stream",
     "text": [
      "/Users/shofiyamuntazyrahmani/Documents/Nabila/DataScienceJourney/.conda/lib/python3.11/site-packages/xgboost/training.py:183: UserWarning: [17:12:05] WARNING: /Users/runner/work/xgboost/xgboost/src/learner.cc:738: \n",
      "Parameters: { \"use_label_encoder\" } are not used.\n",
      "\n",
      "  bst.update(dtrain, iteration=i, fobj=obj)\n",
      "/Users/shofiyamuntazyrahmani/Documents/Nabila/DataScienceJourney/.conda/lib/python3.11/site-packages/xgboost/training.py:183: UserWarning: [17:12:05] WARNING: /Users/runner/work/xgboost/xgboost/src/learner.cc:738: \n",
      "Parameters: { \"use_label_encoder\" } are not used.\n",
      "\n",
      "  bst.update(dtrain, iteration=i, fobj=obj)\n",
      "/Users/shofiyamuntazyrahmani/Documents/Nabila/DataScienceJourney/.conda/lib/python3.11/site-packages/xgboost/training.py:183: UserWarning: [17:12:05] WARNING: /Users/runner/work/xgboost/xgboost/src/learner.cc:738: \n",
      "Parameters: { \"use_label_encoder\" } are not used.\n",
      "\n",
      "  bst.update(dtrain, iteration=i, fobj=obj)\n",
      "/Users/shofiyamuntazyrahmani/Documents/Nabila/DataScienceJourney/.conda/lib/python3.11/site-packages/xgboost/training.py:183: UserWarning: [17:12:05] WARNING: /Users/runner/work/xgboost/xgboost/src/learner.cc:738: \n",
      "Parameters: { \"use_label_encoder\" } are not used.\n",
      "\n",
      "  bst.update(dtrain, iteration=i, fobj=obj)\n",
      "/Users/shofiyamuntazyrahmani/Documents/Nabila/DataScienceJourney/.conda/lib/python3.11/site-packages/xgboost/training.py:183: UserWarning: [17:12:06] WARNING: /Users/runner/work/xgboost/xgboost/src/learner.cc:738: \n",
      "Parameters: { \"use_label_encoder\" } are not used.\n",
      "\n",
      "  bst.update(dtrain, iteration=i, fobj=obj)\n"
     ]
    },
    {
     "name": "stdout",
     "output_type": "stream",
     "text": [
      "[CV] END colsample_bytree=0.5774344065030359, gamma=1, learning_rate=0.25968800792785385, max_depth=5, min_child_weight=5, n_estimators=193, subsample=0.8200965309394497; total time=   0.7s\n",
      "[CV] END colsample_bytree=0.9940228293319842, gamma=5, learning_rate=0.23633684660275656, max_depth=5, min_child_weight=5, n_estimators=154, subsample=0.8112229960104527; total time=   0.5s\n",
      "[CV] END colsample_bytree=0.9940228293319842, gamma=5, learning_rate=0.23633684660275656, max_depth=5, min_child_weight=5, n_estimators=154, subsample=0.8112229960104527; total time=   0.5s\n"
     ]
    },
    {
     "name": "stderr",
     "output_type": "stream",
     "text": [
      "/Users/shofiyamuntazyrahmani/Documents/Nabila/DataScienceJourney/.conda/lib/python3.11/site-packages/xgboost/training.py:183: UserWarning: [17:12:06] WARNING: /Users/runner/work/xgboost/xgboost/src/learner.cc:738: \n",
      "Parameters: { \"use_label_encoder\" } are not used.\n",
      "\n",
      "  bst.update(dtrain, iteration=i, fobj=obj)\n",
      "/Users/shofiyamuntazyrahmani/Documents/Nabila/DataScienceJourney/.conda/lib/python3.11/site-packages/xgboost/training.py:183: UserWarning: [17:12:06] WARNING: /Users/runner/work/xgboost/xgboost/src/learner.cc:738: \n",
      "Parameters: { \"use_label_encoder\" } are not used.\n",
      "\n",
      "  bst.update(dtrain, iteration=i, fobj=obj)\n",
      "/Users/shofiyamuntazyrahmani/Documents/Nabila/DataScienceJourney/.conda/lib/python3.11/site-packages/xgboost/training.py:183: UserWarning: [17:12:06] WARNING: /Users/runner/work/xgboost/xgboost/src/learner.cc:738: \n",
      "Parameters: { \"use_label_encoder\" } are not used.\n",
      "\n",
      "  bst.update(dtrain, iteration=i, fobj=obj)\n"
     ]
    },
    {
     "name": "stdout",
     "output_type": "stream",
     "text": [
      "[CV] END colsample_bytree=0.9940228293319842, gamma=5, learning_rate=0.23633684660275656, max_depth=5, min_child_weight=5, n_estimators=154, subsample=0.8112229960104527; total time=   0.5s\n",
      "[CV] END colsample_bytree=0.9940228293319842, gamma=5, learning_rate=0.23633684660275656, max_depth=5, min_child_weight=5, n_estimators=154, subsample=0.8112229960104527; total time=   0.5s\n"
     ]
    },
    {
     "name": "stderr",
     "output_type": "stream",
     "text": [
      "/Users/shofiyamuntazyrahmani/Documents/Nabila/DataScienceJourney/.conda/lib/python3.11/site-packages/xgboost/training.py:183: UserWarning: [17:12:06] WARNING: /Users/runner/work/xgboost/xgboost/src/learner.cc:738: \n",
      "Parameters: { \"use_label_encoder\" } are not used.\n",
      "\n",
      "  bst.update(dtrain, iteration=i, fobj=obj)\n",
      "/Users/shofiyamuntazyrahmani/Documents/Nabila/DataScienceJourney/.conda/lib/python3.11/site-packages/xgboost/training.py:183: UserWarning: [17:12:06] WARNING: /Users/runner/work/xgboost/xgboost/src/learner.cc:738: \n",
      "Parameters: { \"use_label_encoder\" } are not used.\n",
      "\n",
      "  bst.update(dtrain, iteration=i, fobj=obj)\n"
     ]
    },
    {
     "name": "stdout",
     "output_type": "stream",
     "text": [
      "[CV] END colsample_bytree=0.5881245228925185, gamma=1, learning_rate=0.25888327240687387, max_depth=None, min_child_weight=1, n_estimators=232, subsample=0.6746445598370941; total time=   0.7s\n",
      "[CV] END colsample_bytree=0.5881245228925185, gamma=1, learning_rate=0.25888327240687387, max_depth=None, min_child_weight=1, n_estimators=232, subsample=0.6746445598370941; total time=   0.8s\n"
     ]
    },
    {
     "name": "stderr",
     "output_type": "stream",
     "text": [
      "/Users/shofiyamuntazyrahmani/Documents/Nabila/DataScienceJourney/.conda/lib/python3.11/site-packages/xgboost/training.py:183: UserWarning: [17:12:06] WARNING: /Users/runner/work/xgboost/xgboost/src/learner.cc:738: \n",
      "Parameters: { \"use_label_encoder\" } are not used.\n",
      "\n",
      "  bst.update(dtrain, iteration=i, fobj=obj)\n",
      "/Users/shofiyamuntazyrahmani/Documents/Nabila/DataScienceJourney/.conda/lib/python3.11/site-packages/xgboost/training.py:183: UserWarning: [17:12:06] WARNING: /Users/runner/work/xgboost/xgboost/src/learner.cc:738: \n",
      "Parameters: { \"use_label_encoder\" } are not used.\n",
      "\n",
      "  bst.update(dtrain, iteration=i, fobj=obj)\n"
     ]
    },
    {
     "name": "stdout",
     "output_type": "stream",
     "text": [
      "[CV] END colsample_bytree=0.5881245228925185, gamma=1, learning_rate=0.25888327240687387, max_depth=None, min_child_weight=1, n_estimators=232, subsample=0.6746445598370941; total time=   1.0s\n",
      "[CV] END colsample_bytree=0.5881245228925185, gamma=1, learning_rate=0.25888327240687387, max_depth=None, min_child_weight=1, n_estimators=232, subsample=0.6746445598370941; total time=   0.9s\n",
      "[CV] END colsample_bytree=0.5881245228925185, gamma=1, learning_rate=0.25888327240687387, max_depth=None, min_child_weight=1, n_estimators=232, subsample=0.6746445598370941; total time=   1.0s\n"
     ]
    },
    {
     "name": "stderr",
     "output_type": "stream",
     "text": [
      "/Users/shofiyamuntazyrahmani/Documents/Nabila/DataScienceJourney/.conda/lib/python3.11/site-packages/xgboost/training.py:183: UserWarning: [17:12:06] WARNING: /Users/runner/work/xgboost/xgboost/src/learner.cc:738: \n",
      "Parameters: { \"use_label_encoder\" } are not used.\n",
      "\n",
      "  bst.update(dtrain, iteration=i, fobj=obj)\n",
      "/Users/shofiyamuntazyrahmani/Documents/Nabila/DataScienceJourney/.conda/lib/python3.11/site-packages/xgboost/training.py:183: UserWarning: [17:12:07] WARNING: /Users/runner/work/xgboost/xgboost/src/learner.cc:738: \n",
      "Parameters: { \"use_label_encoder\" } are not used.\n",
      "\n",
      "  bst.update(dtrain, iteration=i, fobj=obj)\n",
      "/Users/shofiyamuntazyrahmani/Documents/Nabila/DataScienceJourney/.conda/lib/python3.11/site-packages/xgboost/training.py:183: UserWarning: [17:12:07] WARNING: /Users/runner/work/xgboost/xgboost/src/learner.cc:738: \n",
      "Parameters: { \"use_label_encoder\" } are not used.\n",
      "\n",
      "  bst.update(dtrain, iteration=i, fobj=obj)\n"
     ]
    },
    {
     "name": "stdout",
     "output_type": "stream",
     "text": [
      "[CV] END colsample_bytree=0.5272978081140824, gamma=1, learning_rate=0.027417363533392913, max_depth=None, min_child_weight=3, n_estimators=168, subsample=0.7314615956525727; total time=   0.9s\n",
      "[CV] END colsample_bytree=0.5272978081140824, gamma=1, learning_rate=0.027417363533392913, max_depth=None, min_child_weight=3, n_estimators=168, subsample=0.7314615956525727; total time=   0.9s\n",
      "[CV] END colsample_bytree=0.5272978081140824, gamma=1, learning_rate=0.027417363533392913, max_depth=None, min_child_weight=3, n_estimators=168, subsample=0.7314615956525727; total time=   0.9s\n"
     ]
    },
    {
     "name": "stderr",
     "output_type": "stream",
     "text": [
      "/Users/shofiyamuntazyrahmani/Documents/Nabila/DataScienceJourney/.conda/lib/python3.11/site-packages/xgboost/training.py:183: UserWarning: [17:12:07] WARNING: /Users/runner/work/xgboost/xgboost/src/learner.cc:738: \n",
      "Parameters: { \"use_label_encoder\" } are not used.\n",
      "\n",
      "  bst.update(dtrain, iteration=i, fobj=obj)\n",
      "/Users/shofiyamuntazyrahmani/Documents/Nabila/DataScienceJourney/.conda/lib/python3.11/site-packages/xgboost/training.py:183: UserWarning: [17:12:07] WARNING: /Users/runner/work/xgboost/xgboost/src/learner.cc:738: \n",
      "Parameters: { \"use_label_encoder\" } are not used.\n",
      "\n",
      "  bst.update(dtrain, iteration=i, fobj=obj)\n",
      "/Users/shofiyamuntazyrahmani/Documents/Nabila/DataScienceJourney/.conda/lib/python3.11/site-packages/xgboost/training.py:183: UserWarning: [17:12:07] WARNING: /Users/runner/work/xgboost/xgboost/src/learner.cc:738: \n",
      "Parameters: { \"use_label_encoder\" } are not used.\n",
      "\n",
      "  bst.update(dtrain, iteration=i, fobj=obj)\n"
     ]
    },
    {
     "name": "stdout",
     "output_type": "stream",
     "text": [
      "[CV] END colsample_bytree=0.5272978081140824, gamma=1, learning_rate=0.027417363533392913, max_depth=None, min_child_weight=3, n_estimators=168, subsample=0.7314615956525727; total time=   0.9s\n",
      "[CV] END colsample_bytree=0.5272978081140824, gamma=1, learning_rate=0.027417363533392913, max_depth=None, min_child_weight=3, n_estimators=168, subsample=0.7314615956525727; total time=   0.8s\n",
      "[CV] END colsample_bytree=0.7894671177902753, gamma=5, learning_rate=0.26419612068800846, max_depth=10, min_child_weight=1, n_estimators=262, subsample=0.739788126112048; total time=   0.7s\n",
      "[CV] END colsample_bytree=0.7894671177902753, gamma=5, learning_rate=0.26419612068800846, max_depth=10, min_child_weight=1, n_estimators=262, subsample=0.739788126112048; total time=   0.7s\n"
     ]
    },
    {
     "name": "stderr",
     "output_type": "stream",
     "text": [
      "/Users/shofiyamuntazyrahmani/Documents/Nabila/DataScienceJourney/.conda/lib/python3.11/site-packages/xgboost/training.py:183: UserWarning: [17:12:07] WARNING: /Users/runner/work/xgboost/xgboost/src/learner.cc:738: \n",
      "Parameters: { \"use_label_encoder\" } are not used.\n",
      "\n",
      "  bst.update(dtrain, iteration=i, fobj=obj)\n",
      "/Users/shofiyamuntazyrahmani/Documents/Nabila/DataScienceJourney/.conda/lib/python3.11/site-packages/xgboost/training.py:183: UserWarning: [17:12:07] WARNING: /Users/runner/work/xgboost/xgboost/src/learner.cc:738: \n",
      "Parameters: { \"use_label_encoder\" } are not used.\n",
      "\n",
      "  bst.update(dtrain, iteration=i, fobj=obj)\n",
      "/Users/shofiyamuntazyrahmani/Documents/Nabila/DataScienceJourney/.conda/lib/python3.11/site-packages/xgboost/training.py:183: UserWarning: [17:12:07] WARNING: /Users/runner/work/xgboost/xgboost/src/learner.cc:738: \n",
      "Parameters: { \"use_label_encoder\" } are not used.\n",
      "\n",
      "  bst.update(dtrain, iteration=i, fobj=obj)\n"
     ]
    },
    {
     "name": "stdout",
     "output_type": "stream",
     "text": [
      "[CV] END colsample_bytree=0.5597469038345397, gamma=0, learning_rate=0.2917213800158865, max_depth=5, min_child_weight=3, n_estimators=110, subsample=0.7282326150471554; total time=   0.5s\n",
      "[CV] END colsample_bytree=0.7894671177902753, gamma=5, learning_rate=0.26419612068800846, max_depth=10, min_child_weight=1, n_estimators=262, subsample=0.739788126112048; total time=   0.7s\n",
      "[CV] END colsample_bytree=0.7894671177902753, gamma=5, learning_rate=0.26419612068800846, max_depth=10, min_child_weight=1, n_estimators=262, subsample=0.739788126112048; total time=   0.7s\n"
     ]
    },
    {
     "name": "stderr",
     "output_type": "stream",
     "text": [
      "/Users/shofiyamuntazyrahmani/Documents/Nabila/DataScienceJourney/.conda/lib/python3.11/site-packages/xgboost/training.py:183: UserWarning: [17:12:07] WARNING: /Users/runner/work/xgboost/xgboost/src/learner.cc:738: \n",
      "Parameters: { \"use_label_encoder\" } are not used.\n",
      "\n",
      "  bst.update(dtrain, iteration=i, fobj=obj)\n",
      "/Users/shofiyamuntazyrahmani/Documents/Nabila/DataScienceJourney/.conda/lib/python3.11/site-packages/xgboost/training.py:183: UserWarning: [17:12:07] WARNING: /Users/runner/work/xgboost/xgboost/src/learner.cc:738: \n",
      "Parameters: { \"use_label_encoder\" } are not used.\n",
      "\n",
      "  bst.update(dtrain, iteration=i, fobj=obj)\n",
      "/Users/shofiyamuntazyrahmani/Documents/Nabila/DataScienceJourney/.conda/lib/python3.11/site-packages/xgboost/training.py:183: UserWarning: [17:12:07] WARNING: /Users/runner/work/xgboost/xgboost/src/learner.cc:738: \n",
      "Parameters: { \"use_label_encoder\" } are not used.\n",
      "\n",
      "  bst.update(dtrain, iteration=i, fobj=obj)\n",
      "/Users/shofiyamuntazyrahmani/Documents/Nabila/DataScienceJourney/.conda/lib/python3.11/site-packages/xgboost/training.py:183: UserWarning: [17:12:07] WARNING: /Users/runner/work/xgboost/xgboost/src/learner.cc:738: \n",
      "Parameters: { \"use_label_encoder\" } are not used.\n",
      "\n",
      "  bst.update(dtrain, iteration=i, fobj=obj)\n"
     ]
    },
    {
     "name": "stdout",
     "output_type": "stream",
     "text": [
      "[CV] END colsample_bytree=0.5597469038345397, gamma=0, learning_rate=0.2917213800158865, max_depth=5, min_child_weight=3, n_estimators=110, subsample=0.7282326150471554; total time=   0.5s\n",
      "[CV] END colsample_bytree=0.5597469038345397, gamma=0, learning_rate=0.2917213800158865, max_depth=5, min_child_weight=3, n_estimators=110, subsample=0.7282326150471554; total time=   0.4s\n",
      "[CV] END colsample_bytree=0.7894671177902753, gamma=5, learning_rate=0.26419612068800846, max_depth=10, min_child_weight=1, n_estimators=262, subsample=0.739788126112048; total time=   0.8s\n",
      "[CV] END colsample_bytree=0.5597469038345397, gamma=0, learning_rate=0.2917213800158865, max_depth=5, min_child_weight=3, n_estimators=110, subsample=0.7282326150471554; total time=   0.5s\n"
     ]
    },
    {
     "name": "stderr",
     "output_type": "stream",
     "text": [
      "/Users/shofiyamuntazyrahmani/Documents/Nabila/DataScienceJourney/.conda/lib/python3.11/site-packages/xgboost/training.py:183: UserWarning: [17:12:08] WARNING: /Users/runner/work/xgboost/xgboost/src/learner.cc:738: \n",
      "Parameters: { \"use_label_encoder\" } are not used.\n",
      "\n",
      "  bst.update(dtrain, iteration=i, fobj=obj)\n",
      "/Users/shofiyamuntazyrahmani/Documents/Nabila/DataScienceJourney/.conda/lib/python3.11/site-packages/xgboost/training.py:183: UserWarning: [17:12:08] WARNING: /Users/runner/work/xgboost/xgboost/src/learner.cc:738: \n",
      "Parameters: { \"use_label_encoder\" } are not used.\n",
      "\n",
      "  bst.update(dtrain, iteration=i, fobj=obj)\n",
      "/Users/shofiyamuntazyrahmani/Documents/Nabila/DataScienceJourney/.conda/lib/python3.11/site-packages/xgboost/training.py:183: UserWarning: [17:12:08] WARNING: /Users/runner/work/xgboost/xgboost/src/learner.cc:738: \n",
      "Parameters: { \"use_label_encoder\" } are not used.\n",
      "\n",
      "  bst.update(dtrain, iteration=i, fobj=obj)\n",
      "/Users/shofiyamuntazyrahmani/Documents/Nabila/DataScienceJourney/.conda/lib/python3.11/site-packages/xgboost/training.py:183: UserWarning: [17:12:08] WARNING: /Users/runner/work/xgboost/xgboost/src/learner.cc:738: \n",
      "Parameters: { \"use_label_encoder\" } are not used.\n",
      "\n",
      "  bst.update(dtrain, iteration=i, fobj=obj)\n",
      "/Users/shofiyamuntazyrahmani/Documents/Nabila/DataScienceJourney/.conda/lib/python3.11/site-packages/xgboost/training.py:183: UserWarning: [17:12:08] WARNING: /Users/runner/work/xgboost/xgboost/src/learner.cc:738: \n",
      "Parameters: { \"use_label_encoder\" } are not used.\n",
      "\n",
      "  bst.update(dtrain, iteration=i, fobj=obj)\n"
     ]
    },
    {
     "name": "stdout",
     "output_type": "stream",
     "text": [
      "[CV] END colsample_bytree=0.5597469038345397, gamma=0, learning_rate=0.2917213800158865, max_depth=5, min_child_weight=3, n_estimators=110, subsample=0.7282326150471554; total time=   0.5s\n",
      "[CV] END colsample_bytree=0.8631064172753284, gamma=0, learning_rate=0.012701716603266468, max_depth=10, min_child_weight=1, n_estimators=133, subsample=0.9939080619020131; total time=   0.8s\n",
      "[CV] END colsample_bytree=0.7064192798921809, gamma=5, learning_rate=0.2759759824117005, max_depth=5, min_child_weight=3, n_estimators=183, subsample=0.8442279200403059; total time=   0.5s\n",
      "[CV] END colsample_bytree=0.7064192798921809, gamma=5, learning_rate=0.2759759824117005, max_depth=5, min_child_weight=3, n_estimators=183, subsample=0.8442279200403059; total time=   0.6s\n",
      "[CV] END colsample_bytree=0.7064192798921809, gamma=5, learning_rate=0.2759759824117005, max_depth=5, min_child_weight=3, n_estimators=183, subsample=0.8442279200403059; total time=   0.5s\n",
      "[CV] END colsample_bytree=0.8631064172753284, gamma=0, learning_rate=0.012701716603266468, max_depth=10, min_child_weight=1, n_estimators=133, subsample=0.9939080619020131; total time=   1.0s\n"
     ]
    },
    {
     "name": "stderr",
     "output_type": "stream",
     "text": [
      "/Users/shofiyamuntazyrahmani/Documents/Nabila/DataScienceJourney/.conda/lib/python3.11/site-packages/xgboost/training.py:183: UserWarning: [17:12:08] WARNING: /Users/runner/work/xgboost/xgboost/src/learner.cc:738: \n",
      "Parameters: { \"use_label_encoder\" } are not used.\n",
      "\n",
      "  bst.update(dtrain, iteration=i, fobj=obj)\n",
      "/Users/shofiyamuntazyrahmani/Documents/Nabila/DataScienceJourney/.conda/lib/python3.11/site-packages/xgboost/training.py:183: UserWarning: [17:12:08] WARNING: /Users/runner/work/xgboost/xgboost/src/learner.cc:738: \n",
      "Parameters: { \"use_label_encoder\" } are not used.\n",
      "\n",
      "  bst.update(dtrain, iteration=i, fobj=obj)\n",
      "/Users/shofiyamuntazyrahmani/Documents/Nabila/DataScienceJourney/.conda/lib/python3.11/site-packages/xgboost/training.py:183: UserWarning: [17:12:08] WARNING: /Users/runner/work/xgboost/xgboost/src/learner.cc:738: \n",
      "Parameters: { \"use_label_encoder\" } are not used.\n",
      "\n",
      "  bst.update(dtrain, iteration=i, fobj=obj)\n",
      "/Users/shofiyamuntazyrahmani/Documents/Nabila/DataScienceJourney/.conda/lib/python3.11/site-packages/xgboost/training.py:183: UserWarning: [17:12:08] WARNING: /Users/runner/work/xgboost/xgboost/src/learner.cc:738: \n",
      "Parameters: { \"use_label_encoder\" } are not used.\n",
      "\n",
      "  bst.update(dtrain, iteration=i, fobj=obj)\n",
      "/Users/shofiyamuntazyrahmani/Documents/Nabila/DataScienceJourney/.conda/lib/python3.11/site-packages/xgboost/training.py:183: UserWarning: [17:12:08] WARNING: /Users/runner/work/xgboost/xgboost/src/learner.cc:738: \n",
      "Parameters: { \"use_label_encoder\" } are not used.\n",
      "\n",
      "  bst.update(dtrain, iteration=i, fobj=obj)\n",
      "/Users/shofiyamuntazyrahmani/Documents/Nabila/DataScienceJourney/.conda/lib/python3.11/site-packages/xgboost/training.py:183: UserWarning: [17:12:09] WARNING: /Users/runner/work/xgboost/xgboost/src/learner.cc:738: \n",
      "Parameters: { \"use_label_encoder\" } are not used.\n",
      "\n",
      "  bst.update(dtrain, iteration=i, fobj=obj)\n"
     ]
    },
    {
     "name": "stdout",
     "output_type": "stream",
     "text": [
      "[CV] END colsample_bytree=0.8631064172753284, gamma=0, learning_rate=0.012701716603266468, max_depth=10, min_child_weight=1, n_estimators=133, subsample=0.9939080619020131; total time=   1.0s\n",
      "[CV] END colsample_bytree=0.8631064172753284, gamma=0, learning_rate=0.012701716603266468, max_depth=10, min_child_weight=1, n_estimators=133, subsample=0.9939080619020131; total time=   1.2s\n",
      "[CV] END colsample_bytree=0.8631064172753284, gamma=0, learning_rate=0.012701716603266468, max_depth=10, min_child_weight=1, n_estimators=133, subsample=0.9939080619020131; total time=   1.0s\n",
      "[CV] END colsample_bytree=0.7064192798921809, gamma=5, learning_rate=0.2759759824117005, max_depth=5, min_child_weight=3, n_estimators=183, subsample=0.8442279200403059; total time=   0.5s\n"
     ]
    },
    {
     "name": "stderr",
     "output_type": "stream",
     "text": [
      "/Users/shofiyamuntazyrahmani/Documents/Nabila/DataScienceJourney/.conda/lib/python3.11/site-packages/xgboost/training.py:183: UserWarning: [17:12:09] WARNING: /Users/runner/work/xgboost/xgboost/src/learner.cc:738: \n",
      "Parameters: { \"use_label_encoder\" } are not used.\n",
      "\n",
      "  bst.update(dtrain, iteration=i, fobj=obj)\n",
      "/Users/shofiyamuntazyrahmani/Documents/Nabila/DataScienceJourney/.conda/lib/python3.11/site-packages/xgboost/training.py:183: UserWarning: [17:12:09] WARNING: /Users/runner/work/xgboost/xgboost/src/learner.cc:738: \n",
      "Parameters: { \"use_label_encoder\" } are not used.\n",
      "\n",
      "  bst.update(dtrain, iteration=i, fobj=obj)\n",
      "/Users/shofiyamuntazyrahmani/Documents/Nabila/DataScienceJourney/.conda/lib/python3.11/site-packages/xgboost/training.py:183: UserWarning: [17:12:09] WARNING: /Users/runner/work/xgboost/xgboost/src/learner.cc:738: \n",
      "Parameters: { \"use_label_encoder\" } are not used.\n",
      "\n",
      "  bst.update(dtrain, iteration=i, fobj=obj)\n",
      "/Users/shofiyamuntazyrahmani/Documents/Nabila/DataScienceJourney/.conda/lib/python3.11/site-packages/xgboost/training.py:183: UserWarning: [17:12:09] WARNING: /Users/runner/work/xgboost/xgboost/src/learner.cc:738: \n",
      "Parameters: { \"use_label_encoder\" } are not used.\n",
      "\n",
      "  bst.update(dtrain, iteration=i, fobj=obj)\n"
     ]
    },
    {
     "name": "stdout",
     "output_type": "stream",
     "text": [
      "[CV] END colsample_bytree=0.7064192798921809, gamma=5, learning_rate=0.2759759824117005, max_depth=5, min_child_weight=3, n_estimators=183, subsample=0.8442279200403059; total time=   0.6s\n",
      "[CV] END colsample_bytree=0.7898818237670091, gamma=1, learning_rate=0.1476008821934647, max_depth=3, min_child_weight=5, n_estimators=242, subsample=0.9108097313365484; total time=   0.8s\n"
     ]
    },
    {
     "name": "stderr",
     "output_type": "stream",
     "text": [
      "/Users/shofiyamuntazyrahmani/Documents/Nabila/DataScienceJourney/.conda/lib/python3.11/site-packages/xgboost/training.py:183: UserWarning: [17:12:09] WARNING: /Users/runner/work/xgboost/xgboost/src/learner.cc:738: \n",
      "Parameters: { \"use_label_encoder\" } are not used.\n",
      "\n",
      "  bst.update(dtrain, iteration=i, fobj=obj)\n",
      "/Users/shofiyamuntazyrahmani/Documents/Nabila/DataScienceJourney/.conda/lib/python3.11/site-packages/xgboost/training.py:183: UserWarning: [17:12:09] WARNING: /Users/runner/work/xgboost/xgboost/src/learner.cc:738: \n",
      "Parameters: { \"use_label_encoder\" } are not used.\n",
      "\n",
      "  bst.update(dtrain, iteration=i, fobj=obj)\n",
      "/Users/shofiyamuntazyrahmani/Documents/Nabila/DataScienceJourney/.conda/lib/python3.11/site-packages/xgboost/training.py:183: UserWarning: [17:12:09] WARNING: /Users/runner/work/xgboost/xgboost/src/learner.cc:738: \n",
      "Parameters: { \"use_label_encoder\" } are not used.\n",
      "\n",
      "  bst.update(dtrain, iteration=i, fobj=obj)\n"
     ]
    },
    {
     "name": "stdout",
     "output_type": "stream",
     "text": [
      "[CV] END colsample_bytree=0.7898818237670091, gamma=1, learning_rate=0.1476008821934647, max_depth=3, min_child_weight=5, n_estimators=242, subsample=0.9108097313365484; total time=   0.8s\n",
      "[CV] END colsample_bytree=0.7898818237670091, gamma=1, learning_rate=0.1476008821934647, max_depth=3, min_child_weight=5, n_estimators=242, subsample=0.9108097313365484; total time=   0.7s\n",
      "[CV] END colsample_bytree=0.8062624839828224, gamma=5, learning_rate=0.11275563574611142, max_depth=3, min_child_weight=5, n_estimators=167, subsample=0.6642419870793026; total time=   0.5s\n",
      "[CV] END colsample_bytree=0.8062624839828224, gamma=5, learning_rate=0.11275563574611142, max_depth=3, min_child_weight=5, n_estimators=167, subsample=0.6642419870793026; total time=   0.6s\n"
     ]
    },
    {
     "name": "stderr",
     "output_type": "stream",
     "text": [
      "/Users/shofiyamuntazyrahmani/Documents/Nabila/DataScienceJourney/.conda/lib/python3.11/site-packages/xgboost/training.py:183: UserWarning: [17:12:09] WARNING: /Users/runner/work/xgboost/xgboost/src/learner.cc:738: \n",
      "Parameters: { \"use_label_encoder\" } are not used.\n",
      "\n",
      "  bst.update(dtrain, iteration=i, fobj=obj)\n",
      "/Users/shofiyamuntazyrahmani/Documents/Nabila/DataScienceJourney/.conda/lib/python3.11/site-packages/xgboost/training.py:183: UserWarning: [17:12:09] WARNING: /Users/runner/work/xgboost/xgboost/src/learner.cc:738: \n",
      "Parameters: { \"use_label_encoder\" } are not used.\n",
      "\n",
      "  bst.update(dtrain, iteration=i, fobj=obj)\n",
      "/Users/shofiyamuntazyrahmani/Documents/Nabila/DataScienceJourney/.conda/lib/python3.11/site-packages/xgboost/training.py:183: UserWarning: [17:12:09] WARNING: /Users/runner/work/xgboost/xgboost/src/learner.cc:738: \n",
      "Parameters: { \"use_label_encoder\" } are not used.\n",
      "\n",
      "  bst.update(dtrain, iteration=i, fobj=obj)\n",
      "/Users/shofiyamuntazyrahmani/Documents/Nabila/DataScienceJourney/.conda/lib/python3.11/site-packages/xgboost/training.py:183: UserWarning: [17:12:09] WARNING: /Users/runner/work/xgboost/xgboost/src/learner.cc:738: \n",
      "Parameters: { \"use_label_encoder\" } are not used.\n",
      "\n",
      "  bst.update(dtrain, iteration=i, fobj=obj)\n",
      "/Users/shofiyamuntazyrahmani/Documents/Nabila/DataScienceJourney/.conda/lib/python3.11/site-packages/xgboost/training.py:183: UserWarning: [17:12:09] WARNING: /Users/runner/work/xgboost/xgboost/src/learner.cc:738: \n",
      "Parameters: { \"use_label_encoder\" } are not used.\n",
      "\n",
      "  bst.update(dtrain, iteration=i, fobj=obj)\n"
     ]
    },
    {
     "name": "stdout",
     "output_type": "stream",
     "text": [
      "[CV] END colsample_bytree=0.7898818237670091, gamma=1, learning_rate=0.1476008821934647, max_depth=3, min_child_weight=5, n_estimators=242, subsample=0.9108097313365484; total time=   0.7s\n",
      "[CV] END colsample_bytree=0.8062624839828224, gamma=5, learning_rate=0.11275563574611142, max_depth=3, min_child_weight=5, n_estimators=167, subsample=0.6642419870793026; total time=   0.6s\n",
      "[CV] END colsample_bytree=0.7898818237670091, gamma=1, learning_rate=0.1476008821934647, max_depth=3, min_child_weight=5, n_estimators=242, subsample=0.9108097313365484; total time=   0.8s\n",
      "[CV] END colsample_bytree=0.8062624839828224, gamma=5, learning_rate=0.11275563574611142, max_depth=3, min_child_weight=5, n_estimators=167, subsample=0.6642419870793026; total time=   0.7s\n",
      "[CV] END colsample_bytree=0.8062624839828224, gamma=5, learning_rate=0.11275563574611142, max_depth=3, min_child_weight=5, n_estimators=167, subsample=0.6642419870793026; total time=   0.6s\n",
      "[CV] END colsample_bytree=0.9962675565970909, gamma=5, learning_rate=0.05940760624729107, max_depth=5, min_child_weight=5, n_estimators=142, subsample=0.5160545524247744; total time=   0.6s\n"
     ]
    },
    {
     "name": "stderr",
     "output_type": "stream",
     "text": [
      "/Users/shofiyamuntazyrahmani/Documents/Nabila/DataScienceJourney/.conda/lib/python3.11/site-packages/xgboost/training.py:183: UserWarning: [17:12:10] WARNING: /Users/runner/work/xgboost/xgboost/src/learner.cc:738: \n",
      "Parameters: { \"use_label_encoder\" } are not used.\n",
      "\n",
      "  bst.update(dtrain, iteration=i, fobj=obj)\n",
      "/Users/shofiyamuntazyrahmani/Documents/Nabila/DataScienceJourney/.conda/lib/python3.11/site-packages/xgboost/training.py:183: UserWarning: [17:12:10] WARNING: /Users/runner/work/xgboost/xgboost/src/learner.cc:738: \n",
      "Parameters: { \"use_label_encoder\" } are not used.\n",
      "\n",
      "  bst.update(dtrain, iteration=i, fobj=obj)\n",
      "/Users/shofiyamuntazyrahmani/Documents/Nabila/DataScienceJourney/.conda/lib/python3.11/site-packages/xgboost/training.py:183: UserWarning: [17:12:10] WARNING: /Users/runner/work/xgboost/xgboost/src/learner.cc:738: \n",
      "Parameters: { \"use_label_encoder\" } are not used.\n",
      "\n",
      "  bst.update(dtrain, iteration=i, fobj=obj)\n"
     ]
    },
    {
     "name": "stdout",
     "output_type": "stream",
     "text": [
      "[CV] END colsample_bytree=0.9962675565970909, gamma=5, learning_rate=0.05940760624729107, max_depth=5, min_child_weight=5, n_estimators=142, subsample=0.5160545524247744; total time=   0.6s\n",
      "[CV] END colsample_bytree=0.9962675565970909, gamma=5, learning_rate=0.05940760624729107, max_depth=5, min_child_weight=5, n_estimators=142, subsample=0.5160545524247744; total time=   0.6s\n",
      "[CV] END colsample_bytree=0.9962675565970909, gamma=5, learning_rate=0.05940760624729107, max_depth=5, min_child_weight=5, n_estimators=142, subsample=0.5160545524247744; total time=   0.6s\n"
     ]
    },
    {
     "name": "stderr",
     "output_type": "stream",
     "text": [
      "/Users/shofiyamuntazyrahmani/Documents/Nabila/DataScienceJourney/.conda/lib/python3.11/site-packages/xgboost/training.py:183: UserWarning: [17:12:10] WARNING: /Users/runner/work/xgboost/xgboost/src/learner.cc:738: \n",
      "Parameters: { \"use_label_encoder\" } are not used.\n",
      "\n",
      "  bst.update(dtrain, iteration=i, fobj=obj)\n",
      "/Users/shofiyamuntazyrahmani/Documents/Nabila/DataScienceJourney/.conda/lib/python3.11/site-packages/xgboost/training.py:183: UserWarning: [17:12:10] WARNING: /Users/runner/work/xgboost/xgboost/src/learner.cc:738: \n",
      "Parameters: { \"use_label_encoder\" } are not used.\n",
      "\n",
      "  bst.update(dtrain, iteration=i, fobj=obj)\n",
      "/Users/shofiyamuntazyrahmani/Documents/Nabila/DataScienceJourney/.conda/lib/python3.11/site-packages/xgboost/training.py:183: UserWarning: [17:12:10] WARNING: /Users/runner/work/xgboost/xgboost/src/learner.cc:738: \n",
      "Parameters: { \"use_label_encoder\" } are not used.\n",
      "\n",
      "  bst.update(dtrain, iteration=i, fobj=obj)\n"
     ]
    },
    {
     "name": "stdout",
     "output_type": "stream",
     "text": [
      "[CV] END colsample_bytree=0.9962675565970909, gamma=5, learning_rate=0.05940760624729107, max_depth=5, min_child_weight=5, n_estimators=142, subsample=0.5160545524247744; total time=   0.8s\n",
      "[CV] END colsample_bytree=0.5939736178607398, gamma=0, learning_rate=0.08496179003331614, max_depth=10, min_child_weight=5, n_estimators=140, subsample=0.8117751664378894; total time=   0.9s\n"
     ]
    },
    {
     "name": "stderr",
     "output_type": "stream",
     "text": [
      "/Users/shofiyamuntazyrahmani/Documents/Nabila/DataScienceJourney/.conda/lib/python3.11/site-packages/xgboost/training.py:183: UserWarning: [17:12:10] WARNING: /Users/runner/work/xgboost/xgboost/src/learner.cc:738: \n",
      "Parameters: { \"use_label_encoder\" } are not used.\n",
      "\n",
      "  bst.update(dtrain, iteration=i, fobj=obj)\n",
      "/Users/shofiyamuntazyrahmani/Documents/Nabila/DataScienceJourney/.conda/lib/python3.11/site-packages/xgboost/training.py:183: UserWarning: [17:12:10] WARNING: /Users/runner/work/xgboost/xgboost/src/learner.cc:738: \n",
      "Parameters: { \"use_label_encoder\" } are not used.\n",
      "\n",
      "  bst.update(dtrain, iteration=i, fobj=obj)\n"
     ]
    },
    {
     "name": "stdout",
     "output_type": "stream",
     "text": [
      "[CV] END colsample_bytree=0.5939736178607398, gamma=0, learning_rate=0.08496179003331614, max_depth=10, min_child_weight=5, n_estimators=140, subsample=0.8117751664378894; total time=   0.8s\n",
      "[CV] END colsample_bytree=0.5939736178607398, gamma=0, learning_rate=0.08496179003331614, max_depth=10, min_child_weight=5, n_estimators=140, subsample=0.8117751664378894; total time=   0.8s\n",
      "[CV] END colsample_bytree=0.6025464671485663, gamma=5, learning_rate=0.24944747383138177, max_depth=3, min_child_weight=3, n_estimators=265, subsample=0.6733986400941606; total time=   0.6s\n",
      "[CV] END colsample_bytree=0.5939736178607398, gamma=0, learning_rate=0.08496179003331614, max_depth=10, min_child_weight=5, n_estimators=140, subsample=0.8117751664378894; total time=   0.8s\n",
      "[CV] END colsample_bytree=0.6025464671485663, gamma=5, learning_rate=0.24944747383138177, max_depth=3, min_child_weight=3, n_estimators=265, subsample=0.6733986400941606; total time=   0.7s\n"
     ]
    },
    {
     "name": "stderr",
     "output_type": "stream",
     "text": [
      "/Users/shofiyamuntazyrahmani/Documents/Nabila/DataScienceJourney/.conda/lib/python3.11/site-packages/xgboost/training.py:183: UserWarning: [17:12:10] WARNING: /Users/runner/work/xgboost/xgboost/src/learner.cc:738: \n",
      "Parameters: { \"use_label_encoder\" } are not used.\n",
      "\n",
      "  bst.update(dtrain, iteration=i, fobj=obj)\n",
      "/Users/shofiyamuntazyrahmani/Documents/Nabila/DataScienceJourney/.conda/lib/python3.11/site-packages/xgboost/training.py:183: UserWarning: [17:12:10] WARNING: /Users/runner/work/xgboost/xgboost/src/learner.cc:738: \n",
      "Parameters: { \"use_label_encoder\" } are not used.\n",
      "\n",
      "  bst.update(dtrain, iteration=i, fobj=obj)\n",
      "/Users/shofiyamuntazyrahmani/Documents/Nabila/DataScienceJourney/.conda/lib/python3.11/site-packages/xgboost/training.py:183: UserWarning: [17:12:11] WARNING: /Users/runner/work/xgboost/xgboost/src/learner.cc:738: \n",
      "Parameters: { \"use_label_encoder\" } are not used.\n",
      "\n",
      "  bst.update(dtrain, iteration=i, fobj=obj)\n",
      "/Users/shofiyamuntazyrahmani/Documents/Nabila/DataScienceJourney/.conda/lib/python3.11/site-packages/xgboost/training.py:183: UserWarning: [17:12:11] WARNING: /Users/runner/work/xgboost/xgboost/src/learner.cc:738: \n",
      "Parameters: { \"use_label_encoder\" } are not used.\n",
      "\n",
      "  bst.update(dtrain, iteration=i, fobj=obj)\n"
     ]
    },
    {
     "name": "stdout",
     "output_type": "stream",
     "text": [
      "[CV] END colsample_bytree=0.5939736178607398, gamma=0, learning_rate=0.08496179003331614, max_depth=10, min_child_weight=5, n_estimators=140, subsample=0.8117751664378894; total time=   0.8s\n",
      "[CV] END colsample_bytree=0.6025464671485663, gamma=5, learning_rate=0.24944747383138177, max_depth=3, min_child_weight=3, n_estimators=265, subsample=0.6733986400941606; total time=   0.8s\n"
     ]
    },
    {
     "name": "stderr",
     "output_type": "stream",
     "text": [
      "/Users/shofiyamuntazyrahmani/Documents/Nabila/DataScienceJourney/.conda/lib/python3.11/site-packages/xgboost/training.py:183: UserWarning: [17:12:11] WARNING: /Users/runner/work/xgboost/xgboost/src/learner.cc:738: \n",
      "Parameters: { \"use_label_encoder\" } are not used.\n",
      "\n",
      "  bst.update(dtrain, iteration=i, fobj=obj)\n",
      "/Users/shofiyamuntazyrahmani/Documents/Nabila/DataScienceJourney/.conda/lib/python3.11/site-packages/xgboost/training.py:183: UserWarning: [17:12:11] WARNING: /Users/runner/work/xgboost/xgboost/src/learner.cc:738: \n",
      "Parameters: { \"use_label_encoder\" } are not used.\n",
      "\n",
      "  bst.update(dtrain, iteration=i, fobj=obj)\n",
      "/Users/shofiyamuntazyrahmani/Documents/Nabila/DataScienceJourney/.conda/lib/python3.11/site-packages/xgboost/training.py:183: UserWarning: [17:12:11] WARNING: /Users/runner/work/xgboost/xgboost/src/learner.cc:738: \n",
      "Parameters: { \"use_label_encoder\" } are not used.\n",
      "\n",
      "  bst.update(dtrain, iteration=i, fobj=obj)\n"
     ]
    },
    {
     "name": "stdout",
     "output_type": "stream",
     "text": [
      "[CV] END colsample_bytree=0.6025464671485663, gamma=5, learning_rate=0.24944747383138177, max_depth=3, min_child_weight=3, n_estimators=265, subsample=0.6733986400941606; total time=   0.8s\n",
      "[CV] END colsample_bytree=0.6495495854067106, gamma=1, learning_rate=0.1710637563591719, max_depth=10, min_child_weight=3, n_estimators=124, subsample=0.7948651214258127; total time=   0.6s\n",
      "[CV] END colsample_bytree=0.6495495854067106, gamma=1, learning_rate=0.1710637563591719, max_depth=10, min_child_weight=3, n_estimators=124, subsample=0.7948651214258127; total time=   0.6s\n",
      "[CV] END colsample_bytree=0.6495495854067106, gamma=1, learning_rate=0.1710637563591719, max_depth=10, min_child_weight=3, n_estimators=124, subsample=0.7948651214258127; total time=   0.6s\n",
      "[CV] END colsample_bytree=0.6025464671485663, gamma=5, learning_rate=0.24944747383138177, max_depth=3, min_child_weight=3, n_estimators=265, subsample=0.6733986400941606; total time=   0.8s\n",
      "[CV] END colsample_bytree=0.6495495854067106, gamma=1, learning_rate=0.1710637563591719, max_depth=10, min_child_weight=3, n_estimators=124, subsample=0.7948651214258127; total time=   0.6s\n",
      "[CV] END colsample_bytree=0.6495495854067106, gamma=1, learning_rate=0.1710637563591719, max_depth=10, min_child_weight=3, n_estimators=124, subsample=0.7948651214258127; total time=   0.6s\n"
     ]
    },
    {
     "name": "stderr",
     "output_type": "stream",
     "text": [
      "/Users/shofiyamuntazyrahmani/Documents/Nabila/DataScienceJourney/.conda/lib/python3.11/site-packages/xgboost/training.py:183: UserWarning: [17:12:11] WARNING: /Users/runner/work/xgboost/xgboost/src/learner.cc:738: \n",
      "Parameters: { \"use_label_encoder\" } are not used.\n",
      "\n",
      "  bst.update(dtrain, iteration=i, fobj=obj)\n",
      "/Users/shofiyamuntazyrahmani/Documents/Nabila/DataScienceJourney/.conda/lib/python3.11/site-packages/xgboost/training.py:183: UserWarning: [17:12:11] WARNING: /Users/runner/work/xgboost/xgboost/src/learner.cc:738: \n",
      "Parameters: { \"use_label_encoder\" } are not used.\n",
      "\n",
      "  bst.update(dtrain, iteration=i, fobj=obj)\n",
      "/Users/shofiyamuntazyrahmani/Documents/Nabila/DataScienceJourney/.conda/lib/python3.11/site-packages/xgboost/training.py:183: UserWarning: [17:12:11] WARNING: /Users/runner/work/xgboost/xgboost/src/learner.cc:738: \n",
      "Parameters: { \"use_label_encoder\" } are not used.\n",
      "\n",
      "  bst.update(dtrain, iteration=i, fobj=obj)\n",
      "/Users/shofiyamuntazyrahmani/Documents/Nabila/DataScienceJourney/.conda/lib/python3.11/site-packages/xgboost/training.py:183: UserWarning: [17:12:11] WARNING: /Users/runner/work/xgboost/xgboost/src/learner.cc:738: \n",
      "Parameters: { \"use_label_encoder\" } are not used.\n",
      "\n",
      "  bst.update(dtrain, iteration=i, fobj=obj)\n"
     ]
    },
    {
     "name": "stdout",
     "output_type": "stream",
     "text": [
      "[CV] END colsample_bytree=0.8100474162145077, gamma=5, learning_rate=0.16191115060301678, max_depth=3, min_child_weight=5, n_estimators=298, subsample=0.9967571166375963; total time=   0.6s\n",
      "[CV] END colsample_bytree=0.8100474162145077, gamma=5, learning_rate=0.16191115060301678, max_depth=3, min_child_weight=5, n_estimators=298, subsample=0.9967571166375963; total time=   0.5s\n",
      "[CV] END colsample_bytree=0.8100474162145077, gamma=5, learning_rate=0.16191115060301678, max_depth=3, min_child_weight=5, n_estimators=298, subsample=0.9967571166375963; total time=   0.5s\n",
      "[CV] END colsample_bytree=0.8100474162145077, gamma=5, learning_rate=0.16191115060301678, max_depth=3, min_child_weight=5, n_estimators=298, subsample=0.9967571166375963; total time=   0.5s\n",
      "[CV] END colsample_bytree=0.8100474162145077, gamma=5, learning_rate=0.16191115060301678, max_depth=3, min_child_weight=5, n_estimators=298, subsample=0.9967571166375963; total time=   0.5s\n"
     ]
    },
    {
     "name": "stderr",
     "output_type": "stream",
     "text": [
      "/Users/shofiyamuntazyrahmani/Documents/Nabila/DataScienceJourney/.conda/lib/python3.11/site-packages/xgboost/training.py:183: UserWarning: [17:12:12] WARNING: /Users/runner/work/xgboost/xgboost/src/learner.cc:738: \n",
      "Parameters: { \"use_label_encoder\" } are not used.\n",
      "\n",
      "  bst.update(dtrain, iteration=i, fobj=obj)\n"
     ]
    },
    {
     "name": "stdout",
     "output_type": "stream",
     "text": [
      "Best Params: {'bootstrap': True, 'class_weight': 'balanced_subsample', 'criterion': 'log_loss', 'max_depth': None, 'max_features': 'log2', 'min_samples_leaf': 1, 'min_samples_split': 2, 'n_estimators': 230}\n",
      "Akurasi     : 0.7913\n",
      "F1 Score    : 0.6948\n",
      "Recall      : 0.6433\n"
     ]
    }
   ],
   "source": [
    "from sklearn.model_selection import RandomizedSearchCV\n",
    "from scipy.stats import randint, uniform\n",
    "\n",
    "# Parameter distribusi untuk dituning\n",
    "param_dist_3 = {\n",
    "    'n_estimators': randint(100, 300),\n",
    "    'max_depth': [3, 5, 10, None],\n",
    "    'learning_rate': uniform(0.01, 0.3),\n",
    "    'subsample': uniform(0.5, 0.5),\n",
    "    'colsample_bytree': uniform(0.5, 0.5),\n",
    "    'min_child_weight': [1, 3, 5],\n",
    "    'gamma': [0, 1, 5],\n",
    "}\n",
    "\n",
    "# Inisialisasi model\n",
    "xgb = XGBClassifier(use_label_encoder=False, eval_metric='logloss', random_state=1616)\n",
    "\n",
    "# Randomized Search\n",
    "random_search_3 = RandomizedSearchCV(\n",
    "    estimator=xgb,\n",
    "    param_distributions=param_dist,\n",
    "    n_iter=20,\n",
    "    scoring='f1',\n",
    "    cv=5,\n",
    "    verbose=2,\n",
    "    random_state=1616,\n",
    "    n_jobs=-1\n",
    ")\n",
    "\n",
    "# Fit model ke data train balanced\n",
    "random_search_3.fit(X_train_reduced, y_train_balanced)\n",
    "\n",
    "# Tampilkan parameter terbaik\n",
    "print(\"Best Params:\", random_search.best_params_)\n",
    "\n",
    "\n",
    "# Prediksi menggunakan model yang sudah dilatih\n",
    "y_pred = random_search_3.predict(X_val_reduced)  # atau random_search.best_estimator_.predict() jika kamu pakai tuning\n",
    "\n",
    "# Hitung metrik evaluasi\n",
    "accuracy = accuracy_score(y_val, y_pred)\n",
    "f1 = f1_score(y_val, y_pred)\n",
    "recall = recall_score(y_val, y_pred)\n",
    "\n",
    "# Tampilkan hasilnya\n",
    "print(f\"Akurasi     : {accuracy:.4f}\")\n",
    "print(f\"F1 Score    : {f1:.4f}\")\n",
    "print(f\"Recall      : {recall:.4f}\")\n"
   ]
  },
  {
   "cell_type": "code",
   "execution_count": 111,
   "id": "a13ca7f9",
   "metadata": {},
   "outputs": [
    {
     "name": "stdout",
     "output_type": "stream",
     "text": [
      "<class 'pandas.core.frame.DataFrame'>\n",
      "RangeIndex: 62988 entries, 0 to 62987\n",
      "Data columns (total 27 columns):\n",
      " #   Column                                 Non-Null Count  Dtype  \n",
      "---  ------                                 --------------  -----  \n",
      " 0   ordinal__booking_changes_category      62988 non-null  float64\n",
      " 1   onehot__market_segment_Complementary   62988 non-null  float64\n",
      " 2   onehot__market_segment_Corporate       62988 non-null  float64\n",
      " 3   onehot__market_segment_Direct          62988 non-null  float64\n",
      " 4   onehot__market_segment_Groups          62988 non-null  float64\n",
      " 5   onehot__market_segment_Offline TA/TO   62988 non-null  float64\n",
      " 6   onehot__market_segment_Online TA       62988 non-null  float64\n",
      " 7   onehot__deposit_type_Non Refund        62988 non-null  float64\n",
      " 8   onehot__customer_type_Group            62988 non-null  float64\n",
      " 9   onehot__customer_type_Transient        62988 non-null  float64\n",
      " 10  onehot__customer_type_Transient-Party  62988 non-null  float64\n",
      " 11  onehot__reserved_room_type_B           62988 non-null  float64\n",
      " 12  onehot__reserved_room_type_C           62988 non-null  float64\n",
      " 13  onehot__reserved_room_type_D           62988 non-null  float64\n",
      " 14  onehot__reserved_room_type_E           62988 non-null  float64\n",
      " 15  onehot__reserved_room_type_F           62988 non-null  float64\n",
      " 16  onehot__reserved_room_type_G           62988 non-null  float64\n",
      " 17  onehot__reserved_room_type_H           62988 non-null  float64\n",
      " 18  onehot__country_region_Asia            62988 non-null  float64\n",
      " 19  onehot__country_region_Europe          62988 non-null  float64\n",
      " 20  onehot__country_region_Middle East     62988 non-null  float64\n",
      " 21  onehot__country_region_Other           62988 non-null  float64\n",
      " 22  onehot__country_region_South America   62988 non-null  float64\n",
      " 23  num__previous_cancellations            62988 non-null  float64\n",
      " 24  num__days_in_waiting_list              62988 non-null  float64\n",
      " 25  num__required_car_parking_spaces       62988 non-null  float64\n",
      " 26  num__total_of_special_requests         62988 non-null  float64\n",
      "dtypes: float64(27)\n",
      "memory usage: 13.0 MB\n"
     ]
    }
   ],
   "source": [
    "X_train_reduced.info()"
   ]
  },
  {
   "cell_type": "code",
   "execution_count": 112,
   "id": "9566b824",
   "metadata": {},
   "outputs": [
    {
     "name": "stdout",
     "output_type": "stream",
     "text": [
      "<class 'pandas.core.series.Series'>\n",
      "RangeIndex: 62988 entries, 0 to 62987\n",
      "Series name: is_canceled\n",
      "Non-Null Count  Dtype\n",
      "--------------  -----\n",
      "62988 non-null  int64\n",
      "dtypes: int64(1)\n",
      "memory usage: 492.2 KB\n"
     ]
    },
    {
     "data": {
      "application/vnd.microsoft.datawrangler.viewer.v0+json": {
       "columns": [
        {
         "name": "index",
         "rawType": "object",
         "type": "string"
        },
        {
         "name": "is_canceled",
         "rawType": "float64",
         "type": "float"
        }
       ],
       "ref": "6ba54d0e-f3e2-4936-9172-1e76db2cf5e0",
       "rows": [
        [
         "count",
         "62988.0"
        ],
        [
         "mean",
         "0.5"
        ],
        [
         "std",
         "0.5000039690572299"
        ],
        [
         "min",
         "0.0"
        ],
        [
         "25%",
         "0.0"
        ],
        [
         "50%",
         "0.5"
        ],
        [
         "75%",
         "1.0"
        ],
        [
         "max",
         "1.0"
        ]
       ],
       "shape": {
        "columns": 1,
        "rows": 8
       }
      },
      "text/plain": [
       "count    62988.000000\n",
       "mean         0.500000\n",
       "std          0.500004\n",
       "min          0.000000\n",
       "25%          0.000000\n",
       "50%          0.500000\n",
       "75%          1.000000\n",
       "max          1.000000\n",
       "Name: is_canceled, dtype: float64"
      ]
     },
     "execution_count": 112,
     "metadata": {},
     "output_type": "execute_result"
    }
   ],
   "source": [
    "y_train_balanced.info()\n",
    "y_train_balanced.describe()"
   ]
  },
  {
   "cell_type": "code",
   "execution_count": 116,
   "id": "1913b8c0",
   "metadata": {},
   "outputs": [
    {
     "data": {
      "image/png": "[encoded data removed]",
      "text/plain": [
       "<Figure size 1000x600 with 1 Axes>"
      ]
     },
     "metadata": {},
     "output_type": "display_data"
    }
   ],
   "source": [
    "# Pastikan X_train_reduced sudah dalam bentuk DataFrame\n",
    "reduced_feature_names = X_train_reduced.columns.tolist()\n",
    "\n",
    "# Ambil feature importance dari best model\n",
    "importances = best_model.feature_importances_\n",
    "\n",
    "# Buat DataFrame untuk visualisasi\n",
    "feature_df = pd.DataFrame({\n",
    "    'feature': reduced_feature_names,\n",
    "    'importance': importances\n",
    "}).sort_values(by='importance', ascending=False)\n",
    "\n",
    "# Plot top 15 fitur\n",
    "plt.figure(figsize=(10, 6))\n",
    "sns.barplot(data=feature_df.head(15), x='importance', y='feature')\n",
    "plt.title('Top 15 Feature Importance')\n",
    "plt.xlabel('Importance')\n",
    "plt.ylabel('Feature')\n",
    "plt.tight_layout()\n",
    "plt.show()\n"
   ]
  },
  {
   "cell_type": "markdown",
   "id": "fa241d64",
   "metadata": {},
   "source": []
  },
  {
   "cell_type": "markdown",
   "id": "8c6d3a4e",
   "metadata": {},
   "source": [
    "<h1>Simpan Model Terbaik</h1>"
   ]
  },
  {
   "cell_type": "markdown",
   "id": "187d58b9",
   "metadata": {},
   "source": [
    "Setelah melakukan uji model menggunakan Random Forest dan XGBoost, diputuskan untuk menggunakan Random Forest. \n",
    "Dari aspek Recall, F1 score, Accuracy dan Precision lebih dapat diterima menggunakan model berikut :"
   ]
  },
  {
   "cell_type": "code",
   "execution_count": 132,
   "id": "9d218e3f",
   "metadata": {},
   "outputs": [
    {
     "data": {
      "text/html": [
       "<style>#sk-container-id-2 {\n",
       "  /* Definition of color scheme common for light and dark mode */\n",
       "  --sklearn-color-text: #000;\n",
       "  --sklearn-color-text-muted: #666;\n",
       "  --sklearn-color-line: gray;\n",
       "  /* Definition of color scheme for unfitted estimators */\n",
       "  --sklearn-color-unfitted-level-0: #fff5e6;\n",
       "  --sklearn-color-unfitted-level-1: #f6e4d2;\n",
       "  --sklearn-color-unfitted-level-2: #ffe0b3;\n",
       "  --sklearn-color-unfitted-level-3: chocolate;\n",
       "  /* Definition of color scheme for fitted estimators */\n",
       "  --sklearn-color-fitted-level-0: #f0f8ff;\n",
       "  --sklearn-color-fitted-level-1: #d4ebff;\n",
       "  --sklearn-color-fitted-level-2: #b3dbfd;\n",
       "  --sklearn-color-fitted-level-3: cornflowerblue;\n",
       "\n",
       "  /* Specific color for light theme */\n",
       "  --sklearn-color-text-on-default-background: var(--sg-text-color, var(--theme-code-foreground, var(--jp-content-font-color1, black)));\n",
       "  --sklearn-color-background: var(--sg-background-color, var(--theme-background, var(--jp-layout-color0, white)));\n",
       "  --sklearn-color-border-box: var(--sg-text-color, var(--theme-code-foreground, var(--jp-content-font-color1, black)));\n",
       "  --sklearn-color-icon: #696969;\n",
       "\n",
       "  @media (prefers-color-scheme: dark) {\n",
       "    /* Redefinition of color scheme for dark theme */\n",
       "    --sklearn-color-text-on-default-background: var(--sg-text-color, var(--theme-code-foreground, var(--jp-content-font-color1, white)));\n",
       "    --sklearn-color-background: var(--sg-background-color, var(--theme-background, var(--jp-layout-color0, #111)));\n",
       "    --sklearn-color-border-box: var(--sg-text-color, var(--theme-code-foreground, var(--jp-content-font-color1, white)));\n",
       "    --sklearn-color-icon: #878787;\n",
       "  }\n",
       "}\n",
       "\n",
       "#sk-container-id-2 {\n",
       "  color: var(--sklearn-color-text);\n",
       "}\n",
       "\n",
       "#sk-container-id-2 pre {\n",
       "  padding: 0;\n",
       "}\n",
       "\n",
       "#sk-container-id-2 input.sk-hidden--visually {\n",
       "  border: 0;\n",
       "  clip: rect(1px 1px 1px 1px);\n",
       "  clip: rect(1px, 1px, 1px, 1px);\n",
       "  height: 1px;\n",
       "  margin: -1px;\n",
       "  overflow: hidden;\n",
       "  padding: 0;\n",
       "  position: absolute;\n",
       "  width: 1px;\n",
       "}\n",
       "\n",
       "#sk-container-id-2 div.sk-dashed-wrapped {\n",
       "  border: 1px dashed var(--sklearn-color-line);\n",
       "  margin: 0 0.4em 0.5em 0.4em;\n",
       "  box-sizing: border-box;\n",
       "  padding-bottom: 0.4em;\n",
       "  background-color: var(--sklearn-color-background);\n",
       "}\n",
       "\n",
       "#sk-container-id-2 div.sk-container {\n",
       "  /* jupyter's `normalize.less` sets `[hidden] { display: none; }`\n",
       "     but bootstrap.min.css set `[hidden] { display: none !important; }`\n",
       "     so we also need the `!important` here to be able to override the\n",
       "     default hidden behavior on the sphinx rendered scikit-learn.org.\n",
       "     See: https://github.com/scikit-learn/scikit-learn/issues/21755 */\n",
       "  display: inline-block !important;\n",
       "  position: relative;\n",
       "}\n",
       "\n",
       "#sk-container-id-2 div.sk-text-repr-fallback {\n",
       "  display: none;\n",
       "}\n",
       "\n",
       "div.sk-parallel-item,\n",
       "div.sk-serial,\n",
       "div.sk-item {\n",
       "  /* draw centered vertical line to link estimators */\n",
       "  background-image: linear-gradient(var(--sklearn-color-text-on-default-background), var(--sklearn-color-text-on-default-background));\n",
       "  background-size: 2px 100%;\n",
       "  background-repeat: no-repeat;\n",
       "  background-position: center center;\n",
       "}\n",
       "\n",
       "/* Parallel-specific style estimator block */\n",
       "\n",
       "#sk-container-id-2 div.sk-parallel-item::after {\n",
       "  content: \"\";\n",
       "  width: 100%;\n",
       "  border-bottom: 2px solid var(--sklearn-color-text-on-default-background);\n",
       "  flex-grow: 1;\n",
       "}\n",
       "\n",
       "#sk-container-id-2 div.sk-parallel {\n",
       "  display: flex;\n",
       "  align-items: stretch;\n",
       "  justify-content: center;\n",
       "  background-color: var(--sklearn-color-background);\n",
       "  position: relative;\n",
       "}\n",
       "\n",
       "#sk-container-id-2 div.sk-parallel-item {\n",
       "  display: flex;\n",
       "  flex-direction: column;\n",
       "}\n",
       "\n",
       "#sk-container-id-2 div.sk-parallel-item:first-child::after {\n",
       "  align-self: flex-end;\n",
       "  width: 50%;\n",
       "}\n",
       "\n",
       "#sk-container-id-2 div.sk-parallel-item:last-child::after {\n",
       "  align-self: flex-start;\n",
       "  width: 50%;\n",
       "}\n",
       "\n",
       "#sk-container-id-2 div.sk-parallel-item:only-child::after {\n",
       "  width: 0;\n",
       "}\n",
       "\n",
       "/* Serial-specific style estimator block */\n",
       "\n",
       "#sk-container-id-2 div.sk-serial {\n",
       "  display: flex;\n",
       "  flex-direction: column;\n",
       "  align-items: center;\n",
       "  background-color: var(--sklearn-color-background);\n",
       "  padding-right: 1em;\n",
       "  padding-left: 1em;\n",
       "}\n",
       "\n",
       "\n",
       "/* Toggleable style: style used for estimator/Pipeline/ColumnTransformer box that is\n",
       "clickable and can be expanded/collapsed.\n",
       "- Pipeline and ColumnTransformer use this feature and define the default style\n",
       "- Estimators will overwrite some part of the style using the `sk-estimator` class\n",
       "*/\n",
       "\n",
       "/* Pipeline and ColumnTransformer style (default) */\n",
       "\n",
       "#sk-container-id-2 div.sk-toggleable {\n",
       "  /* Default theme specific background. It is overwritten whether we have a\n",
       "  specific estimator or a Pipeline/ColumnTransformer */\n",
       "  background-color: var(--sklearn-color-background);\n",
       "}\n",
       "\n",
       "/* Toggleable label */\n",
       "#sk-container-id-2 label.sk-toggleable__label {\n",
       "  cursor: pointer;\n",
       "  display: flex;\n",
       "  width: 100%;\n",
       "  margin-bottom: 0;\n",
       "  padding: 0.5em;\n",
       "  box-sizing: border-box;\n",
       "  text-align: center;\n",
       "  align-items: start;\n",
       "  justify-content: space-between;\n",
       "  gap: 0.5em;\n",
       "}\n",
       "\n",
       "#sk-container-id-2 label.sk-toggleable__label .caption {\n",
       "  font-size: 0.6rem;\n",
       "  font-weight: lighter;\n",
       "  color: var(--sklearn-color-text-muted);\n",
       "}\n",
       "\n",
       "#sk-container-id-2 label.sk-toggleable__label-arrow:before {\n",
       "  /* Arrow on the left of the label */\n",
       "  content: \"▸\";\n",
       "  float: left;\n",
       "  margin-right: 0.25em;\n",
       "  color: var(--sklearn-color-icon);\n",
       "}\n",
       "\n",
       "#sk-container-id-2 label.sk-toggleable__label-arrow:hover:before {\n",
       "  color: var(--sklearn-color-text);\n",
       "}\n",
       "\n",
       "/* Toggleable content - dropdown */\n",
       "\n",
       "#sk-container-id-2 div.sk-toggleable__content {\n",
       "  max-height: 0;\n",
       "  max-width: 0;\n",
       "  overflow: hidden;\n",
       "  text-align: left;\n",
       "  /* unfitted */\n",
       "  background-color: var(--sklearn-color-unfitted-level-0);\n",
       "}\n",
       "\n",
       "#sk-container-id-2 div.sk-toggleable__content.fitted {\n",
       "  /* fitted */\n",
       "  background-color: var(--sklearn-color-fitted-level-0);\n",
       "}\n",
       "\n",
       "#sk-container-id-2 div.sk-toggleable__content pre {\n",
       "  margin: 0.2em;\n",
       "  border-radius: 0.25em;\n",
       "  color: var(--sklearn-color-text);\n",
       "  /* unfitted */\n",
       "  background-color: var(--sklearn-color-unfitted-level-0);\n",
       "}\n",
       "\n",
       "#sk-container-id-2 div.sk-toggleable__content.fitted pre {\n",
       "  /* unfitted */\n",
       "  background-color: var(--sklearn-color-fitted-level-0);\n",
       "}\n",
       "\n",
       "#sk-container-id-2 input.sk-toggleable__control:checked~div.sk-toggleable__content {\n",
       "  /* Expand drop-down */\n",
       "  max-height: 200px;\n",
       "  max-width: 100%;\n",
       "  overflow: auto;\n",
       "}\n",
       "\n",
       "#sk-container-id-2 input.sk-toggleable__control:checked~label.sk-toggleable__label-arrow:before {\n",
       "  content: \"▾\";\n",
       "}\n",
       "\n",
       "/* Pipeline/ColumnTransformer-specific style */\n",
       "\n",
       "#sk-container-id-2 div.sk-label input.sk-toggleable__control:checked~label.sk-toggleable__label {\n",
       "  color: var(--sklearn-color-text);\n",
       "  background-color: var(--sklearn-color-unfitted-level-2);\n",
       "}\n",
       "\n",
       "#sk-container-id-2 div.sk-label.fitted input.sk-toggleable__control:checked~label.sk-toggleable__label {\n",
       "  background-color: var(--sklearn-color-fitted-level-2);\n",
       "}\n",
       "\n",
       "/* Estimator-specific style */\n",
       "\n",
       "/* Colorize estimator box */\n",
       "#sk-container-id-2 div.sk-estimator input.sk-toggleable__control:checked~label.sk-toggleable__label {\n",
       "  /* unfitted */\n",
       "  background-color: var(--sklearn-color-unfitted-level-2);\n",
       "}\n",
       "\n",
       "#sk-container-id-2 div.sk-estimator.fitted input.sk-toggleable__control:checked~label.sk-toggleable__label {\n",
       "  /* fitted */\n",
       "  background-color: var(--sklearn-color-fitted-level-2);\n",
       "}\n",
       "\n",
       "#sk-container-id-2 div.sk-label label.sk-toggleable__label,\n",
       "#sk-container-id-2 div.sk-label label {\n",
       "  /* The background is the default theme color */\n",
       "  color: var(--sklearn-color-text-on-default-background);\n",
       "}\n",
       "\n",
       "/* On hover, darken the color of the background */\n",
       "#sk-container-id-2 div.sk-label:hover label.sk-toggleable__label {\n",
       "  color: var(--sklearn-color-text);\n",
       "  background-color: var(--sklearn-color-unfitted-level-2);\n",
       "}\n",
       "\n",
       "/* Label box, darken color on hover, fitted */\n",
       "#sk-container-id-2 div.sk-label.fitted:hover label.sk-toggleable__label.fitted {\n",
       "  color: var(--sklearn-color-text);\n",
       "  background-color: var(--sklearn-color-fitted-level-2);\n",
       "}\n",
       "\n",
       "/* Estimator label */\n",
       "\n",
       "#sk-container-id-2 div.sk-label label {\n",
       "  font-family: monospace;\n",
       "  font-weight: bold;\n",
       "  display: inline-block;\n",
       "  line-height: 1.2em;\n",
       "}\n",
       "\n",
       "#sk-container-id-2 div.sk-label-container {\n",
       "  text-align: center;\n",
       "}\n",
       "\n",
       "/* Estimator-specific */\n",
       "#sk-container-id-2 div.sk-estimator {\n",
       "  font-family: monospace;\n",
       "  border: 1px dotted var(--sklearn-color-border-box);\n",
       "  border-radius: 0.25em;\n",
       "  box-sizing: border-box;\n",
       "  margin-bottom: 0.5em;\n",
       "  /* unfitted */\n",
       "  background-color: var(--sklearn-color-unfitted-level-0);\n",
       "}\n",
       "\n",
       "#sk-container-id-2 div.sk-estimator.fitted {\n",
       "  /* fitted */\n",
       "  background-color: var(--sklearn-color-fitted-level-0);\n",
       "}\n",
       "\n",
       "/* on hover */\n",
       "#sk-container-id-2 div.sk-estimator:hover {\n",
       "  /* unfitted */\n",
       "  background-color: var(--sklearn-color-unfitted-level-2);\n",
       "}\n",
       "\n",
       "#sk-container-id-2 div.sk-estimator.fitted:hover {\n",
       "  /* fitted */\n",
       "  background-color: var(--sklearn-color-fitted-level-2);\n",
       "}\n",
       "\n",
       "/* Specification for estimator info (e.g. \"i\" and \"?\") */\n",
       "\n",
       "/* Common style for \"i\" and \"?\" */\n",
       "\n",
       ".sk-estimator-doc-link,\n",
       "a:link.sk-estimator-doc-link,\n",
       "a:visited.sk-estimator-doc-link {\n",
       "  float: right;\n",
       "  font-size: smaller;\n",
       "  line-height: 1em;\n",
       "  font-family: monospace;\n",
       "  background-color: var(--sklearn-color-background);\n",
       "  border-radius: 1em;\n",
       "  height: 1em;\n",
       "  width: 1em;\n",
       "  text-decoration: none !important;\n",
       "  margin-left: 0.5em;\n",
       "  text-align: center;\n",
       "  /* unfitted */\n",
       "  border: var(--sklearn-color-unfitted-level-1) 1pt solid;\n",
       "  color: var(--sklearn-color-unfitted-level-1);\n",
       "}\n",
       "\n",
       ".sk-estimator-doc-link.fitted,\n",
       "a:link.sk-estimator-doc-link.fitted,\n",
       "a:visited.sk-estimator-doc-link.fitted {\n",
       "  /* fitted */\n",
       "  border: var(--sklearn-color-fitted-level-1) 1pt solid;\n",
       "  color: var(--sklearn-color-fitted-level-1);\n",
       "}\n",
       "\n",
       "/* On hover */\n",
       "div.sk-estimator:hover .sk-estimator-doc-link:hover,\n",
       ".sk-estimator-doc-link:hover,\n",
       "div.sk-label-container:hover .sk-estimator-doc-link:hover,\n",
       ".sk-estimator-doc-link:hover {\n",
       "  /* unfitted */\n",
       "  background-color: var(--sklearn-color-unfitted-level-3);\n",
       "  color: var(--sklearn-color-background);\n",
       "  text-decoration: none;\n",
       "}\n",
       "\n",
       "div.sk-estimator.fitted:hover .sk-estimator-doc-link.fitted:hover,\n",
       ".sk-estimator-doc-link.fitted:hover,\n",
       "div.sk-label-container:hover .sk-estimator-doc-link.fitted:hover,\n",
       ".sk-estimator-doc-link.fitted:hover {\n",
       "  /* fitted */\n",
       "  background-color: var(--sklearn-color-fitted-level-3);\n",
       "  color: var(--sklearn-color-background);\n",
       "  text-decoration: none;\n",
       "}\n",
       "\n",
       "/* Span, style for the box shown on hovering the info icon */\n",
       ".sk-estimator-doc-link span {\n",
       "  display: none;\n",
       "  z-index: 9999;\n",
       "  position: relative;\n",
       "  font-weight: normal;\n",
       "  right: .2ex;\n",
       "  padding: .5ex;\n",
       "  margin: .5ex;\n",
       "  width: min-content;\n",
       "  min-width: 20ex;\n",
       "  max-width: 50ex;\n",
       "  color: var(--sklearn-color-text);\n",
       "  box-shadow: 2pt 2pt 4pt #999;\n",
       "  /* unfitted */\n",
       "  background: var(--sklearn-color-unfitted-level-0);\n",
       "  border: .5pt solid var(--sklearn-color-unfitted-level-3);\n",
       "}\n",
       "\n",
       ".sk-estimator-doc-link.fitted span {\n",
       "  /* fitted */\n",
       "  background: var(--sklearn-color-fitted-level-0);\n",
       "  border: var(--sklearn-color-fitted-level-3);\n",
       "}\n",
       "\n",
       ".sk-estimator-doc-link:hover span {\n",
       "  display: block;\n",
       "}\n",
       "\n",
       "/* \"?\"-specific style due to the `<a>` HTML tag */\n",
       "\n",
       "#sk-container-id-2 a.estimator_doc_link {\n",
       "  float: right;\n",
       "  font-size: 1rem;\n",
       "  line-height: 1em;\n",
       "  font-family: monospace;\n",
       "  background-color: var(--sklearn-color-background);\n",
       "  border-radius: 1rem;\n",
       "  height: 1rem;\n",
       "  width: 1rem;\n",
       "  text-decoration: none;\n",
       "  /* unfitted */\n",
       "  color: var(--sklearn-color-unfitted-level-1);\n",
       "  border: var(--sklearn-color-unfitted-level-1) 1pt solid;\n",
       "}\n",
       "\n",
       "#sk-container-id-2 a.estimator_doc_link.fitted {\n",
       "  /* fitted */\n",
       "  border: var(--sklearn-color-fitted-level-1) 1pt solid;\n",
       "  color: var(--sklearn-color-fitted-level-1);\n",
       "}\n",
       "\n",
       "/* On hover */\n",
       "#sk-container-id-2 a.estimator_doc_link:hover {\n",
       "  /* unfitted */\n",
       "  background-color: var(--sklearn-color-unfitted-level-3);\n",
       "  color: var(--sklearn-color-background);\n",
       "  text-decoration: none;\n",
       "}\n",
       "\n",
       "#sk-container-id-2 a.estimator_doc_link.fitted:hover {\n",
       "  /* fitted */\n",
       "  background-color: var(--sklearn-color-fitted-level-3);\n",
       "}\n",
       "</style><div id=\"sk-container-id-2\" class=\"sk-top-container\"><div class=\"sk-text-repr-fallback\"><pre>RandomForestClassifier(class_weight=&#x27;balanced_subsample&#x27;, criterion=&#x27;log_loss&#x27;,\n",
       "                       max_features=&#x27;log2&#x27;, n_estimators=230,\n",
       "                       random_state=1616)</pre><b>In a Jupyter environment, please rerun this cell to show the HTML representation or trust the notebook. <br />On GitHub, the HTML representation is unable to render, please try loading this page with nbviewer.org.</b></div><div class=\"sk-container\" hidden><div class=\"sk-item\"><div class=\"sk-estimator fitted sk-toggleable\"><input class=\"sk-toggleable__control sk-hidden--visually\" id=\"sk-estimator-id-2\" type=\"checkbox\" checked><label for=\"sk-estimator-id-2\" class=\"sk-toggleable__label fitted sk-toggleable__label-arrow\"><div><div>RandomForestClassifier</div></div><div><a class=\"sk-estimator-doc-link fitted\" rel=\"noreferrer\" target=\"_blank\" href=\"https://scikit-learn.org/1.6/modules/generated/sklearn.ensemble.RandomForestClassifier.html\">?<span>Documentation for RandomForestClassifier</span></a><span class=\"sk-estimator-doc-link fitted\">i<span>Fitted</span></span></div></label><div class=\"sk-toggleable__content fitted\"><pre>RandomForestClassifier(class_weight=&#x27;balanced_subsample&#x27;, criterion=&#x27;log_loss&#x27;,\n",
       "                       max_features=&#x27;log2&#x27;, n_estimators=230,\n",
       "                       random_state=1616)</pre></div> </div></div></div></div>"
      ],
      "text/plain": [
       "RandomForestClassifier(class_weight='balanced_subsample', criterion='log_loss',\n",
       "                       max_features='log2', n_estimators=230,\n",
       "                       random_state=1616)"
      ]
     },
     "execution_count": 132,
     "metadata": {},
     "output_type": "execute_result"
    }
   ],
   "source": [
    "best_rf"
   ]
  },
  {
   "cell_type": "code",
   "execution_count": 126,
   "id": "978a4402",
   "metadata": {},
   "outputs": [
    {
     "data": {
      "text/plain": [
       "['best_random_forest_model.pkl']"
      ]
     },
     "execution_count": 126,
     "metadata": {},
     "output_type": "execute_result"
    }
   ],
   "source": [
    "import joblib\n",
    "\n",
    "# Simpan model terbaik ke file\n",
    "joblib.dump(best_rf, 'best_random_forest_model.pkl')\n"
   ]
  },
  {
   "cell_type": "markdown",
   "id": "ca9baa56",
   "metadata": {},
   "source": [
    "<h1>Uji Model Menggunakan Test Set</h1>"
   ]
  },
  {
   "cell_type": "code",
   "execution_count": null,
   "id": "cd44f579",
   "metadata": {},
   "outputs": [],
   "source": [
    "# Buat pipeline\n",
    "preprocess_pipeline = Pipeline(steps=[\n",
    "    ('preprocessor', preprocessor)\n",
    "])"
   ]
  },
  {
   "cell_type": "code",
   "execution_count": 127,
   "id": "b75bc724",
   "metadata": {},
   "outputs": [],
   "source": [
    "model = joblib.load('best_random_forest_model.pkl')"
   ]
  },
  {
   "cell_type": "code",
   "execution_count": 128,
   "id": "a7966c4e",
   "metadata": {},
   "outputs": [
    {
     "name": "stdout",
     "output_type": "stream",
     "text": [
      "              precision    recall  f1-score   support\n",
      "\n",
      "           0       0.90      0.54      0.67     10498\n",
      "           1       0.53      0.89      0.67      6147\n",
      "\n",
      "    accuracy                           0.67     16645\n",
      "   macro avg       0.71      0.71      0.67     16645\n",
      "weighted avg       0.76      0.67      0.67     16645\n",
      "\n"
     ]
    }
   ],
   "source": [
    "X_test_processed = preprocess_pipeline.transform(X_test)\n",
    "\n",
    "y_proba_test = model.predict_proba(X_test_processed)[:, 1]\n",
    "y_pred_test = (y_proba_test >= 0.3).astype(int)\n",
    "\n",
    "from sklearn.metrics import classification_report\n",
    "\n",
    "print(classification_report(y_test, y_pred_test))\n",
    "\n",
    "\n"
   ]
  },
  {
   "cell_type": "code",
   "execution_count": 130,
   "id": "0d05a42c",
   "metadata": {},
   "outputs": [
    {
     "data": {
      "image/png": "[encoded data removed]",
      "text/plain": [
       "<Figure size 600x400 with 2 Axes>"
      ]
     },
     "metadata": {},
     "output_type": "display_data"
    }
   ],
   "source": [
    "from sklearn.metrics import confusion_matrix\n",
    "import matplotlib.pyplot as plt\n",
    "import seaborn as sns\n",
    "\n",
    "# Hitung confusion matrix\n",
    "cm = confusion_matrix(y_test, y_pred_test)\n",
    "\n",
    "# Visualisasikan confusion matrix\n",
    "plt.figure(figsize=(6, 4))\n",
    "sns.heatmap(cm, annot=True, fmt='d', cmap='Blues', xticklabels=['Not Canceled', 'Canceled'], yticklabels=['Not Canceled', 'Canceled'])\n",
    "plt.xlabel('Predicted Label')\n",
    "plt.ylabel('True Label')\n",
    "plt.title('Confusion Matrix on Test Set (Threshold = 0.3)')\n",
    "plt.tight_layout()\n",
    "plt.show()\n"
   ]
  },
  {
   "cell_type": "code",
   "execution_count": 131,
   "id": "96455cdd",
   "metadata": {},
   "outputs": [
    {
     "data": {
      "image/png": "[encoded data removed]",
      "text/plain": [
       "<Figure size 600x400 with 2 Axes>"
      ]
     },
     "metadata": {},
     "output_type": "display_data"
    }
   ],
   "source": [
    "from sklearn.metrics import confusion_matrix\n",
    "import matplotlib.pyplot as plt\n",
    "import seaborn as sns\n",
    "import numpy as np\n",
    "\n",
    "# Hitung confusion matrix\n",
    "cm = confusion_matrix(y_test, y_pred_test)\n",
    "cm_percent = cm / cm.sum() * 100  # hitung persentase dari total\n",
    "\n",
    "# Buat label gabungan: jumlah & persentase\n",
    "labels = np.array([\n",
    "    [f\"{cm[0,0]} ({cm_percent[0,0]:.1f}%)\", f\"{cm[0,1]} ({cm_percent[0,1]:.1f}%)\"],\n",
    "    [f\"{cm[1,0]} ({cm_percent[1,0]:.1f}%)\", f\"{cm[1,1]} ({cm_percent[1,1]:.1f}%)\"]\n",
    "])\n",
    "\n",
    "# Visualisasikan\n",
    "plt.figure(figsize=(6, 4))\n",
    "sns.heatmap(cm, annot=labels, fmt='', cmap='Blues', xticklabels=['Not Canceled', 'Canceled'], yticklabels=['Not Canceled', 'Canceled'])\n",
    "plt.xlabel('Predicted Label')\n",
    "plt.ylabel('True Label')\n",
    "plt.title('Confusion Matrix on Test Set with Percentages (Threshold = 0.3)')\n",
    "plt.tight_layout()\n",
    "plt.show()\n"
   ]
  }
 ],
 "metadata": {
  "kernelspec": {
   "display_name": "Python 3",
   "language": "python",
   "name": "python3"
  },
  "language_info": {
   "codemirror_mode": {
    "name": "ipython",
    "version": 3
   },
   "file_extension": ".py",
   "mimetype": "text/x-python",
   "name": "python",
   "nbconvert_exporter": "python",
   "pygments_lexer": "ipython3",
   "version": "3.11.11"
  }
 },
 "nbformat": 4,
 "nbformat_minor": 5
}
